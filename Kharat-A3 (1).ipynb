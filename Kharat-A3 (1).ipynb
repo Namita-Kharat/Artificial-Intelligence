{
 "cells": [
  {
   "cell_type": "markdown",
   "metadata": {},
   "source": [
    "# A3: A\\*, IDS, and Effective Branching Factor"
   ]
  },
  {
   "cell_type": "markdown",
   "metadata": {},
   "source": [
    "**Namita Kharat**"
   ]
  },
  {
   "cell_type": "markdown",
   "metadata": {},
   "source": [
    "For this assignment, implement the Recursive Best-First Search\n",
    "implementation of the A\\* algorithm given in class.  Name this function `aStarSearch`.  Also in this notebook include your `iterativeDeepeningSearch` functions.  Define a new function named `ebf` that returns an estimate of the effective\n",
    "branching factor for a search algorithm applied to a search problem.\n",
    "\n",
    "So, the required functions are\n",
    "\n",
    "   - `aStarSearch(startState, actionsF, takeActionF, goalTestF, hF)`\n",
    "   - `iterativeDeepeningSearch(startState, goalState, actionsF, takeActionF, maxDepth)`\n",
    "   - `ebf(nNodes, depth, precision=0.01)`, returns the effective branching factor, given the number of nodes expanded and depth reached during a search.\n",
    "\n",
    "Apply `iterativeDeepeningSearch` and `aStarSearch` to several eight-tile sliding puzzle\n",
    "problems. For this you must include your implementations of these functions, from Assignment 2:\n",
    "\n",
    "  * `actionsF_8p(state)`: returns a list of up to four valid actions that can be applied in `state`. With each action include a step cost of 1. For example, if all four actions are possible from this state, return [('left', 1), ('right', 1), ('up', 1), ('down', 1)].\n",
    "  * `takeActionF_8p(state, action)`: return the state that results from applying `action` in `state` and the cost of the one step,\n",
    "  \n",
    "plus the following function for the eight-tile puzzle:\n",
    "\n",
    "  * `goalTestF_8p(state, goal)`\n",
    "  \n",
    "Compare their results by displayng\n",
    "solution path depth, number of nodes \n",
    "generated, and the effective branching factor, and discuss the results.  Do this by defining the following function that prints the table as shown in the example below.\n",
    "\n",
    "   - runExperiment(goalState1, goalState2, goalState3, [h1, h2, h3])\n",
    "   \n",
    "Define this function so it takes any number of $h$ functions in the list that is the fourth argument."
   ]
  },
  {
   "cell_type": "markdown",
   "metadata": {},
   "source": [
    "## Heuristic Functions\n",
    "\n",
    "For `aStarSearch` use the following two heuristic functions, plus one more of your own design, for a total of three heuristic functions.\n",
    "\n",
    "  * `h1_8p(state, goal)`: $h(state, goal) = 0$, for all states $state$ and all goal states $goal$,\n",
    "  * `h2_8p(state, goal)`: $h(state, goal) = m$, where $m$ is the Manhattan distance that the blank is from its goal position,\n",
    "  * `h3_8p(state, goal)`: $h(state, goal) = ?$, that you define.  It must be admissible, and not constant for all states."
   ]
  },
  {
   "cell_type": "markdown",
   "metadata": {},
   "source": [
    "## Comparison"
   ]
  },
  {
   "cell_type": "markdown",
   "metadata": {},
   "source": [
    "Apply all four algorithms (`iterativeDeepeningSearch` plus `aStarSearch` with the three heuristic\n",
    "functions) to three eight-tile puzzle problems with start state\n",
    "\n",
    "$$\n",
    "\\begin{array}{ccc}\n",
    "1 & 2 & 3\\\\\n",
    "4 & 0 & 5\\\\\n",
    "6 & 7 & 8\n",
    "\\end{array}\n",
    "$$\n",
    "\n",
    "and these three goal states.\n",
    "\n",
    "$$\n",
    "\\begin{array}{ccccccccccc}\n",
    "1 & 2 & 3  & ~~~~ & 1 & 2 & 3  &  ~~~~ & 1 & 0 &  3\\\\\n",
    "4 & 0 & 5  & & 4 & 5 & 8  & & 4 & 5 & 8\\\\\n",
    "6 & 7 & 8 &  & 6 & 0 & 7  & & 2 & 6 & 7\n",
    "\\end{array}\n",
    "$$"
   ]
  },
  {
   "cell_type": "markdown",
   "metadata": {},
   "source": [
    "Print a well-formatted table like the following.  Try to match this\n",
    "format. If you have time, you might consider learning a bit about the `DataFrame` class in the `pandas` package.  When displayed in jupyter notebooks, `pandas.DataFrame` objects are nicely formatted in html.\n",
    "\n",
    "           [1, 2, 3, 4, 0, 5, 6, 7, 8]    [1, 2, 3, 4, 5, 8, 6, 0, 7]    [1, 0, 3, 4, 5, 8, 2, 6, 7] \n",
    "    Algorithm    Depth  Nodes  EBF              Depth  Nodes  EBF              Depth  Nodes  EBF          \n",
    "         IDS       0      0  0.000                3     43  3.086               11 225850  2.954         \n",
    "        A*h1       0      0  0.000                3    116  4.488               11 643246  3.263         \n",
    "        A*h2       0      0  0.000                3     51  3.297               11 100046  2.733         \n",
    "\n",
    "Of course you will have one more line for `h3`."
   ]
  },
  {
   "cell_type": "markdown",
   "metadata": {},
   "source": [
    "Insert your functions here."
   ]
  },
  {
   "cell_type": "markdown",
   "metadata": {},
   "source": [
    "## Effective Branching Factor"
   ]
  },
  {
   "cell_type": "markdown",
   "metadata": {},
   "source": [
    "Let `N` be the total number of nodes generated by A* and `d` be the solution depth, then `b` is the branching factor that a uniform tree of depth `d` would have to have in order to contain `N+1` nodes. Thus,\n",
    "$$N+1=1+b+(b)^2+\\cdots+(b)^{d+1}$$\n",
    "**Effective Branching Factor** is used to characterize the quality of a heuristic. A well-designed heuristic would have a value of `b` close to 1."
   ]
  },
  {
   "cell_type": "code",
   "execution_count": 8,
   "metadata": {},
   "outputs": [],
   "source": [
    "def ebf(nNodes, depth, precision=0.01):\n",
    "    '''Uncomment the print statements to view step by step calculation for Effective Branching Factor'''\n",
    "    lowerEstimate=1                                   # Initialize a low value\n",
    "    upperEstimate=nNodes                              # Initialize a high value  \n",
    "    #print (lowerEstimate,upperEstimate)\n",
    "    minimum_range = upperEstimate\n",
    "    if nNodes <= 0 and depth == 0:                    # Return zero if number_of_nodes are 0\n",
    "        return 0\n",
    "    if nNodes == 1 and depth == 0:                    # Return one if number_of_nodes are 0\n",
    "        return 1\n",
    "    while lowerEstimate <= upperEstimate:\n",
    "        b = (upperEstimate+lowerEstimate)/2           # Calculate the average\n",
    "        if b != 1:\n",
    "            estimate_value = (1-(b**(depth+1)))/(1-b)\n",
    "        range_value= abs(estimate_value-nNodes)\n",
    "        if range_value <= minimum_range:               # Check if the difference is within minimum range\n",
    "            minimum_range = range_value                # Update minimum_range with the difference\n",
    "            branching_factor = b\n",
    "        if range_value <= precision:                   # Return Branching Factor if the difference is less than precision\n",
    "            return branching_factor\n",
    "        if estimate_value < nNodes:                    # Modify the lower and upper estimates\n",
    "            lowerEstimate = b\n",
    "        elif estimate_value > nNodes:\n",
    "            upperEstimate = b\n",
    "        #print (lowerEstimate,upperEstimate)"
   ]
  },
  {
   "cell_type": "markdown",
   "metadata": {},
   "source": [
    "## Description"
   ]
  },
  {
   "cell_type": "markdown",
   "metadata": {},
   "source": [
    "In order to calculate EBF, let $N$ be the number of nodes, $d$ be the depth and $b$ be the branching factor. A high and low values are selected and an average is calculated to provide a guess for $b$. For each new guess at $b$, calculate $$\\frac{1-b^{d+1}}{1-b}$$ and compare the result with the actual number of nodes $N$. Based on the comparison result, update high and low values accordingly with the calculated average value. Continue until the range of possible values of $b$ are within a desired precision, such as $0.01$."
   ]
  },
  {
   "cell_type": "markdown",
   "metadata": {},
   "source": [
    "First, some example output for the ebf function.  During execution, this example shows debugging output which is the low and high values passed into a recursive helper function."
   ]
  },
  {
   "cell_type": "code",
   "execution_count": 2,
   "metadata": {},
   "outputs": [
    {
     "name": "stdout",
     "output_type": "stream",
     "text": [
      "1 10\n",
      "1 5.5\n",
      "1 3.25\n",
      "1 2.125\n",
      "1.5625 2.125\n",
      "1.5625 1.84375\n",
      "1.5625 1.703125\n",
      "1.6328125 1.703125\n",
      "1.6328125 1.66796875\n",
      "1.650390625 1.66796875\n",
      "1.6591796875 1.66796875\n",
      "1.6591796875 1.66357421875\n"
     ]
    },
    {
     "data": {
      "text/plain": [
       "1.661376953125"
      ]
     },
     "execution_count": 2,
     "metadata": {},
     "output_type": "execute_result"
    }
   ],
   "source": [
    "ebf(10, 3)"
   ]
  },
  {
   "cell_type": "markdown",
   "metadata": {},
   "source": [
    "The smallest argument values should be a depth of 0, and 1 node."
   ]
  },
  {
   "cell_type": "code",
   "execution_count": 3,
   "metadata": {},
   "outputs": [
    {
     "name": "stdout",
     "output_type": "stream",
     "text": [
      "1 1\n"
     ]
    },
    {
     "data": {
      "text/plain": [
       "1"
      ]
     },
     "execution_count": 3,
     "metadata": {},
     "output_type": "execute_result"
    }
   ],
   "source": [
    "ebf(1, 0)"
   ]
  },
  {
   "cell_type": "code",
   "execution_count": 4,
   "metadata": {},
   "outputs": [
    {
     "name": "stdout",
     "output_type": "stream",
     "text": [
      "1 2\n",
      "1 1.5\n",
      "1 1.25\n",
      "1 1.125\n",
      "1 1.0625\n",
      "1 1.03125\n",
      "1 1.015625\n"
     ]
    },
    {
     "data": {
      "text/plain": [
       "1.0078125"
      ]
     },
     "execution_count": 4,
     "metadata": {},
     "output_type": "execute_result"
    }
   ],
   "source": [
    "ebf(2, 1)"
   ]
  },
  {
   "cell_type": "code",
   "execution_count": 5,
   "metadata": {},
   "outputs": [
    {
     "name": "stdout",
     "output_type": "stream",
     "text": [
      "1 2\n",
      "1 1.5\n",
      "1 1.25\n",
      "1 1.125\n",
      "1 1.0625\n",
      "1 1.03125\n",
      "1 1.015625\n",
      "1 1.0078125\n",
      "1 1.00390625\n",
      "1 1.001953125\n",
      "1 1.0009765625\n",
      "1 1.00048828125\n",
      "1 1.000244140625\n",
      "1 1.0001220703125\n",
      "1 1.00006103515625\n",
      "1 1.000030517578125\n",
      "1 1.0000152587890625\n",
      "1 1.0000076293945312\n",
      "1 1.0000038146972656\n",
      "1 1.0000019073486328\n"
     ]
    },
    {
     "data": {
      "text/plain": [
       "1.0000009536743164"
      ]
     },
     "execution_count": 5,
     "metadata": {},
     "output_type": "execute_result"
    }
   ],
   "source": [
    "ebf(2, 1, precision=0.000001)"
   ]
  },
  {
   "cell_type": "code",
   "execution_count": 6,
   "metadata": {},
   "outputs": [
    {
     "name": "stdout",
     "output_type": "stream",
     "text": [
      "1 200000\n",
      "1 100000.5\n",
      "1 50000.75\n",
      "1 25000.875\n",
      "1 12500.9375\n",
      "1 6250.96875\n",
      "1 3125.984375\n",
      "1 1563.4921875\n",
      "1 782.24609375\n",
      "1 391.623046875\n",
      "1 196.3115234375\n",
      "1 98.65576171875\n",
      "1 49.827880859375\n",
      "1 25.4139404296875\n",
      "1 13.20697021484375\n",
      "7.103485107421875 13.20697021484375\n",
      "10.155227661132812 13.20697021484375\n",
      "10.155227661132812 11.681098937988281\n",
      "10.918163299560547 11.681098937988281\n",
      "10.918163299560547 11.299631118774414\n",
      "11.10889720916748 11.299631118774414\n",
      "11.204264163970947 11.299631118774414\n",
      "11.25194764137268 11.299631118774414\n",
      "11.25194764137268 11.275789380073547\n",
      "11.263868510723114 11.275789380073547\n",
      "11.26982894539833 11.275789380073547\n",
      "11.272809162735939 11.275789380073547\n",
      "11.274299271404743 11.275789380073547\n",
      "11.275044325739145 11.275789380073547\n",
      "11.275416852906346 11.275789380073547\n",
      "11.275416852906346 11.275603116489947\n",
      "11.275509984698147 11.275603116489947\n",
      "11.275556550594047 11.275603116489947\n",
      "11.275579833541997 11.275603116489947\n",
      "11.275591475015972 11.275603116489947\n",
      "11.275591475015972 11.27559729575296\n",
      "11.275594385384466 11.27559729575296\n",
      "11.275595840568712 11.27559729575296\n",
      "11.275596568160836 11.27559729575296\n"
     ]
    },
    {
     "data": {
      "text/plain": [
       "11.275596931956898"
      ]
     },
     "execution_count": 6,
     "metadata": {},
     "output_type": "execute_result"
    }
   ],
   "source": [
    "ebf(200000, 5)"
   ]
  },
  {
   "cell_type": "code",
   "execution_count": 7,
   "metadata": {},
   "outputs": [
    {
     "name": "stdout",
     "output_type": "stream",
     "text": [
      "1 200000\n",
      "1 100000.5\n",
      "1 50000.75\n",
      "1 25000.875\n",
      "1 12500.9375\n",
      "1 6250.96875\n",
      "1 3125.984375\n",
      "1 1563.4921875\n",
      "1 782.24609375\n",
      "1 391.623046875\n",
      "1 196.3115234375\n",
      "1 98.65576171875\n",
      "1 49.827880859375\n",
      "1 25.4139404296875\n",
      "1 13.20697021484375\n",
      "1 7.103485107421875\n",
      "1 4.0517425537109375\n",
      "1 2.5258712768554688\n",
      "1 1.7629356384277344\n",
      "1 1.3814678192138672\n",
      "1.1907339096069336 1.3814678192138672\n",
      "1.1907339096069336 1.2861008644104004\n",
      "1.1907339096069336 1.238417387008667\n",
      "1.2145756483078003 1.238417387008667\n",
      "1.2264965176582336 1.238417387008667\n",
      "1.2324569523334503 1.238417387008667\n",
      "1.2324569523334503 1.2354371696710587\n",
      "1.2339470610022545 1.2354371696710587\n",
      "1.2346921153366566 1.2354371696710587\n",
      "1.2346921153366566 1.2350646425038576\n",
      "1.2346921153366566 1.234878378920257\n",
      "1.2347852471284568 1.234878378920257\n",
      "1.2347852471284568 1.234831813024357\n",
      "1.234808530076407 1.234831813024357\n",
      "1.234808530076407 1.234820171550382\n",
      "1.2348143508133944 1.234820171550382\n",
      "1.2348172611818882 1.234820171550382\n",
      "1.234818716366135 1.234820171550382\n",
      "1.234818716366135 1.2348194439582585\n",
      "1.2348190801621968 1.2348194439582585\n",
      "1.2348190801621968 1.2348192620602276\n",
      "1.2348191711112122 1.2348192620602276\n",
      "1.23481921658572 1.2348192620602276\n",
      "1.2348192393229738 1.2348192620602276\n",
      "1.2348192393229738 1.2348192506916007\n",
      "1.2348192450072872 1.2348192506916007\n",
      "1.234819247849444 1.2348192506916007\n"
     ]
    },
    {
     "data": {
      "text/plain": [
       "1.2348192492705223"
      ]
     },
     "execution_count": 7,
     "metadata": {},
     "output_type": "execute_result"
    }
   ],
   "source": [
    "ebf(200000, 50)"
   ]
  },
  {
   "cell_type": "markdown",
   "metadata": {},
   "source": [
    "## Iterative Deepening Search"
   ]
  },
  {
   "cell_type": "code",
   "execution_count": 9,
   "metadata": {},
   "outputs": [],
   "source": [
    "class IDS:\n",
    "    def __init__(self):\n",
    "        self.nodes=0\n",
    "\n",
    "    def depthLimitedSearch(self,state, goalState, actionsF, takeActionF, depthLimit):\n",
    "        if state == goalState:\n",
    "            return []\n",
    "        if depthLimit == 0:\n",
    "            return \"cutoff\"\n",
    "        cutoffOccurred = False\n",
    "        for action in actionsF(state):\n",
    "            self.nodes+=1\n",
    "            childState = takeActionF(state, action)[0]\n",
    "            result = self.depthLimitedSearch(childState, goalState, actionsF, takeActionF, depthLimit-1)\n",
    "            if result == 'cutoff':\n",
    "                cutoffOccurred = True\n",
    "            elif result is not 'failure':\n",
    "                result=[childState]+result\n",
    "                return result\n",
    "        if cutoffOccurred:\n",
    "            return 'cutoff'\n",
    "        else:\n",
    "            return 'failure'\n",
    "\n",
    "    def iterativeDeepeningSearch(self,startState, goalState, actionsF, takeActionF, maxDepth):\n",
    "        for depth in range(maxDepth):\n",
    "            result = self.depthLimitedSearch(startState, goalState, actionsF, takeActionF, depth)\n",
    "            if result is 'failure':\n",
    "                return 'failure'\n",
    "            if result is not 'cutoff':\n",
    "                #Add startState to front of solution path, in result, returned by depthLimitedSearch\n",
    "                result=[startState]+result\n",
    "                return result\n",
    "        return 'cutoff'"
   ]
  },
  {
   "cell_type": "code",
   "execution_count": 10,
   "metadata": {},
   "outputs": [],
   "source": [
    "#Method to create an object for class IDS and return result for Iterative Deepening Search\n",
    "def iterativeDeepeningSearch(startState, goalState, actionsF, takeActionF, maxDepth):\n",
    "    idsearch = IDS()                                                                     #Object instantiation\n",
    "    result = idsearch.iterativeDeepeningSearch(startState, goalState, actionsF, takeActionF, maxDepth)\n",
    "    return result"
   ]
  },
  {
   "cell_type": "markdown",
   "metadata": {},
   "source": [
    "## A* Search"
   ]
  },
  {
   "cell_type": "markdown",
   "metadata": {},
   "source": [
    "A* is an informed search algorithm. It's aim is to find a path to the given goal node having the smallest cost (least distance travelled). It evaluates nodes by combining $g(n)$, the cost to reach the node, and $h(n)$, the cost to get from the node to the goal: $$f(n)=g(n)+h(n)$$ Since, $g(n)$ gives the path cost from start node to node $n$ and $h(n)$ is the estimated cost of the cheapest path from $n$ to the goal, then $f(n)=$ estimated cost of the cheapest solution through $n$"
   ]
  },
  {
   "cell_type": "code",
   "execution_count": 11,
   "metadata": {},
   "outputs": [],
   "source": [
    "class Node:\n",
    "    def __init__(self, state, f=0, g=0 ,h=0):\n",
    "        self.state = state\n",
    "        self.f = f\n",
    "        self.g = g\n",
    "        self.h = h\n",
    "    def __repr__(self):\n",
    "        return \"Node(\" + repr(self.state) + \", f=\" + repr(self.f) + \\\n",
    "               \", g=\" + repr(self.g) + \", h=\" + repr(self.h) + \")\"\n",
    "\n",
    "class AStar:    \n",
    "    def __init__(self):\n",
    "        self.nodes=0  \n",
    "     \n",
    "    def aStarSearch(self,startState, actionsF, takeActionF, goalTestF, hF):\n",
    "        h = hF(startState)\n",
    "        startNode = Node(state=startState, f=0+h, g=0, h=h)\n",
    "        return self.aStarSearchHelper(startNode, actionsF, takeActionF, goalTestF, hF, float('inf'))\n",
    "\n",
    "    def aStarSearchHelper(self,parentNode, actionsF, takeActionF, goalTestF, hF, fmax):\n",
    "        if goalTestF(parentNode.state):\n",
    "            return ([parentNode.state], parentNode.g)\n",
    "        ## Construct list of children nodes with f, g, and h values\n",
    "        actions = actionsF(parentNode.state)\n",
    "        if not actions:\n",
    "            return (\"failure\", float('inf'))\n",
    "        children = []\n",
    "        for action in actions:\n",
    "            self.nodes+=1\n",
    "            (childState,stepCost) = takeActionF(parentNode.state, action)\n",
    "            h = hF(childState)\n",
    "            g = parentNode.g + stepCost\n",
    "            f = max(h+g, parentNode.f)\n",
    "            childNode = Node(state=childState, f=f, g=g, h=h)\n",
    "            children.append(childNode)\n",
    "        while True:\n",
    "            # find best child\n",
    "            children.sort(key = lambda n: n.f) # sort by f value\n",
    "            bestChild = children[0]\n",
    "            if bestChild.f > fmax:\n",
    "                return (\"failure\",bestChild.f)\n",
    "            # next lowest f value\n",
    "            alternativef = children[1].f if len(children) > 1 else float('inf')\n",
    "            # expand best child, reassign its f value to be returned value\n",
    "            result,bestChild.f = self.aStarSearchHelper(bestChild, actionsF, takeActionF, goalTestF,\n",
    "                                                hF, min(fmax,alternativef))\n",
    "            if result is not \"failure\":     \n",
    "                result.insert(0,parentNode.state)   \n",
    "                return (result, bestChild.f)        "
   ]
  },
  {
   "cell_type": "code",
   "execution_count": 12,
   "metadata": {},
   "outputs": [],
   "source": [
    "#Method to create an object for class IDS and return result for A* Search\n",
    "def aStarSearch(startState, actionsF, takeActionF, goalTestF, hF):\n",
    "    asearch = AStar()                                                               #Object instantiation\n",
    "    result = asearch.aStarSearch(startState, actionsF, takeActionF, goalTestF, hF)\n",
    "    return result"
   ]
  },
  {
   "cell_type": "markdown",
   "metadata": {},
   "source": [
    "## Description"
   ]
  },
  {
   "cell_type": "markdown",
   "metadata": {},
   "source": [
    "Here, we have implemented Recursive Best-First Search(RBFS) algorithm, which is A* in a recursive, iterative-deepening form, where depth is given by the $f$ value. The algorithm keeps track of the $f$ value of the best alternative path available from any ancestor of the current node. If the crrent node exceeds this limit, the recursion unwinds back to the alternative path. Recursively, RBFS replaces the $f$ value of each node along the path with the best $f$ value of its children. This is repeated until goal is found. "
   ]
  },
  {
   "cell_type": "markdown",
   "metadata": {},
   "source": [
    "Here is a simple example using our usual simple graph search."
   ]
  },
  {
   "cell_type": "code",
   "execution_count": 13,
   "metadata": {},
   "outputs": [],
   "source": [
    "def actionsF_simple(state):\n",
    "    succs = {'a': ['b', 'c'], 'b':['a'], 'c':['h'], 'h':['i'], 'i':['j', 'k', 'l'], 'k':['z']}\n",
    "    return [(s, 1) for s in succs.get(state, [])]\n",
    "\n",
    "def takeActionF_simple(state, action):\n",
    "    return action\n",
    "\n",
    "def goalTestF_simple(state, goal):\n",
    "    return state == goal\n",
    "\n",
    "def h_simple(state, goal):\n",
    "    return 1"
   ]
  },
  {
   "cell_type": "code",
   "execution_count": 14,
   "metadata": {},
   "outputs": [
    {
     "data": {
      "text/plain": [
       "[('b', 1), ('c', 1)]"
      ]
     },
     "execution_count": 14,
     "metadata": {},
     "output_type": "execute_result"
    }
   ],
   "source": [
    "actions = actionsF_simple('a')\n",
    "actions"
   ]
  },
  {
   "cell_type": "code",
   "execution_count": 15,
   "metadata": {},
   "outputs": [
    {
     "data": {
      "text/plain": [
       "('b', 1)"
      ]
     },
     "execution_count": 15,
     "metadata": {},
     "output_type": "execute_result"
    }
   ],
   "source": [
    "takeActionF_simple('a', actions[0])"
   ]
  },
  {
   "cell_type": "code",
   "execution_count": 16,
   "metadata": {},
   "outputs": [
    {
     "data": {
      "text/plain": [
       "True"
      ]
     },
     "execution_count": 16,
     "metadata": {},
     "output_type": "execute_result"
    }
   ],
   "source": [
    "goalTestF_simple('a', 'a')"
   ]
  },
  {
   "cell_type": "code",
   "execution_count": 17,
   "metadata": {},
   "outputs": [
    {
     "data": {
      "text/plain": [
       "1"
      ]
     },
     "execution_count": 17,
     "metadata": {},
     "output_type": "execute_result"
    }
   ],
   "source": [
    "h_simple('a', 'z')"
   ]
  },
  {
   "cell_type": "code",
   "execution_count": 18,
   "metadata": {},
   "outputs": [
    {
     "data": {
      "text/plain": [
       "['a', 'c', 'h', 'i', 'k', 'z']"
      ]
     },
     "execution_count": 18,
     "metadata": {},
     "output_type": "execute_result"
    }
   ],
   "source": [
    "iterativeDeepeningSearch('a', 'z', actionsF_simple, takeActionF_simple, 10)"
   ]
  },
  {
   "cell_type": "code",
   "execution_count": 19,
   "metadata": {},
   "outputs": [
    {
     "data": {
      "text/plain": [
       "(['a', 'c', 'h', 'i', 'k', 'z'], 5)"
      ]
     },
     "execution_count": 19,
     "metadata": {},
     "output_type": "execute_result"
    }
   ],
   "source": [
    "aStarSearch('a',actionsF_simple, takeActionF_simple,\n",
    "            lambda s: goalTestF_simple(s, 'z'),\n",
    "            lambda s: h_simple(s, 'z'))"
   ]
  },
  {
   "cell_type": "markdown",
   "metadata": {},
   "source": [
    "## 8 Tile Puzzle Functions"
   ]
  },
  {
   "cell_type": "markdown",
   "metadata": {},
   "source": [
    "Same code is used from Assignment 2 with following changes:\n",
    "1. actionsF_8p function returns list of valid actions and step cost of 1.\n",
    "2. takeActionF_8p function returns the step cost as well"
   ]
  },
  {
   "cell_type": "code",
   "execution_count": 20,
   "metadata": {},
   "outputs": [],
   "source": [
    "def findBlank_8p(startState):\n",
    "    nest1=startState[:3]\n",
    "    nest2=startState[3:6]\n",
    "    nest3=startState[6:9]\n",
    "    nestList=[nest1,nest2,nest3]                    #Nested List is created\n",
    "    for i in nestList:\n",
    "        if 0 in i:\n",
    "            return (nestList.index(i),i.index(0))\n",
    "\n",
    "def actionsF_8p(startState):\n",
    "    blankIndex=findBlank_8p(startState)            #Get the index of blank element\n",
    "    validActions=[]\n",
    "    if blankIndex[1] in (1,2):                     #Column of blank index is checked\n",
    "        validActions.append((\"left\",1))\n",
    "    if blankIndex[1] in (0,1):                     #Column of blank index is checked\n",
    "        validActions.append((\"right\",1))\n",
    "    if blankIndex[0] in (1,2):                     #Row of blank index is checked\n",
    "        validActions.append((\"up\",1))\n",
    "    if blankIndex[0] in (0,1):                     #Row of blank index is checked\n",
    "        validActions.append((\"down\",1))\n",
    "    return validActions\n",
    "\n",
    "def takeActionF_8p(startState, action):\n",
    "    nst1=startState[:3]\n",
    "    nst2=startState[3:6]\n",
    "    nst3=startState[6:9]\n",
    "    nstList=[nst1,nst2,nst3]\n",
    "    blankInd=findBlank_8p(startState)              #Get the index of blank element\n",
    "    if action[0]=='left':\n",
    "        newIndex=(blankInd[0],blankInd[1]-1)\n",
    "        nstList[newIndex[0]][newIndex[1]],nstList[blankInd[0]][blankInd[1]]=nstList[blankInd[0]][blankInd[1]],nstList[newIndex[0]][newIndex[1]]\n",
    "        result=[y for sublist in nstList for y in sublist]\n",
    "        return (result,1)\n",
    "    if action[0]=='right':\n",
    "        newIndex=(blankInd[0],blankInd[1]+1)\n",
    "        nstList[newIndex[0]][newIndex[1]],nstList[blankInd[0]][blankInd[1]]=nstList[blankInd[0]][blankInd[1]],nstList[newIndex[0]][newIndex[1]]\n",
    "        result=[y for sublist in nstList for y in sublist]\n",
    "        return (result,1)\n",
    "    if action[0]=='up':\n",
    "        newIndex=(blankInd[0]-1,blankInd[1])\n",
    "        nstList[newIndex[0]][newIndex[1]],nstList[blankInd[0]][blankInd[1]]=nstList[blankInd[0]][blankInd[1]],nstList[newIndex[0]][newIndex[1]]\n",
    "        result=[y for sublist in nstList for y in sublist]\n",
    "        return (result,1)\n",
    "    if action[0]=='down':\n",
    "        newIndex=(blankInd[0]+1,blankInd[1])\n",
    "        nstList[newIndex[0]][newIndex[1]],nstList[blankInd[0]][blankInd[1]]=nstList[blankInd[0]][blankInd[1]],nstList[newIndex[0]][newIndex[1]]\n",
    "        result=[y for sublist in nstList for y in sublist]\n",
    "        return (result,1)\n",
    "    \n",
    "def goalTestF_8p(state, goal):\n",
    "    return state == goal"
   ]
  },
  {
   "cell_type": "code",
   "execution_count": 21,
   "metadata": {},
   "outputs": [],
   "source": [
    "startState = [1, 0, 3, 4, 2, 5, 6, 7, 8]"
   ]
  },
  {
   "cell_type": "code",
   "execution_count": 22,
   "metadata": {},
   "outputs": [
    {
     "data": {
      "text/plain": [
       "(0, 1)"
      ]
     },
     "execution_count": 22,
     "metadata": {},
     "output_type": "execute_result"
    }
   ],
   "source": [
    "findBlank_8p(startState)"
   ]
  },
  {
   "cell_type": "code",
   "execution_count": 23,
   "metadata": {},
   "outputs": [
    {
     "data": {
      "text/plain": [
       "[('left', 1), ('right', 1), ('down', 1)]"
      ]
     },
     "execution_count": 23,
     "metadata": {},
     "output_type": "execute_result"
    }
   ],
   "source": [
    "actionsF_8p(startState)"
   ]
  },
  {
   "cell_type": "code",
   "execution_count": 24,
   "metadata": {},
   "outputs": [
    {
     "data": {
      "text/plain": [
       "([1, 2, 3, 4, 0, 5, 6, 7, 8], 1)"
      ]
     },
     "execution_count": 24,
     "metadata": {},
     "output_type": "execute_result"
    }
   ],
   "source": [
    "takeActionF_8p(startState, ('down',1))"
   ]
  },
  {
   "cell_type": "code",
   "execution_count": 25,
   "metadata": {},
   "outputs": [
    {
     "data": {
      "text/plain": [
       "[1, 2, 3, 4, 0, 5, 6, 7, 8]"
      ]
     },
     "execution_count": 25,
     "metadata": {},
     "output_type": "execute_result"
    }
   ],
   "source": [
    "goalState = takeActionF_8p(startState, ('down',1))[0]\n",
    "goalState"
   ]
  },
  {
   "cell_type": "code",
   "execution_count": 26,
   "metadata": {},
   "outputs": [
    {
     "data": {
      "text/plain": [
       "False"
      ]
     },
     "execution_count": 26,
     "metadata": {},
     "output_type": "execute_result"
    }
   ],
   "source": [
    "goalTestF_8p(startState, goalState)"
   ]
  },
  {
   "cell_type": "code",
   "execution_count": 27,
   "metadata": {},
   "outputs": [
    {
     "data": {
      "text/plain": [
       "[[1, 0, 3, 4, 2, 5, 6, 7, 8], [1, 2, 3, 4, 0, 5, 6, 7, 8]]"
      ]
     },
     "execution_count": 27,
     "metadata": {},
     "output_type": "execute_result"
    }
   ],
   "source": [
    "path = iterativeDeepeningSearch(startState, goalState, actionsF_8p, takeActionF_8p, 3)\n",
    "path"
   ]
  },
  {
   "cell_type": "markdown",
   "metadata": {},
   "source": [
    "## Heuristic Functions\n",
    "\n",
    "We have implemented the following heuristic functions:\n",
    "  * `h1_8p(state, goal)`: $h(state, goal) = 0$, for all states $state$ and all goal states $goal$,\n",
    "  * `h2_8p(state, goal)`: $h(state, goal) = m$, where $m$ is the Manhattan distance that the blank is from its goal position,\n",
    "  * `h3_8p(state, goal)`: $h(state, goal) = x$, where $x$ is the number of misplaced tiles. It is an admissible heuristic because any tile that is out of place must be moved at least once."
   ]
  },
  {
   "cell_type": "code",
   "execution_count": 28,
   "metadata": {},
   "outputs": [],
   "source": [
    "def h1_8p(state, goal):                      # Returns 0 for all states\n",
    "    return 0\n",
    "\n",
    "def h2_8p(state,goal):\n",
    "    startBlank = findBlank_8p(state)        # Get the blank index in the start state\n",
    "    goalBlank = findBlank_8p(goal)          # Get the blank index in the goal state\n",
    "    manhattanDistance = abs(startBlank[0]-goalBlank[0])+abs(startBlank[1]-goalBlank[1])\n",
    "    return manhattanDistance\n",
    "\n",
    "def h3_8p(state,goal):\n",
    "    totalMismatch=0\n",
    "    for x in state:\n",
    "        if state.index(x) != goal.index(x):     # Check whether nodes in start state and goal state are similar \n",
    "            totalMismatch+=1\n",
    "    return totalMismatch"
   ]
  },
  {
   "cell_type": "markdown",
   "metadata": {},
   "source": [
    "## Comparison Results"
   ]
  },
  {
   "cell_type": "code",
   "execution_count": 35,
   "metadata": {},
   "outputs": [],
   "source": [
    "import pandas as pd\n",
    "def runExperiment(goalState1,goalState2,goalState3,h):\n",
    "    # For Goal State 1\n",
    "    #Iterative Deepening\n",
    "    ids = IDS()                                       # Object Instantiation\n",
    "    result = ids.iterativeDeepeningSearch([1, 2, 3, 4, 0, 5, 6, 7, 8],\n",
    "                                                   goalState1,\n",
    "                                                   actionsF_8p, takeActionF_8p, 12)\n",
    "    idsDepth1 = len(result)-1\n",
    "    idsNodes1 = ids.nodes\n",
    "    idsEbf1 = ebf(idsNodes1, idsDepth1)              # Call Ebf Function\n",
    "    #print(\"IDS depth \", idsDepth1)\n",
    "    #print(\"IDS nodes\",idsNodes1)\n",
    "    #print(\"IDS ebf \",idsEbf1)\n",
    "    \n",
    "    #A* Search with h1 Heuristic function\n",
    "    astarH1 = AStar()                                  # Object Instantiation\n",
    "    resultH1 = astarH1.aStarSearch([1, 2, 3, 4, 0, 5, 6, 7, 8],\n",
    "                                         actionsF_8p, takeActionF_8p,\n",
    "                                         lambda s: goalTestF_8p(s, goalState1),\n",
    "                                         lambda s: h[0](s, goalState1))\n",
    "    astarH1Depth1 = resultH1[1]\n",
    "    astarH1Nodes1 = astarH1.nodes\n",
    "    astarH1Ebf1 = ebf(astarH1Nodes1, astarH1Depth1)    # Call Ebf Function\n",
    "    #print(\"A* h1 depth\",astarH1Depth1)\n",
    "    #print(\"A* h1 nodes\",astarH1Nodes1)\n",
    "    #print(\"A* h1 ebf\",astarH1Ebf1)\n",
    "    \n",
    "    # Similarly, calculate for different heuristic functions and goal state\n",
    "    #A* Search with h2 Heuristic function\n",
    "    astarH2 = AStar()\n",
    "    resultH2 = astarH2.aStarSearch([1, 2, 3, 4, 0, 5, 6, 7, 8],\n",
    "                                         actionsF_8p, takeActionF_8p,\n",
    "                                         lambda s: goalTestF_8p(s, goalState1),\n",
    "                                         lambda s: h[1](s, goalState1))\n",
    "    astarH2Depth1 = resultH2[1]\n",
    "    astarH2Nodes1 = astarH2.nodes\n",
    "    astarH2Ebf1 = ebf(astarH2Nodes1, astarH2Depth1)\n",
    "    #print(\"A* h2 depth\",astarH2Depth1)\n",
    "    #print(\"A* h2 nodes\",astarH2Nodes1)\n",
    "    #print(\"A* h2 ebf\",astarH2Ebf1)\n",
    "    \n",
    "    #A* Search with h3 Heuristic function\n",
    "    astarH3 = AStar()\n",
    "    resultH3 = astarH3.aStarSearch([1, 2, 3, 4, 0, 5, 6, 7, 8],\n",
    "                                         actionsF_8p, takeActionF_8p,\n",
    "                                         lambda s: goalTestF_8p(s, goalState1),\n",
    "                                         lambda s: h[2](s, goalState1))\n",
    "    astarH3Depth1 = resultH3[1]\n",
    "    astarH3Nodes1 = astarH3.nodes\n",
    "    astarH3Ebf1 = ebf(astarH3Nodes1, astarH3Depth1)\n",
    "    #print(\"A* h3 depth\",astarH3Depth1)\n",
    "    #print(\"A* h3 nodes\",astarH3Nodes1)\n",
    "    #print(\"A* h3 ebf\",astarH3Ebf1)\n",
    "    \n",
    "    # Goal State 2\n",
    "    #Iterative Deepening\n",
    "    ids = IDS()\n",
    "    result = ids.iterativeDeepeningSearch([1, 2, 3, 4, 0, 5, 6, 7, 8],\n",
    "                                                   goalState2,\n",
    "                                                   actionsF_8p, takeActionF_8p, 12)\n",
    "    idsDepth2 = len(result)-1\n",
    "    idsNodes2 = ids.nodes\n",
    "    idsEbf2 = ebf(idsNodes2, idsDepth2)\n",
    "    #print(\"IDS depth \", idsDepth2)\n",
    "    #print(\"IDS nodes\",idsNodes2)\n",
    "    #print(\"IDS ebf \",idsEbf2)\n",
    "    \n",
    "    #A* Search with h1 Heuristic function\n",
    "    astarH1 = AStar()\n",
    "    resultH1 = astarH1.aStarSearch([1, 2, 3, 4, 0, 5, 6, 7, 8],\n",
    "                                         actionsF_8p, takeActionF_8p,\n",
    "                                         lambda s: goalTestF_8p(s, goalState2),\n",
    "                                         lambda s: h[0](s, goalState2))\n",
    "    astarH1Depth2 = resultH1[1]\n",
    "    astarH1Nodes2 = astarH1.nodes\n",
    "    astarH1Ebf2 = ebf(astarH1Nodes2, astarH1Depth2)\n",
    "    #print(\"A* h1 depth\",astarH1Depth2)\n",
    "    #print(\"A* h1 nodes\",astarH1Nodes2)\n",
    "    #print(\"A* h1 ebf\",astarH1Ebf2)\n",
    "    \n",
    "    #A* Search with h2 Heuristic function\n",
    "    astarH2 = AStar()\n",
    "    resultH2 = astarH2.aStarSearch([1, 2, 3, 4, 0, 5, 6, 7, 8],\n",
    "                                         actionsF_8p, takeActionF_8p,\n",
    "                                         lambda s: goalTestF_8p(s, goalState2),\n",
    "                                         lambda s: h[1](s, goalState2))\n",
    "    astarH2Depth2 = resultH2[1]\n",
    "    astarH2Nodes2 = astarH2.nodes\n",
    "    astarH2Ebf2 = ebf(astarH2Nodes2, astarH2Depth2)\n",
    "    #print(\"A* h2 depth\",astarH2Depth2)\n",
    "    #print(\"A* h2 nodes\",astarH2Nodes2)\n",
    "    #print(\"A* h2 ebf\",astarH2Ebf2)\n",
    "    \n",
    "    #A* Search with h3 Heuristic function\n",
    "    astarH3 = AStar()\n",
    "    resultH3 = astarH3.aStarSearch([1, 2, 3, 4, 0, 5, 6, 7, 8],\n",
    "                                         actionsF_8p, takeActionF_8p,\n",
    "                                         lambda s: goalTestF_8p(s, goalState2),\n",
    "                                         lambda s: h[2](s, goalState2))\n",
    "    astarH3Depth2 = resultH3[1]\n",
    "    astarH3Nodes2 = astarH3.nodes\n",
    "    astarH3Ebf2 = ebf(astarH3Nodes2, astarH3Depth2)\n",
    "    #print(\"A* h3 depth\",astarH3Depth2)\n",
    "    #print(\"A* h3 nodes\",astarH3Nodes2)\n",
    "    #print(\"A* h3 ebf\",astarH3Ebf2)\n",
    "    \n",
    "    # For Goal State3\n",
    "    #Iterative Deepening\n",
    "    ids = IDS()\n",
    "    result = ids.iterativeDeepeningSearch([1, 2, 3, 4, 0, 5, 6, 7, 8],\n",
    "                                                   goalState3,\n",
    "                                                   actionsF_8p, takeActionF_8p, 12)\n",
    "    idsDepth3 = len(result)-1\n",
    "    idsNodes3 = ids.nodes\n",
    "    idsEbf3 = ebf(idsNodes3, idsDepth3)\n",
    "    #print(\"IDS depth \", idsDepth3)\n",
    "    #print(\"IDS nodes\",idsNodes3)\n",
    "    #print(\"IDS ebf \",idsEbf3)\n",
    "    \n",
    "    #A* Search with h1 Heuristic function\n",
    "    astarH1 = AStar()\n",
    "    resultH1 = astarH1.aStarSearch([1, 2, 3, 4, 0, 5, 6, 7, 8],\n",
    "                                         actionsF_8p, takeActionF_8p,\n",
    "                                         lambda s: goalTestF_8p(s, goalState3),\n",
    "                                         lambda s: h[0](s, goalState3))\n",
    "    astarH1Depth3 = resultH1[1]\n",
    "    astarH1Nodes3 = astarH1.nodes\n",
    "    astarH1Ebf3 = ebf(astarH1Nodes3, astarH1Depth3)\n",
    "    #print(\"A* h1 depth\",astarH1Depth3)\n",
    "    #print(\"A* h1 nodes\",astarH1Nodes3)\n",
    "    #print(\"A* h1 ebf\",astarH1Ebf3)\n",
    "    \n",
    "    #A* Search with h2 Heuristic function\n",
    "    astarH2 = AStar()\n",
    "    resultH2 = astarH2.aStarSearch([1, 2, 3, 4, 0, 5, 6, 7, 8],\n",
    "                                         actionsF_8p, takeActionF_8p,\n",
    "                                         lambda s: goalTestF_8p(s, goalState3),\n",
    "                                         lambda s: h[1](s, goalState3))\n",
    "    astarH2Depth3 = resultH2[1]\n",
    "    astarH2Nodes3 = astarH2.nodes\n",
    "    astarH2Ebf3 = ebf(astarH2Nodes3, astarH2Depth3)\n",
    "    #print(\"A* h2 depth\",astarH2Depth3)\n",
    "    #print(\"A* h2 nodes\",astarH2Nodes3)\n",
    "    #print(\"A* h2 ebf\",astarH2Ebf3)\n",
    "    \n",
    "    #A* Search with h3 Heuristic function\n",
    "    astarH3 = AStar()\n",
    "    resultH3 = astarH3.aStarSearch([1, 2, 3, 4, 0, 5, 6, 7, 8],\n",
    "                                         actionsF_8p, takeActionF_8p,\n",
    "                                         lambda s: goalTestF_8p(s, goalState3),\n",
    "                                         lambda s: h[2](s, goalState3))\n",
    "    astarH3Depth3 = resultH3[1]\n",
    "    astarH3Nodes3 = astarH3.nodes\n",
    "    astarH3Ebf3 = ebf(astarH3Nodes3, astarH3Depth3)\n",
    "    #print(\"A* h3 depth\",astarH3Depth3)\n",
    "    #print(\"A* h3 nodes\",astarH3Nodes3)\n",
    "    #print(\"A* h3 ebf\",astarH3Ebf3)\n",
    "    \n",
    "    # Display Results\n",
    "    titles = ['IDS', 'A*h1', 'A*h2', 'A*h3']\n",
    "    depth1 = pd.Series([idsDepth1,\n",
    "                            astarH1Depth1,\n",
    "                            astarH2Depth1,\n",
    "                            astarH3Depth1],\n",
    "                            index=titles)\n",
    "    nodes1 = pd.Series([idsNodes1,\n",
    "                            astarH1Nodes1,\n",
    "                            astarH2Nodes1,\n",
    "                            astarH3Nodes1],\n",
    "                            index=titles)\n",
    "    ebf1 = pd.Series([idsEbf1,\n",
    "                            astarH1Ebf1,\n",
    "                            astarH2Ebf1,\n",
    "                            astarH3Ebf1],\n",
    "                            index=titles)\n",
    "    d = {'Depth' : depth1, 'Nodes' : nodes1, 'EBF' : ebf1}\n",
    "    dataframe1 = pd.DataFrame(d)\n",
    "\n",
    "    titles = ['IDS', 'A*h1', 'A*h2', 'A*h3']\n",
    "    depth2 = pd.Series([idsDepth2,\n",
    "                            astarH1Depth2,\n",
    "                            astarH2Depth2,\n",
    "                            astarH3Depth2],\n",
    "                            index=titles)\n",
    "    nodes2 = pd.Series([idsNodes2,\n",
    "                            astarH1Nodes2,\n",
    "                            astarH2Nodes2,\n",
    "                            astarH3Nodes2],\n",
    "                            index=titles)\n",
    "    ebf2 = pd.Series([idsEbf2,\n",
    "                            astarH1Ebf2,\n",
    "                            astarH2Ebf2,\n",
    "                            astarH3Ebf2],\n",
    "                            index=titles)\n",
    "    df = {'Depth' : depth2, 'Nodes' : nodes2, 'EBF' : ebf2}\n",
    "    dataframe2 = pd.DataFrame(df)\n",
    "\n",
    "    dataframe=dataframe1.join(dataframe2, lsuffix='_Goal1', rsuffix='_Goal2')       # Join the two dataframes\n",
    "\n",
    "    titles = ['IDS', 'A*h1', 'A*h2', 'A*h3']\n",
    "    depth3 = pd.Series([idsDepth3,\n",
    "                            astarH1Depth3,\n",
    "                            astarH2Depth3,\n",
    "                            astarH3Depth3],\n",
    "                            index=titles)\n",
    "    nodes3 = pd.Series([idsNodes3,\n",
    "                            astarH1Nodes3,\n",
    "                            astarH2Nodes3,\n",
    "                            astarH3Nodes3],\n",
    "                            index=titles)\n",
    "    ebf3 = pd.Series([idsEbf3,\n",
    "                            astarH1Ebf3,\n",
    "                            astarH2Ebf3,\n",
    "                            astarH3Ebf3],\n",
    "                            index=titles)\n",
    "\n",
    "    df = {'Depth_Goal3' : depth3, 'Nodes_Goal3' : nodes3, 'EBF_Goal3' : ebf3}\n",
    "    dataframe3 = pd.DataFrame(df)\n",
    "    print(\"Goal1=[1, 2, 3, 4, 0, 5, 6, 7, 8]\",\"\\nGoal2=[1, 2, 3, 4, 5, 8, 6, 0, 7]\",\"\\nGoal3=[1, 0, 3, 4, 5, 8, 2, 6, 7]\")\n",
    "    comparison_result=dataframe.join(dataframe3)                                   # Join the two dataframes\n",
    "    return comparison_result"
   ]
  },
  {
   "cell_type": "code",
   "execution_count": 36,
   "metadata": {},
   "outputs": [
    {
     "name": "stdout",
     "output_type": "stream",
     "text": [
      "Goal1=[1, 2, 3, 4, 0, 5, 6, 7, 8] \n",
      "Goal2=[1, 2, 3, 4, 5, 8, 6, 0, 7] \n",
      "Goal3=[1, 0, 3, 4, 5, 8, 2, 6, 7]\n"
     ]
    },
    {
     "data": {
      "text/html": [
       "<div>\n",
       "<style scoped>\n",
       "    .dataframe tbody tr th:only-of-type {\n",
       "        vertical-align: middle;\n",
       "    }\n",
       "\n",
       "    .dataframe tbody tr th {\n",
       "        vertical-align: top;\n",
       "    }\n",
       "\n",
       "    .dataframe thead th {\n",
       "        text-align: right;\n",
       "    }\n",
       "</style>\n",
       "<table border=\"1\" class=\"dataframe\">\n",
       "  <thead>\n",
       "    <tr style=\"text-align: right;\">\n",
       "      <th></th>\n",
       "      <th>Depth_Goal1</th>\n",
       "      <th>Nodes_Goal1</th>\n",
       "      <th>EBF_Goal1</th>\n",
       "      <th>Depth_Goal2</th>\n",
       "      <th>Nodes_Goal2</th>\n",
       "      <th>EBF_Goal2</th>\n",
       "      <th>Depth_Goal3</th>\n",
       "      <th>Nodes_Goal3</th>\n",
       "      <th>EBF_Goal3</th>\n",
       "    </tr>\n",
       "  </thead>\n",
       "  <tbody>\n",
       "    <tr>\n",
       "      <th>IDS</th>\n",
       "      <td>0</td>\n",
       "      <td>0</td>\n",
       "      <td>0</td>\n",
       "      <td>3</td>\n",
       "      <td>43</td>\n",
       "      <td>3.086029</td>\n",
       "      <td>11</td>\n",
       "      <td>225850</td>\n",
       "      <td>2.953883</td>\n",
       "    </tr>\n",
       "    <tr>\n",
       "      <th>A*h1</th>\n",
       "      <td>0</td>\n",
       "      <td>0</td>\n",
       "      <td>0</td>\n",
       "      <td>3</td>\n",
       "      <td>116</td>\n",
       "      <td>4.487587</td>\n",
       "      <td>11</td>\n",
       "      <td>643246</td>\n",
       "      <td>3.262756</td>\n",
       "    </tr>\n",
       "    <tr>\n",
       "      <th>A*h2</th>\n",
       "      <td>0</td>\n",
       "      <td>0</td>\n",
       "      <td>0</td>\n",
       "      <td>3</td>\n",
       "      <td>51</td>\n",
       "      <td>3.296829</td>\n",
       "      <td>11</td>\n",
       "      <td>100046</td>\n",
       "      <td>2.732593</td>\n",
       "    </tr>\n",
       "    <tr>\n",
       "      <th>A*h3</th>\n",
       "      <td>0</td>\n",
       "      <td>0</td>\n",
       "      <td>0</td>\n",
       "      <td>3</td>\n",
       "      <td>9</td>\n",
       "      <td>1.578125</td>\n",
       "      <td>11</td>\n",
       "      <td>5232</td>\n",
       "      <td>2.049478</td>\n",
       "    </tr>\n",
       "  </tbody>\n",
       "</table>\n",
       "</div>"
      ],
      "text/plain": [
       "      Depth_Goal1  Nodes_Goal1  EBF_Goal1  Depth_Goal2  Nodes_Goal2  \\\n",
       "IDS             0            0          0            3           43   \n",
       "A*h1            0            0          0            3          116   \n",
       "A*h2            0            0          0            3           51   \n",
       "A*h3            0            0          0            3            9   \n",
       "\n",
       "      EBF_Goal2  Depth_Goal3  Nodes_Goal3  EBF_Goal3  \n",
       "IDS    3.086029           11       225850   2.953883  \n",
       "A*h1   4.487587           11       643246   3.262756  \n",
       "A*h2   3.296829           11       100046   2.732593  \n",
       "A*h3   1.578125           11         5232   2.049478  "
      ]
     },
     "execution_count": 36,
     "metadata": {},
     "output_type": "execute_result"
    }
   ],
   "source": [
    "goalState1=[1, 2, 3, 4, 0, 5, 6, 7, 8]\n",
    "goalState2=[1, 2, 3, 4, 5, 8, 6, 0, 7]\n",
    "goalState3=[1, 0, 3, 4, 5, 8, 2, 6, 7]\n",
    "h=[h1_8p,h2_8p,h3_8p]\n",
    "runExperiment(goalState1,goalState2,goalState3,h)"
   ]
  },
  {
   "cell_type": "markdown",
   "metadata": {},
   "source": [
    "## Observations"
   ]
  },
  {
   "cell_type": "markdown",
   "metadata": {},
   "source": [
    "`aStarSearch` with heuristic function h3 performs the best as it has lowest effective branching factor and the number of nodes traversed to reach the goal is also less. `aStarSearch` with heuristic function h1 performs worse as it has high effective branching factor and thus, is not a good heuristic function."
   ]
  }
 ],
 "metadata": {
  "anaconda-cloud": {},
  "kernelspec": {
   "display_name": "Python 3",
   "language": "python",
   "name": "python3"
  },
  "language_info": {
   "codemirror_mode": {
    "name": "ipython",
    "version": 3
   },
   "file_extension": ".py",
   "mimetype": "text/x-python",
   "name": "python",
   "nbconvert_exporter": "python",
   "pygments_lexer": "ipython3",
   "version": "3.6.5"
  }
 },
 "nbformat": 4,
 "nbformat_minor": 2
}
