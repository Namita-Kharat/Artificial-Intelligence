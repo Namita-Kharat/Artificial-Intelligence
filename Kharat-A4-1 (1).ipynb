{
 "cells": [
  {
   "cell_type": "markdown",
   "metadata": {},
   "source": [
    "# Reinforcement Learning Solution to the Towers of Hanoi Puzzle"
   ]
  },
  {
   "cell_type": "markdown",
   "metadata": {},
   "source": [
    "For this assignment, you will use reinforcement learning to solve the [Towers of Hanoi](https://en.wikipedia.org/wiki/Tower_of_Hanoi) puzzle.  \n",
    "\n",
    "To accomplish this, you must modify the code discussed in lecture for learning to play Tic-Tac-Toe.  Modify the code  so that it learns to solve the three-disk, three-peg\n",
    "Towers of Hanoi Puzzle.  In some ways, this will be simpler than the\n",
    "Tic-Tac-Toe code.  \n",
    "\n",
    "Steps required to do this include the following:\n",
    "\n",
    "  - Represent the state, and use it as a tuple as a key to the Q dictionary.\n",
    "  - Make sure only valid moves are tried from each state.\n",
    "  - Assign reinforcement of $1$ to each move, even for the move that results in the goal state.\n",
    "\n",
    "Make a plot of the number of steps required to reach the goal for each\n",
    "trial.  Each trial starts from the same initial state.  Decay epsilon\n",
    "as in the Tic-Tac-Toe code."
   ]
  },
  {
   "cell_type": "markdown",
   "metadata": {},
   "source": [
    "## Requirements"
   ]
  },
  {
   "cell_type": "markdown",
   "metadata": {},
   "source": [
    "First, how should we represent the state of this puzzle?  We need to keep track of which disks are on which pegs. Name the disks 1, 2, and 3, with 1 being the smallest disk and 3 being the largest. The set of disks on a peg can be represented as a list of integers.  Then the state can be a list of three lists.\n",
    "\n",
    "For example, the starting state with all disks being on the left peg would be `[[1, 2, 3], [], []]`.  After moving disk 1 to peg 2, we have `[[2, 3], [1], []]`.\n",
    "\n",
    "To represent that move we just made, we can use a list of two peg numbers, like `[1, 2]`, representing a move of the top disk on peg 1 to peg 2."
   ]
  },
  {
   "cell_type": "markdown",
   "metadata": {},
   "source": [
    "Now on to some functions. Define at least the following functions. Examples showing required output appear below.\n",
    "\n",
    "   - `printState(state)`: prints the state in the form shown below\n",
    "   - `validMoves(state)`: returns list of moves that are valid from `state`\n",
    "   - `makeMove(state, move)`: returns new (copy of) state after move has been applied.\n",
    "   - `trainQ(nRepetitions, learningRate, epsilonDecayFactor, validMovesF, makeMoveF)`: train the Q function for number of repetitions, decaying epsilon at start of each repetition. Returns Q and list or array of number of steps to reach goal for each repetition.\n",
    "   - `testQ(Q, maxSteps, validMovesF, makeMoveF)`: without updating Q, use Q to find greedy action each step until goal is found. Return path of states.\n",
    "\n",
    "A function that you might choose to implement is\n",
    "\n",
    "   - `stateMoveTuple(state, move)`: returns tuple of state and move.  \n",
    "    \n",
    "This is useful for converting state and move to a key to be used for the Q dictionary.\n",
    "\n",
    "Show the code and results for testing each function.  Then experiment with various values of `nRepetitions`, `learningRate`, and `epsilonDecayFactor` to find values that work reasonably well, meaning that eventually the minimum solution path of seven steps is found consistently.\n",
    "\n",
    "Make a plot of the number of steps in the solution path versus number of repetitions. The plot should clearly show the number of steps in the solution path eventually reaching the minimum of seven steps, though the decrease will not be monotonic.  Also plot a horizontal, dashed line at 7 to show the optimal path length.\n",
    "\n",
    "Add markdown cells in which you describe the Q learning algorithm and your implementation of Q learning as applied to the Towers of Hanoi problem.  Use at least 15 sentences, in one or more markdown cells."
   ]
  },
  {
   "cell_type": "markdown",
   "metadata": {},
   "source": [
    "## Objective\n",
    "\n",
    "The goal is to move all the disks from 1st peg to 3rd peg. There are two constraints as follows:\n",
    "1. Only one disk can be moved at a given point of time.\n",
    "2. A larger valued disk can never be placed on a smaller valued disk."
   ]
  },
  {
   "cell_type": "markdown",
   "metadata": {},
   "source": [
    "## Code Description\n",
    "\n",
    "* **printState(state):** This function prints the state in a specific format. State is a nested list and elements of each list are stored in variables which are then used to print.\n",
    "* **makeMove(state, move):** State is copied in order to avoid changes in the original state. Calculate the index by subtracting one from the move(since pegs are named 1,2 and 3 and list index starts with 0,1 and so on). Get the top element of the peg and insert it into new peg and delete it from old peg.\n",
    "* **stateMoveTuple:** This function returns the tuple of state and move which is used as a key for the dictionary.\n",
    "* **validMoves(state):** Returns lists of valid moves for that state. Pegs are represented as state1, state2 and state3. If any of these pegs(/states) are empty, validMoves list is appended with move(non_empty state, empty state). If the state is not empty, then the top disk/element is saved in a variable which is then compared with the top element of other pegs/states. validMoves list is appended with (peg having low top value, peg having high top value)."
   ]
  },
  {
   "cell_type": "code",
   "execution_count": 1,
   "metadata": {},
   "outputs": [],
   "source": [
    "import numpy as np\n",
    "from copy import deepcopy\n",
    "\n",
    "def printState(state):    \n",
    "    if state[0]==[]:                             # Check Peg1 is empty\n",
    "        state00=' '\n",
    "        state01=' '\n",
    "        state02=' '\n",
    "    elif len(state[0])==1:                       # Peg1 contains 1 disk\n",
    "        state00=' '\n",
    "        state01=' '\n",
    "        state02=state[0][0]\n",
    "    elif len(state[0])==2:                       # Peg1 contains 2 disks\n",
    "        state00=' '\n",
    "        state01=state[0][0]\n",
    "        state02=state[0][1] \n",
    "    elif len(state[0])==3:                       # Peg1 contains 3 disks\n",
    "        state00=state[0][0]\n",
    "        state01=state[0][1]\n",
    "        state02=state[0][2]        \n",
    "    if state[1]==[]:                             # Check Peg2 is empty\n",
    "        state10=' '\n",
    "        state11=' '\n",
    "        state12=' '\n",
    "    elif len(state[1])==1:                       # Peg2 contains 1 disk\n",
    "        state10=' '\n",
    "        state11=' '\n",
    "        state12=state[1][0]\n",
    "    elif len(state[1])==2:                       # Peg2 contains 2 disks\n",
    "        state10=' '\n",
    "        state11=state[1][0]\n",
    "        state12=state[1][1] \n",
    "    elif len(state[1])==3:                       # Peg2 contains 3 disks\n",
    "        state10=state[1][0]\n",
    "        state11=state[1][1]\n",
    "        state12=state[1][2]    \n",
    "    if state[2]==[]:                             # Check Peg3 is empty\n",
    "        state20=' '\n",
    "        state21=' '\n",
    "        state22=' '\n",
    "    elif len(state[2])==1:                       # Peg3 contains 1 disk\n",
    "        state20=' '\n",
    "        state21=' '\n",
    "        state22=state[2][0]\n",
    "    elif len(state[2])==2:                       # Peg3 contains 2 disks\n",
    "        state20=' '\n",
    "        state21=state[2][0]\n",
    "        state22=state[2][1] \n",
    "    elif len(state[2])==3:                       # Peg3 contains 3 disks\n",
    "        state20=state[2][0]\n",
    "        state21=state[2][1]\n",
    "        state22=state[2][2]\n",
    "    print('{} {} {}\\n{} {} {}\\n{} {} {}\\n---------------------------------'.format(state00,state10,state20,state01,state11,state21,state02,state12,state22))\n",
    "\n",
    "def makeMove(state, move):\n",
    "    newState=deepcopy(state)                     # Copy state\n",
    "    oldpeg=move[0]-1                             # list index = peg-1\n",
    "    newpeg=move[1]-1\n",
    "    disk=newState[oldpeg][0]                     # Get the top disk\n",
    "    newState[newpeg].insert(0,disk)\n",
    "    newState[oldpeg].remove(disk)\n",
    "    return newState\n",
    "    \n",
    "def stateMoveTuple(state, move):                 # returns tuple of state and move\n",
    "    stateTuple = tuple(tuple(i) for i in state)\n",
    "    moveTuple = tuple(move)\n",
    "    smtuple= (stateTuple,moveTuple)\n",
    "    return smtuple\n",
    "        \n",
    "def validMoves(state):\n",
    "    copyState=deepcopy(state)\n",
    "    validMoves=[]\n",
    "    state1=copyState[0]                  # Peg1\n",
    "    state2=copyState[1]                  # Peg2\n",
    "    state3=copyState[2]                  # Peg3\n",
    "    state10=0\n",
    "    state20=0\n",
    "    state30=0\n",
    "    \n",
    "    if state1 == []:                      # if Peg1 is empty, disks from other pegs can be moved to peg1\n",
    "        if state2 != []:\n",
    "            validMoves.append([2,1])\n",
    "        if state3 != []:\n",
    "            validMoves.append([3,1])\n",
    "    elif state1 != []:                    # if not empty, get the top disk \n",
    "        state10 = state1[0]\n",
    "        \n",
    "    if state2 == []:                      # if Peg2 is empty, disks from other pegs can be moved to peg2\n",
    "        if state1 != []:\n",
    "            validMoves.append([1,2])\n",
    "        if state3 != []:\n",
    "            validMoves.append([3,2])\n",
    "    elif state2 != []:\n",
    "        state20 = state2[0]               # if not empty, get the top disk \n",
    "        \n",
    "    if state3 == []:                      # if Peg3 is empty, disks from other pegs can be moved to peg3\n",
    "        if state1 != []:\n",
    "            validMoves.append([1,3])\n",
    "        if state2 != []:\n",
    "            validMoves.append([2,3])\n",
    "    elif state3 != []:\n",
    "        state30 = state3[0]               # if not empty, get the top disk \n",
    "     \n",
    "    # if pegs are not empty, check top disks values and append validMoves list accordingly\n",
    "    if state10 != 0 and state20 != 0:     \n",
    "        if state10 < state20:\n",
    "            validMoves.append([1,2])\n",
    "        elif state20 < state10:\n",
    "            validMoves.append([2,1])\n",
    "    \n",
    "    if state10 != 0 and state30 != 0:\n",
    "        if state10 < state30:\n",
    "            validMoves.append([1,3])\n",
    "        elif state30 < state10:\n",
    "            validMoves.append([3,1])\n",
    "    \n",
    "    if state20 != 0 and state30 != 0:\n",
    "        if state20 < state30:\n",
    "            validMoves.append([2,3])\n",
    "        elif state30 < state20:\n",
    "            validMoves.append([3,2])\n",
    "        \n",
    "    return validMoves\n",
    "        "
   ]
  },
  {
   "cell_type": "markdown",
   "metadata": {},
   "source": [
    "## Code Description:\n",
    "\n",
    "* **winner(state,move):** This function is used to check whether the goal has been reached.\n",
    "* **getQ(state,Q,move):** Returns the Q value. An immutable key value is used for the dictionary. This is achieved using stateMoveTuple function.\n",
    "* **epsilonGreedy(epsilon,Q,state):** This function collects valid moves and returns the move having maximum value of Q."
   ]
  },
  {
   "cell_type": "code",
   "execution_count": 2,
   "metadata": {},
   "outputs": [],
   "source": [
    "import random\n",
    "def winner(state,move):                  # Returns 1 if goal reached\n",
    "    copy_state= deepcopy(state)\n",
    "    state_new=makeMove(copy_state,move)\n",
    "    if state_new==[[],[],[1,2,3]]:\n",
    "        return 1\n",
    "    else:\n",
    "        return 0\n",
    "\n",
    "def getQ(state, Q, move):                # Returns Q using key\n",
    "    if winner(state,move):\n",
    "        return 0\n",
    "    key= stateMoveTuple(state,move)\n",
    "    return Q.get(key,-1)\n",
    "    \n",
    "\n",
    "def epsilonGreedy(epsilon, Q, state):    # Returns random move or greedy move based on epsilon value\n",
    "    valid_moves = validMoves(state)\n",
    "    if np.random.uniform() < epsilon:\n",
    "        # Random Move\n",
    "        return random.choice(valid_moves)\n",
    "    else:\n",
    "        # Greedy Move\n",
    "        Qs = np.array([getQ(state, Q, m) for m in valid_moves]) \n",
    "        return valid_moves[ np.argmin(Qs) ]\n",
    "    "
   ]
  },
  {
   "cell_type": "markdown",
   "metadata": {},
   "source": [
    "## Temporal Difference\n",
    "\n",
    "Temporal Difference is a technique used in reinforcement learning in which the discovered error is pushed in a movement to the previous state.\n",
    "$$Q(oldstate,oldmove) = Q(oldstate,oldmove) + learningrate * (1 + Q(state,move) - Q(oldstate,oldmove))$$\n",
    "The above equation, creates a Q table of positive values that approach 0 near the goal. Thus, the grredy search is looking for minimum value."
   ]
  },
  {
   "cell_type": "markdown",
   "metadata": {},
   "source": [
    "## Code Description\n",
    "\n",
    "* **trainQ(nRepetitions, learningRate, epsilonDecayFactor, validMovesF, makeMoveF):** For a given number of repetitions, the puzzle is solved repeatedly with the moves returns by the epsilonGreedy function. Update Q for steps > 1. Temporal difference error is calculated and multiplied with the learning rate to get Q. makeMoveF function is used to make the move and change the state. winner function is used to check if the goal is reached."
   ]
  },
  {
   "cell_type": "code",
   "execution_count": 3,
   "metadata": {},
   "outputs": [],
   "source": [
    "def trainQ(nRepetitions, learningRate, epsilonDecayFactor, validMovesF, makeMoveF):\n",
    "    Q = {}\n",
    "    startState=[[1,2,3],[],[]]\n",
    "    stepsToGoal = []\n",
    "    epsilon=1\n",
    "    \n",
    "    for i in range(0,nRepetitions):\n",
    "        epsilon *= epsilonDecayFactor\n",
    "        maxMoves=10000\n",
    "        done= False\n",
    "        state = startState\n",
    "        path= [startState]\n",
    "        old_move = None\n",
    "        old_state = None\n",
    "        while not done and len(path) < maxMoves:\n",
    "            move = epsilonGreedy(epsilon, Q, state)\n",
    "            if old_move is not None:\n",
    "                # update Q\n",
    "                old_key= stateMoveTuple(old_state,old_move)\n",
    "                TD_error=1+ getQ(state, Q, move) - getQ(old_state, Q, old_move)   # Calculate Temporal Difference\n",
    "                old_Q = getQ (old_state, Q, old_move)                      # Get Q from previous state\n",
    "                old_Q += learningRate * TD_error                           # Update with learning rate and error\n",
    "                Q[old_key] = old_Q\n",
    "            old_state= state\n",
    "            state = makeMoveF(state,move)\n",
    "            old_move = move\n",
    "            path.append(state)\n",
    "            if winner(old_state,old_move):                                  # Check if Goal reached, then quit \n",
    "                done=True\n",
    "        stepsToGoal.append(len(path)-1)\n",
    "    return Q,np.array(stepsToGoal)"
   ]
  },
  {
   "cell_type": "markdown",
   "metadata": {},
   "source": [
    "## Code Description\n",
    "\n",
    "* **testQ(Q, maxSteps, validMovesF, makeMoveF):** Epsilon is kept 0 in order to choose the greedy move always."
   ]
  },
  {
   "cell_type": "code",
   "execution_count": 4,
   "metadata": {},
   "outputs": [],
   "source": [
    "def testQ(Q, maxSteps, validMovesF, makeMoveF):\n",
    "    startState=[[1,2,3],[],[]]\n",
    "    epsilon=0\n",
    "    done= False\n",
    "    state = startState\n",
    "    path= [startState]\n",
    "    old_move = None\n",
    "    old_state = None\n",
    "    while not done and len(path) < maxSteps:\n",
    "        move = epsilonGreedy(epsilon, Q, state)         # Get greedy move as epsilon is 0\n",
    "        old_state= state\n",
    "        state = makeMoveF(state,move)\n",
    "        old_move = move\n",
    "        path.append(state)\n",
    "        if winner(old_state,old_move):\n",
    "            done=True\n",
    "    return path"
   ]
  },
  {
   "cell_type": "markdown",
   "metadata": {},
   "source": [
    "# Examples"
   ]
  },
  {
   "cell_type": "code",
   "execution_count": 5,
   "metadata": {},
   "outputs": [
    {
     "name": "stdout",
     "output_type": "stream",
     "text": [
      "1    \n",
      "2    \n",
      "3    \n",
      "---------------------------------\n"
     ]
    }
   ],
   "source": [
    "state = [[1, 2, 3], [], []]\n",
    "printState(state)"
   ]
  },
  {
   "cell_type": "code",
   "execution_count": 6,
   "metadata": {},
   "outputs": [
    {
     "data": {
      "text/plain": [
       "(((1, 2, 3), (), ()), (1, 2))"
      ]
     },
     "execution_count": 6,
     "metadata": {},
     "output_type": "execute_result"
    }
   ],
   "source": [
    "move =[1, 2]\n",
    "\n",
    "stateMoveTuple(state, move)"
   ]
  },
  {
   "cell_type": "code",
   "execution_count": 7,
   "metadata": {},
   "outputs": [
    {
     "data": {
      "text/plain": [
       "[[2, 3], [1], []]"
      ]
     },
     "execution_count": 7,
     "metadata": {},
     "output_type": "execute_result"
    }
   ],
   "source": [
    "newstate = makeMove(state, move)\n",
    "newstate"
   ]
  },
  {
   "cell_type": "code",
   "execution_count": 8,
   "metadata": {},
   "outputs": [
    {
     "name": "stdout",
     "output_type": "stream",
     "text": [
      "     \n",
      "2    \n",
      "3 1  \n",
      "---------------------------------\n"
     ]
    }
   ],
   "source": [
    "printState(newstate)"
   ]
  },
  {
   "cell_type": "code",
   "execution_count": 76,
   "metadata": {},
   "outputs": [],
   "source": [
    "Q, stepsToGoal = trainQ(50, 0.5, 0.7, validMoves, makeMove)"
   ]
  },
  {
   "cell_type": "code",
   "execution_count": 77,
   "metadata": {},
   "outputs": [
    {
     "data": {
      "text/plain": [
       "array([ 44, 175,  38, 120,  50,  35,   9,  28,  15,  19,  25,   9,  53,\n",
       "         7,  11,   9,   8,  15,   7,   9,  12,   7,  15,   7,   7,  28,\n",
       "         7,   7,   7,   7,   7,   7,   7,   7,   7,   7,   7,   7,   7,\n",
       "         7,   7,   7,   7,   7,   7,   7,   7,   7,   7,   7])"
      ]
     },
     "execution_count": 77,
     "metadata": {},
     "output_type": "execute_result"
    }
   ],
   "source": [
    "stepsToGoal"
   ]
  },
  {
   "cell_type": "code",
   "execution_count": 78,
   "metadata": {},
   "outputs": [
    {
     "data": {
      "text/plain": [
       "[[[1, 2, 3], [], []],\n",
       " [[2, 3], [], [1]],\n",
       " [[3], [2], [1]],\n",
       " [[3], [1, 2], []],\n",
       " [[], [1, 2], [3]],\n",
       " [[1], [2], [3]],\n",
       " [[1], [], [2, 3]],\n",
       " [[], [], [1, 2, 3]]]"
      ]
     },
     "execution_count": 78,
     "metadata": {},
     "output_type": "execute_result"
    }
   ],
   "source": [
    "path = testQ(Q, 20, validMoves, makeMove)\n",
    "path"
   ]
  },
  {
   "cell_type": "code",
   "execution_count": 84,
   "metadata": {},
   "outputs": [
    {
     "name": "stdout",
     "output_type": "stream",
     "text": [
      "1    \n",
      "2    \n",
      "3    \n",
      "---------------------------------\n",
      "\n",
      "     \n",
      "2    \n",
      "3   1\n",
      "---------------------------------\n",
      "\n",
      "     \n",
      "     \n",
      "3 2 1\n",
      "---------------------------------\n",
      "\n",
      "     \n",
      "  1  \n",
      "3 2  \n",
      "---------------------------------\n",
      "\n",
      "     \n",
      "  1  \n",
      "  2 3\n",
      "---------------------------------\n",
      "\n",
      "     \n",
      "     \n",
      "1 2 3\n",
      "---------------------------------\n",
      "\n",
      "     \n",
      "    2\n",
      "1   3\n",
      "---------------------------------\n",
      "\n",
      "    1\n",
      "    2\n",
      "    3\n",
      "---------------------------------\n",
      "\n"
     ]
    }
   ],
   "source": [
    "for s in path:\n",
    "    printState(s)\n",
    "    print()"
   ]
  },
  {
   "cell_type": "code",
   "execution_count": 79,
   "metadata": {},
   "outputs": [
    {
     "data": {
      "text/plain": [
       "Text(0.5,1,'Number of Steps vs Number of Repetitions')"
      ]
     },
     "execution_count": 79,
     "metadata": {},
     "output_type": "execute_result"
    },
    {
     "data": {
      "image/png": "[encoded data removed]",
      "text/plain": [
       "<Figure size 1152x360 with 1 Axes>"
      ]
     },
     "metadata": {},
     "output_type": "display_data"
    }
   ],
   "source": [
    "import matplotlib.pyplot as plt\n",
    "%matplotlib inline\n",
    "\n",
    "plt.figure(figsize=(16,5))\n",
    "x = list(range(1, len(stepsToGoal) + 1)) # x has to be the same size as y\n",
    "plt.subplot(1,1,1)     \n",
    "plt.plot(x, stepsToGoal)\n",
    "plt.hlines(y=7, xmin=0.0, xmax=50.0, color='r', linestyle='dashed')\n",
    "plt.xlabel('No of Repetitions')\n",
    "plt.ylabel('Number of Steps in Solution Path')\n",
    "plt.title('Number of Steps vs Number of Repetitions')"
   ]
  },
  {
   "cell_type": "markdown",
   "metadata": {},
   "source": [
    "Experimenting with different values of nRepetitions, Learning Rate and epsilon dacay factor."
   ]
  },
  {
   "cell_type": "markdown",
   "metadata": {},
   "source": [
    "## Experiment 1"
   ]
  },
  {
   "cell_type": "code",
   "execution_count": 80,
   "metadata": {},
   "outputs": [
    {
     "data": {
      "text/plain": [
       "array([ 75, 123,  57,  11,  39,  19,  14,  10,  11,   7,   7,   7,   7,\n",
       "         7,   7,   7,   7,   7,   7,   7,   7,   7,   7,   7,   7,   7,\n",
       "         7,   7,   7,   7,   7,   7,   7,   7,   7,   7,   7,   7,   7,\n",
       "         7,   7,   7,   7,   7,   7,   7,   7,   7,   7,   7])"
      ]
     },
     "execution_count": 80,
     "metadata": {},
     "output_type": "execute_result"
    }
   ],
   "source": [
    "Q, stepsToGoal = trainQ(50, 1, 0.2, validMoves, makeMove)\n",
    "stepsToGoal"
   ]
  },
  {
   "cell_type": "code",
   "execution_count": 81,
   "metadata": {},
   "outputs": [
    {
     "data": {
      "text/plain": [
       "[[[1, 2, 3], [], []],\n",
       " [[2, 3], [], [1]],\n",
       " [[3], [2], [1]],\n",
       " [[3], [1, 2], []],\n",
       " [[], [1, 2], [3]],\n",
       " [[1], [2], [3]],\n",
       " [[1], [], [2, 3]],\n",
       " [[], [], [1, 2, 3]]]"
      ]
     },
     "execution_count": 81,
     "metadata": {},
     "output_type": "execute_result"
    }
   ],
   "source": [
    "path = testQ(Q, 20, validMoves, makeMove)\n",
    "path"
   ]
  },
  {
   "cell_type": "code",
   "execution_count": 83,
   "metadata": {},
   "outputs": [
    {
     "name": "stdout",
     "output_type": "stream",
     "text": [
      "1    \n",
      "2    \n",
      "3    \n",
      "---------------------------------\n",
      "\n",
      "     \n",
      "2    \n",
      "3   1\n",
      "---------------------------------\n",
      "\n",
      "     \n",
      "     \n",
      "3 2 1\n",
      "---------------------------------\n",
      "\n",
      "     \n",
      "  1  \n",
      "3 2  \n",
      "---------------------------------\n",
      "\n",
      "     \n",
      "  1  \n",
      "  2 3\n",
      "---------------------------------\n",
      "\n",
      "     \n",
      "     \n",
      "1 2 3\n",
      "---------------------------------\n",
      "\n",
      "     \n",
      "    2\n",
      "1   3\n",
      "---------------------------------\n",
      "\n",
      "    1\n",
      "    2\n",
      "    3\n",
      "---------------------------------\n",
      "\n"
     ]
    }
   ],
   "source": [
    "for s in path:\n",
    "    printState(s)\n",
    "    print()"
   ]
  },
  {
   "cell_type": "code",
   "execution_count": 82,
   "metadata": {},
   "outputs": [
    {
     "data": {
      "text/plain": [
       "Text(0.5,1,'Number of Steps vs Number of Repetitions')"
      ]
     },
     "execution_count": 82,
     "metadata": {},
     "output_type": "execute_result"
    },
    {
     "data": {
      "image/png": "[encoded data removed]",
      "text/plain": [
       "<Figure size 1152x360 with 1 Axes>"
      ]
     },
     "metadata": {},
     "output_type": "display_data"
    }
   ],
   "source": [
    "import matplotlib.pyplot as plt\n",
    "%matplotlib inline\n",
    "\n",
    "plt.figure(figsize=(16,5))\n",
    "x = list(range(1, len(stepsToGoal) + 1)) # x has to be the same size as y\n",
    "plt.subplot(1,1,1)     \n",
    "plt.plot(x, stepsToGoal)\n",
    "plt.hlines(y=7, xmin=0.0, xmax=50.0, color='r', linestyle='dashed')\n",
    "plt.xlabel('No of Repetitions')\n",
    "plt.ylabel('Number of Steps in Solution Path')\n",
    "plt.title('Number of Steps vs Number of Repetitions')"
   ]
  },
  {
   "cell_type": "markdown",
   "metadata": {},
   "source": [
    "## Experiment 2"
   ]
  },
  {
   "cell_type": "code",
   "execution_count": 70,
   "metadata": {},
   "outputs": [],
   "source": [
    "Q, stepsToGoal = trainQ(50, 0.5, 0.5, validMoves, makeMove)"
   ]
  },
  {
   "cell_type": "code",
   "execution_count": 71,
   "metadata": {},
   "outputs": [
    {
     "data": {
      "text/plain": [
       "array([247,  29,  98,   8,  81,  23,  19,  23,  43,  17,  12,  11,  34,\n",
       "        16,   7,  18,   7,  11,   7,   7,   9,   7,  13,   9,   7,   7,\n",
       "         7,   7,   7,   7,   7,   7,   7,   7,   7,   7,   7,   7,   7,\n",
       "         7,   7,   7,   7,   7,   7,   7,   7,   7,   7,   7])"
      ]
     },
     "execution_count": 71,
     "metadata": {},
     "output_type": "execute_result"
    }
   ],
   "source": [
    "stepsToGoal"
   ]
  },
  {
   "cell_type": "code",
   "execution_count": 72,
   "metadata": {},
   "outputs": [],
   "source": [
    "path = testQ(Q, 20, validMoves, makeMove)"
   ]
  },
  {
   "cell_type": "code",
   "execution_count": 73,
   "metadata": {},
   "outputs": [
    {
     "data": {
      "text/plain": [
       "[[[1, 2, 3], [], []],\n",
       " [[2, 3], [], [1]],\n",
       " [[3], [2], [1]],\n",
       " [[3], [1, 2], []],\n",
       " [[], [1, 2], [3]],\n",
       " [[1], [2], [3]],\n",
       " [[1], [], [2, 3]],\n",
       " [[], [], [1, 2, 3]]]"
      ]
     },
     "execution_count": 73,
     "metadata": {},
     "output_type": "execute_result"
    }
   ],
   "source": [
    "path"
   ]
  },
  {
   "cell_type": "code",
   "execution_count": 75,
   "metadata": {},
   "outputs": [
    {
     "data": {
      "text/plain": [
       "Text(0.5,1,'Number of Steps vs Number of Repetitions')"
      ]
     },
     "execution_count": 75,
     "metadata": {},
     "output_type": "execute_result"
    },
    {
     "data": {
      "image/png": "[encoded data removed]",
      "text/plain": [
       "<Figure size 1152x360 with 1 Axes>"
      ]
     },
     "metadata": {},
     "output_type": "display_data"
    }
   ],
   "source": [
    "import matplotlib.pyplot as plt\n",
    "%matplotlib inline\n",
    "\n",
    "plt.figure(figsize=(16,5))\n",
    "x = list(range(1, len(stepsToGoal) + 1)) # x has to be the same size as y\n",
    "plt.subplot(1,1,1)     \n",
    "plt.plot(x, stepsToGoal)\n",
    "plt.hlines(y=7, xmin=0.0, xmax=50.0, color='r', linestyle='dashed')\n",
    "plt.xlabel('No of Repetitions')\n",
    "plt.ylabel('Number of Steps in Solution Path')\n",
    "plt.title('Number of Steps vs Number of Repetitions')"
   ]
  },
  {
   "cell_type": "markdown",
   "metadata": {},
   "source": [
    "## Observation\n",
    "\n",
    "It took around roughly 25 repetitions to get the optimal path solution(i.e. & steps in our case). While experimenting with various values of `nRepetitions`, `learningRate`, and `epsilonDecayFactor`, I found that for nRepetitions=50, learningRate=1 and epsilonDecayFactor=0.2, work reasonably well, meaning that eventually the minimum solution path of seven steps is found consistently."
   ]
  },
  {
   "cell_type": "markdown",
   "metadata": {},
   "source": [
    "## Extra Credit"
   ]
  },
  {
   "cell_type": "markdown",
   "metadata": {},
   "source": [
    "Modify your code to solve the Towers of Hanoi puzzle with 4 disks instead of 3.  Name your functions\n",
    "\n",
    "    - printState_4disk\n",
    "    - validMoves_4disk\n",
    "    - makeMove_4disk\n",
    "\n",
    "Find values for number of repetitions, learning rate, and epsilon decay factor for which trainQ learns a Q function that testQ can use to find the shortest solution path.  Include the output from the successful calls to trainQ and testQ."
   ]
  },
  {
   "cell_type": "markdown",
   "metadata": {},
   "source": [
    "## Code Description:\n",
    "\n",
    "The code is similar to the 3 peg puzzle with few changes."
   ]
  },
  {
   "cell_type": "code",
   "execution_count": 15,
   "metadata": {},
   "outputs": [],
   "source": [
    "import numpy as np\n",
    "from copy import deepcopy\n",
    "\n",
    "def printState_4disk(state):    \n",
    "    if state[0]==[]:                                     # Check Peg1 is empty\n",
    "        state00=' '\n",
    "        state01=' '\n",
    "        state02=' '\n",
    "        state03=' '\n",
    "    elif len(state[0])==1:                               # Peg1 contains 1 disk\n",
    "        state00=' '\n",
    "        state01=' '\n",
    "        state02=' '\n",
    "        state03=state[0][0]\n",
    "    elif len(state[0])==2:                               # Peg1 contains 2 disks\n",
    "        state00=' '\n",
    "        state01=' '\n",
    "        state02=state[0][0]\n",
    "        state03=state[0][1] \n",
    "    elif len(state[0])==3:                               # Peg1 contains 3 disks\n",
    "        state00=' '\n",
    "        state01=state[0][0]\n",
    "        state02=state[0][1]\n",
    "        state03=state[0][2]\n",
    "    elif len(state[0])==4:                               # Peg1 contains 4 disks\n",
    "        state00=state[0][0]\n",
    "        state01=state[0][1]\n",
    "        state02=state[0][2]\n",
    "        state03=state[0][3]\n",
    "    if state[1]==[]:                                     # Check Peg2 is empty\n",
    "        state10=' '\n",
    "        state11=' '\n",
    "        state12=' '\n",
    "        state13=' '\n",
    "    elif len(state[1])==1:                               # Peg2 contains 1 disk\n",
    "        state10=' '\n",
    "        state11=' '\n",
    "        state12=' '\n",
    "        state13=state[1][0]\n",
    "    elif len(state[1])==2:                               # Peg2 contains 2 disks\n",
    "        state10=' '\n",
    "        state11=' '\n",
    "        state12=state[1][0]\n",
    "        state13=state[1][1] \n",
    "    elif len(state[1])==3:                               # Peg2 contains 3 disks\n",
    "        state10=' '\n",
    "        state11=state[1][0]\n",
    "        state12=state[1][1]\n",
    "        state13=state[1][2] \n",
    "    elif len(state[1])==4:                               # Peg2 contains 4 disks\n",
    "        state10=state[1][0]\n",
    "        state11=state[1][1]\n",
    "        state12=state[1][2]\n",
    "        state13=state[1][3]\n",
    "    if state[2]==[]:                                     # Check Peg3 is empty\n",
    "        state20=' '\n",
    "        state21=' '\n",
    "        state22=' '\n",
    "        state23=' '\n",
    "    elif len(state[2])==1:                               # Peg3 contains 1 disk\n",
    "        state20=' '\n",
    "        state21=' '\n",
    "        state22=' '\n",
    "        state23=state[2][0]\n",
    "    elif len(state[2])==2:                               # Peg3 contains 2 disks\n",
    "        state20=' '\n",
    "        state21=' '\n",
    "        state22=state[2][0]\n",
    "        state23=state[2][1] \n",
    "    elif len(state[2])==3:                               # Peg3 contains 3 disks\n",
    "        state20=' '\n",
    "        state21=state[2][0]\n",
    "        state22=state[2][1]\n",
    "        state23=state[2][2]\n",
    "    elif len(state[2])==4:                               # Peg3 contains 4 disks\n",
    "        state20=state[2][0]\n",
    "        state21=state[2][1]\n",
    "        state22=state[2][2]\n",
    "        state23=state[2][3]\n",
    "    if state[3]==[]:                                     # Check Peg4 is empty\n",
    "        state30=' '\n",
    "        state31=' '\n",
    "        state32=' '\n",
    "        state33=' '\n",
    "    elif len(state[3])==1:                               # Peg4 contains 1 disk\n",
    "        state30=' '\n",
    "        state31=' '\n",
    "        state32=' '\n",
    "        state33=state[3][0]\n",
    "    elif len(state[3])==2:                               # Peg3 contains 2 disks\n",
    "        state30=' '\n",
    "        state31=' '\n",
    "        state32=state[3][0]\n",
    "        state33=state[3][1] \n",
    "    elif len(state[3])==3:                               # Peg3 contains 3 disks\n",
    "        state30=' '\n",
    "        state31=state[3][0]\n",
    "        state32=state[3][1]\n",
    "        state33=state[3][2]\n",
    "    elif len(state[3])==4:                               # Peg3 contains 4 disks\n",
    "        state30=state[3][0]\n",
    "        state31=state[3][1]\n",
    "        state32=state[3][2]\n",
    "        state33=state[3][3]\n",
    "    print('{} {} {} {}\\n{} {} {} {}\\n{} {} {} {}\\n{} {} {} {}\\n---------------------------------'.format(state00,state10,state20,state30,state01,state11,state21,state31,state02,state12,state22,state32,state03,state13,state23,state33))\n"
   ]
  },
  {
   "cell_type": "code",
   "execution_count": 16,
   "metadata": {},
   "outputs": [
    {
     "name": "stdout",
     "output_type": "stream",
     "text": [
      "1      \n",
      "2      \n",
      "3      \n",
      "4      \n",
      "---------------------------------\n"
     ]
    }
   ],
   "source": [
    "state=[[1,2,3,4],[],[],[]]\n",
    "printState_4disk(state)"
   ]
  },
  {
   "cell_type": "code",
   "execution_count": 17,
   "metadata": {},
   "outputs": [
    {
     "name": "stdout",
     "output_type": "stream",
     "text": [
      "       \n",
      "       \n",
      "3      \n",
      "4   1 2\n",
      "---------------------------------\n"
     ]
    }
   ],
   "source": [
    "state=[[3,4],[],[1],[2]]\n",
    "printState_4disk(state)"
   ]
  },
  {
   "cell_type": "code",
   "execution_count": 18,
   "metadata": {},
   "outputs": [],
   "source": [
    "def validMoves_4disk(state):\n",
    "    copyState=deepcopy(state)\n",
    "    validMoves=[]\n",
    "    state1=copyState[0]                               # Peg1\n",
    "    state2=copyState[1]                               # Peg2\n",
    "    state3=copyState[2]                               # Peg3\n",
    "    state4=copyState[3]                               # Peg4\n",
    "    state10=0\n",
    "    state20=0\n",
    "    state30=0\n",
    "    state40=0\n",
    "    \n",
    "    if state1 == []:                                   # if Peg1 is empty, disks from other pegs can be moved to peg1\n",
    "        if state2 != []:\n",
    "            validMoves.append([2,1])\n",
    "        if state3 != []:\n",
    "            validMoves.append([3,1])\n",
    "        if state4 != []:\n",
    "            validMoves.append([4,1])\n",
    "    elif state1 != []:                                 # if not empty, get the top disk\n",
    "        state10 = state1[0]\n",
    "        \n",
    "    if state2 == []:                                   # if Peg2 is empty, disks from other pegs can be moved to peg2\n",
    "        if state1 != []:\n",
    "            validMoves.append([1,2])\n",
    "        if state3 != []:\n",
    "            validMoves.append([3,2])\n",
    "        if state4 != []:\n",
    "            validMoves.append([4,2])\n",
    "    elif state2 != []:                                 # if not empty, get the top disk\n",
    "        state20 = state2[0]\n",
    "        \n",
    "    if state3 == []:                                   # if Peg3 is empty, disks from other pegs can be moved to peg3\n",
    "        if state1 != []:\n",
    "            validMoves.append([1,3])\n",
    "        if state2 != []:\n",
    "            validMoves.append([2,3])\n",
    "        if state4 != []:\n",
    "            validMoves.append([4,3])\n",
    "    elif state3 != []:                                 # if not empty, get the top disk\n",
    "        state30 = state3[0]   \n",
    "        \n",
    "    if state4 == []:                                   # if Peg4 is empty, disks from other pegs can be moved to peg4\n",
    "        if state1 != []:\n",
    "            validMoves.append([1,4])\n",
    "        if state2 != []:\n",
    "            validMoves.append([2,4])\n",
    "        if state3 != []:\n",
    "            validMoves.append([3,4])\n",
    "    elif state4 != []:                                 # if not empty, get the top disk\n",
    "        state40 = state4[0]    \n",
    "         \n",
    "    # if pegs are not empty, check top disks values and append validMoves list accordingly        \n",
    "    if state10 != 0 and state20 != 0:\n",
    "        if state10 < state20:\n",
    "            validMoves.append([1,2])\n",
    "        elif state20 < state10:\n",
    "            validMoves.append([2,1])\n",
    "    \n",
    "    if state10 != 0 and state30 != 0:\n",
    "        if state10 < state30:\n",
    "            validMoves.append([1,3])\n",
    "        elif state30 < state10:\n",
    "            validMoves.append([3,1])\n",
    "    \n",
    "    if state10 != 0 and state40 != 0:\n",
    "        if state10 < state40:\n",
    "            validMoves.append([1,4])\n",
    "        elif state40 < state10:\n",
    "            validMoves.append([4,1])\n",
    "    \n",
    "    if state20 != 0 and state30 != 0:\n",
    "        if state20 < state30:\n",
    "            validMoves.append([2,3])\n",
    "        elif state30 < state20:\n",
    "            validMoves.append([3,2])\n",
    "    \n",
    "    if state20 != 0 and state40 != 0:\n",
    "        if state20 < state40:\n",
    "            validMoves.append([2,4])\n",
    "        elif state40 < state20:\n",
    "            validMoves.append([4,2])\n",
    "    \n",
    "    if state30 != 0 and state40 != 0:\n",
    "        if state30 < state40:\n",
    "            validMoves.append([3,4])\n",
    "        elif state40 < state30:\n",
    "            validMoves.append([4,3])\n",
    "        \n",
    "    return validMoves"
   ]
  },
  {
   "cell_type": "code",
   "execution_count": 19,
   "metadata": {},
   "outputs": [
    {
     "data": {
      "text/plain": [
       "[[1, 2], [1, 3], [1, 4], [2, 3], [2, 4], [3, 4]]"
      ]
     },
     "execution_count": 19,
     "metadata": {},
     "output_type": "execute_result"
    }
   ],
   "source": [
    "validMoves_4disk([[1], [2], [3], [4]])"
   ]
  },
  {
   "cell_type": "code",
   "execution_count": 20,
   "metadata": {},
   "outputs": [
    {
     "data": {
      "text/plain": [
       "[[1, 2], [3, 2], [4, 2], [1, 3], [1, 4], [3, 4]]"
      ]
     },
     "execution_count": 20,
     "metadata": {},
     "output_type": "execute_result"
    }
   ],
   "source": [
    "validMoves_4disk([[1,2], [], [3], [4]])"
   ]
  },
  {
   "cell_type": "code",
   "execution_count": 21,
   "metadata": {},
   "outputs": [],
   "source": [
    "def makeMove_4disk(state, move):\n",
    "    newState=deepcopy(state)                            # Copy state\n",
    "    oldpeg=move[0]-1                                    # List index= Peg -1 \n",
    "    newpeg=move[1]-1\n",
    "    disk=newState[oldpeg][0]                            # Get top disk\n",
    "    newState[newpeg].insert(0,disk)\n",
    "    newState[oldpeg].remove(disk)\n",
    "    return newState"
   ]
  },
  {
   "cell_type": "code",
   "execution_count": 22,
   "metadata": {},
   "outputs": [],
   "source": [
    "import random\n",
    "def winner_4disk(state,move):                           # Returns 1 if goal reached\n",
    "    copy_state= deepcopy(state)\n",
    "    state_new=makeMove_4disk(copy_state,move)\n",
    "    if state_new==[[],[],[],[1,2,3,4]]:\n",
    "        return 1\n",
    "    else:\n",
    "        return 0\n",
    "\n",
    "def getQ_4disk(state, Q, move):                         # Returns Q using key\n",
    "    if winner_4disk(state,move):\n",
    "        return 0\n",
    "    key= stateMoveTuple(state,move)\n",
    "    return Q.get(key,-1)\n",
    "    \n",
    "\n",
    "def epsilonGreedy_4disk(epsilon, Q, state):             # Returns random move or greedy move based on epsilon value\n",
    "    valid_moves = validMoves_4disk(state)\n",
    "    if np.random.uniform() < epsilon:\n",
    "        # Random Move\n",
    "        return random.choice(valid_moves)\n",
    "    else:\n",
    "        # Greedy Move\n",
    "        Qs = np.array([getQ_4disk(state, Q, m) for m in valid_moves]) \n",
    "        return valid_moves[ np.argmin(Qs) ]"
   ]
  },
  {
   "cell_type": "code",
   "execution_count": 23,
   "metadata": {},
   "outputs": [],
   "source": [
    "def trainQ_4disk(nRepetitions, learningRate, epsilonDecayFactor, validMovesF, makeMoveF):\n",
    "    Q = {}\n",
    "    startState=[[1,2,3,4],[],[],[]]\n",
    "    stepsToGoal = []\n",
    "    epsilon=1\n",
    "    \n",
    "    for i in range(0,nRepetitions):\n",
    "        epsilon *= epsilonDecayFactor\n",
    "        maxMoves=10000\n",
    "        solved= False\n",
    "        state = startState\n",
    "        path= [startState]\n",
    "        old_move = None\n",
    "        old_state = None\n",
    "        while not solved and len(path) < maxMoves:\n",
    "            move = epsilonGreedy_4disk(epsilon, Q, state)\n",
    "            if old_move is not None:\n",
    "                # update Q\n",
    "                old_key= stateMoveTuple(old_state,old_move)\n",
    "                TD_error=1+ getQ_4disk(state, Q, move) - getQ_4disk(old_state, Q, old_move)    # Calculate Temporal Difference\n",
    "                old_Q = getQ_4disk(old_state, Q, old_move)                                      # Get Q from previous state\n",
    "                old_Q += learningRate * TD_error\n",
    "                Q[old_key] = old_Q\n",
    "            old_state= state\n",
    "            state = makeMoveF(state,move)\n",
    "            old_move = move\n",
    "            path.append(state)\n",
    "            if winner_4disk(old_state,old_move):\n",
    "                solved=True\n",
    "        stepsToGoal.append(len(path)-1)\n",
    "    return Q,np.array(stepsToGoal)\n",
    "\n",
    "def testQ_4disk(Q, maxSteps, validMovesF, makeMoveF):\n",
    "    startState=[[1,2,3,4],[],[],[]]\n",
    "    epsilon=0\n",
    "    solved= False\n",
    "    state = startState\n",
    "    path= [startState]\n",
    "    old_move = None\n",
    "    old_state = None\n",
    "    while not solved and len(path) < maxSteps:\n",
    "        move = epsilonGreedy_4disk(epsilon, Q, state)                       # get greedy move as epsilon is 0\n",
    "        old_state= state\n",
    "        state = makeMoveF(state,move)\n",
    "        old_move = move\n",
    "        path.append(state)\n",
    "        if winner_4disk(old_state,old_move):\n",
    "            solved=True\n",
    "    return path"
   ]
  },
  {
   "cell_type": "code",
   "execution_count": 24,
   "metadata": {},
   "outputs": [
    {
     "name": "stdout",
     "output_type": "stream",
     "text": [
      "1      \n",
      "2      \n",
      "3      \n",
      "4      \n",
      "---------------------------------\n"
     ]
    }
   ],
   "source": [
    "state = [[1, 2, 3, 4], [], [], []]\n",
    "printState_4disk(state)"
   ]
  },
  {
   "cell_type": "code",
   "execution_count": 25,
   "metadata": {},
   "outputs": [
    {
     "data": {
      "text/plain": [
       "(((1, 2, 3, 4), (), (), ()), (1, 2))"
      ]
     },
     "execution_count": 25,
     "metadata": {},
     "output_type": "execute_result"
    }
   ],
   "source": [
    "move =[1, 2]\n",
    "stateMoveTuple(state, move)"
   ]
  },
  {
   "cell_type": "code",
   "execution_count": 26,
   "metadata": {},
   "outputs": [
    {
     "data": {
      "text/plain": [
       "[[2, 3, 4], [1], [], []]"
      ]
     },
     "execution_count": 26,
     "metadata": {},
     "output_type": "execute_result"
    }
   ],
   "source": [
    "newstate = makeMove_4disk(state, move)\n",
    "newstate"
   ]
  },
  {
   "cell_type": "code",
   "execution_count": 27,
   "metadata": {},
   "outputs": [
    {
     "name": "stdout",
     "output_type": "stream",
     "text": [
      "       \n",
      "2      \n",
      "3      \n",
      "4 1    \n",
      "---------------------------------\n"
     ]
    }
   ],
   "source": [
    "printState_4disk(newstate)"
   ]
  },
  {
   "cell_type": "code",
   "execution_count": 33,
   "metadata": {},
   "outputs": [],
   "source": [
    "Q, stepsToGoal = trainQ_4disk(200, 1, 0.7, validMoves_4disk, makeMove_4disk)"
   ]
  },
  {
   "cell_type": "code",
   "execution_count": 34,
   "metadata": {},
   "outputs": [
    {
     "data": {
      "text/plain": [
       "array([851, 475, 994, 361, 578, 472,  33,  67,  32,  41, 341, 325,  24,\n",
       "       495, 387, 106,  92,  91, 144,  21,  22,  26,  13,  41,  21,  54,\n",
       "        61,  33,  23,  23,  50,  61,  33,  21,  16,  99,  25,  27,  61,\n",
       "       106,  87, 140,  19,  18,  58,  82,  61,  12,  49,  11,   9,   9,\n",
       "        10,  46,  10, 165,  11,  37,  36,  11,   9,  17, 125,  16,  20,\n",
       "        13,  10,  23,  28,  12,  21,   9,  12,  15,  36,  39,  51,  15,\n",
       "        16,  26,  31,  28,  19,  56,  24,  36,  19,  15,  13,  12,  13,\n",
       "         9,   9,   9,   9,   9,   9,   9,   9,   9,   9,   9,   9,   9,\n",
       "         9,   9,   9,   9,   9,   9,   9,   9,   9,   9,   9,   9,   9,\n",
       "         9,   9,   9,   9,   9,   9,   9,   9,   9,   9,   9,   9,   9,\n",
       "         9,   9,   9,   9,   9,   9,   9,   9,   9,   9,   9,   9,   9,\n",
       "         9,   9,   9,   9,   9,   9,   9,   9,   9,   9,   9,   9,   9,\n",
       "         9,   9,   9,   9,   9,   9,   9,   9,   9,   9,   9,   9,   9,\n",
       "         9,   9,   9,   9,   9,   9,   9,   9,   9,   9,   9,   9,   9,\n",
       "         9,   9,   9,   9,   9,   9,   9,   9,   9,   9,   9,   9,   9,\n",
       "         9,   9,   9,   9,   9])"
      ]
     },
     "execution_count": 34,
     "metadata": {},
     "output_type": "execute_result"
    }
   ],
   "source": [
    "stepsToGoal"
   ]
  },
  {
   "cell_type": "code",
   "execution_count": 35,
   "metadata": {},
   "outputs": [],
   "source": [
    "path = testQ_4disk(Q, 20, validMoves_4disk, makeMove_4disk)"
   ]
  },
  {
   "cell_type": "code",
   "execution_count": 36,
   "metadata": {},
   "outputs": [
    {
     "data": {
      "text/plain": [
       "[[[1, 2, 3, 4], [], [], []],\n",
       " [[2, 3, 4], [1], [], []],\n",
       " [[3, 4], [1], [2], []],\n",
       " [[3, 4], [], [1, 2], []],\n",
       " [[4], [3], [1, 2], []],\n",
       " [[], [3], [1, 2], [4]],\n",
       " [[], [], [1, 2], [3, 4]],\n",
       " [[1], [], [2], [3, 4]],\n",
       " [[1], [], [], [2, 3, 4]],\n",
       " [[], [], [], [1, 2, 3, 4]]]"
      ]
     },
     "execution_count": 36,
     "metadata": {},
     "output_type": "execute_result"
    }
   ],
   "source": [
    "path"
   ]
  },
  {
   "cell_type": "code",
   "execution_count": 37,
   "metadata": {},
   "outputs": [
    {
     "name": "stdout",
     "output_type": "stream",
     "text": [
      "1      \n",
      "2      \n",
      "3      \n",
      "4      \n",
      "---------------------------------\n",
      "\n",
      "       \n",
      "2      \n",
      "3      \n",
      "4 1    \n",
      "---------------------------------\n",
      "\n",
      "       \n",
      "       \n",
      "3      \n",
      "4 1 2  \n",
      "---------------------------------\n",
      "\n",
      "       \n",
      "       \n",
      "3   1  \n",
      "4   2  \n",
      "---------------------------------\n",
      "\n",
      "       \n",
      "       \n",
      "    1  \n",
      "4 3 2  \n",
      "---------------------------------\n",
      "\n",
      "       \n",
      "       \n",
      "    1  \n",
      "  3 2 4\n",
      "---------------------------------\n",
      "\n",
      "       \n",
      "       \n",
      "    1 3\n",
      "    2 4\n",
      "---------------------------------\n",
      "\n",
      "       \n",
      "       \n",
      "      3\n",
      "1   2 4\n",
      "---------------------------------\n",
      "\n",
      "       \n",
      "      2\n",
      "      3\n",
      "1     4\n",
      "---------------------------------\n",
      "\n",
      "      1\n",
      "      2\n",
      "      3\n",
      "      4\n",
      "---------------------------------\n",
      "\n"
     ]
    }
   ],
   "source": [
    "for s in path:\n",
    "    printState_4disk(s)\n",
    "    print()"
   ]
  }
 ],
 "metadata": {
  "kernelspec": {
   "display_name": "Python 3",
   "language": "python",
   "name": "python3"
  },
  "language_info": {
   "codemirror_mode": {
    "name": "ipython",
    "version": 3
   },
   "file_extension": ".py",
   "mimetype": "text/x-python",
   "name": "python",
   "nbconvert_exporter": "python",
   "pygments_lexer": "ipython3",
   "version": "3.6.5"
  }
 },
 "nbformat": 4,
 "nbformat_minor": 2
}
