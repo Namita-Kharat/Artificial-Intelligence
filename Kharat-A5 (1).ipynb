{
 "cells": [
  {
   "cell_type": "markdown",
   "metadata": {},
   "source": [
    "$\\newcommand{\\xv}{\\mathbf{x}}\n",
    "\\newcommand{\\Xv}{\\mathbf{X}}\n",
    "\\newcommand{\\yv}{\\mathbf{y}}\n",
    "\\newcommand{\\zv}{\\mathbf{z}}\n",
    "\\newcommand{\\av}{\\mathbf{a}}\n",
    "\\newcommand{\\Wv}{\\mathbf{W}}\n",
    "\\newcommand{\\wv}{\\mathbf{w}}\n",
    "\\newcommand{\\tv}{\\mathbf{t}}\n",
    "\\newcommand{\\Tv}{\\mathbf{T}}\n",
    "\\newcommand{\\muv}{\\boldsymbol{\\mu}}\n",
    "\\newcommand{\\sigmav}{\\boldsymbol{\\sigma}}\n",
    "\\newcommand{\\phiv}{\\boldsymbol{\\phi}}\n",
    "\\newcommand{\\Phiv}{\\boldsymbol{\\Phi}}\n",
    "\\newcommand{\\Sigmav}{\\boldsymbol{\\Sigma}}\n",
    "\\newcommand{\\Lambdav}{\\boldsymbol{\\Lambda}}\n",
    "\\newcommand{\\half}{\\frac{1}{2}}\n",
    "\\newcommand{\\argmax}[1]{\\underset{#1}{\\operatorname{argmax}}}\n",
    "\\newcommand{\\argmin}[1]{\\underset{#1}{\\operatorname{argmin}}}$"
   ]
  },
  {
   "cell_type": "markdown",
   "metadata": {},
   "source": [
    "# Assignment 5: Neural Networks"
   ]
  },
  {
   "cell_type": "markdown",
   "metadata": {},
   "source": [
    "*Namita Kharat*"
   ]
  },
  {
   "cell_type": "markdown",
   "metadata": {},
   "source": [
    "## Overview"
   ]
  },
  {
   "cell_type": "markdown",
   "metadata": {},
   "source": [
    "* I have written and applied code that trains neural networks of various numbers of hidden layers and units in each hidden layer and returns results as specified below.  This code is applied once for a regression problem and once for a classification problem. "
   ]
  },
  {
   "cell_type": "markdown",
   "metadata": {},
   "source": [
    "## Required Code"
   ]
  },
  {
   "cell_type": "markdown",
   "metadata": {},
   "source": [
    "Following modules were used:\n",
    "\n",
    "* `neuralnetworks.py`\n",
    "* `scaledconjugategradient.py`\n",
    "* `mlutils.py`"
   ]
  },
  {
   "cell_type": "markdown",
   "metadata": {},
   "source": [
    "Following algorithm was used to write the function:\n",
    " `results = trainNNs(X, T, trainFraction, hiddenLayerStructures, numberRepetitions, numberIterations, classify)`\n",
    " \n",
    "   * For each network structure given in `hiddenLayerStructures`\n",
    "    * For numberRepetitions\n",
    "      * Use `ml.partition` to randomly partition X and T into training and testing sets.\n",
    "      * Create a neural network of the given structure\n",
    "      * Train it for numberIterations\n",
    "      * Use the trained network to produce outputs for the training and for the testing sets\n",
    "      * If classifying, calculate the fraction of samples incorrectly classified for training and testing sets.\n",
    "       Otherwise, calculate the RMSE of training and testing sets.\n",
    "      * Add the training and testing performance to a collection (such as a list) for this network structure\n",
    "    * Add to a collection of all results the hidden layer structure, lists of training performance and testing performance, and seconds taken to do these repetitions.\n",
    "  * return the collection of all results\n",
    "\n",
    "This function returns `results` which is list with one element for each network structure tested.  Each element is a list containing \n",
    "\n",
    "* the hidden layer structure (as a list),\n",
    "* a list of training data performance for each repetition, \n",
    "* a list of testing data performance for each repetition, and\n",
    "* the number of seconds it took to run this many repetitions for this network structure.\n"
   ]
  },
  {
   "cell_type": "markdown",
   "metadata": {},
   "source": [
    "Additionally, following two functions were written:\n",
    "\n",
    "* `summary = summarize(results)` where `results` is returned by `trainNNs` and `summary` is like `results` with the training and testing performance lists replaced by their means\n",
    "* `best = bestNetwork(summary)` where `summary` is returned by `summarize` and `best` is the best element of `summary`"
   ]
  },
  {
   "cell_type": "code",
   "execution_count": 1,
   "metadata": {},
   "outputs": [],
   "source": [
    "from mlutils import *\n",
    "from neuralnetworks import *\n",
    "from scaledconjugategradient import *\n",
    "import numpy as np\n",
    "import pandas as pd\n",
    "import time\n",
    "import matplotlib.pyplot as plt\n",
    "%matplotlib inline"
   ]
  },
  {
   "cell_type": "code",
   "execution_count": 2,
   "metadata": {},
   "outputs": [],
   "source": [
    "def trainNNs(X, T, trainFraction, hiddenLayerStructures, numberRepetitions, numberIterations, classify):\n",
    "    results=[]\n",
    "    fractions=[trainFraction,1-trainFraction]\n",
    "    for ntwkstruct in hiddenLayerStructures:\n",
    "        training_performance=[]\n",
    "        testing_performance=[]\n",
    "        start_time=time.time()\n",
    "        for nrep in range(numberRepetitions):                    # Loop for number of repetitions to train the network\n",
    "            if len(fractions) == 2:\n",
    "                Xtrain,Ttrain,Xtest,Ttest=partition(X,T,fractions)\n",
    "            else:\n",
    "                Xtrain,Ttrain,Xvalidate,Tvalidate,Xtest,Ttest=partition(X,T,fractions)\n",
    "            if classify is True:                                 # For classification, use NeuralNetworkClassifier Class\n",
    "                Tclass=np.unique(T)\n",
    "                nn_object=NeuralNetworkClassifier(X.shape[1], ntwkstruct, len(Tclass))\n",
    "            else:                                                # For regression, use NeuralNetwork Class\n",
    "                nn_object=NeuralNetwork(X.shape[1], ntwkstruct, T.shape[1])\n",
    "            nn_object.train(Xtrain, Ttrain, numberIterations)\n",
    "            Y = nn_object.use(Xtrain)\n",
    "            Ytest= nn_object.use(Xtest)\n",
    "            if classify is True:                                  # Samples misclassified for classification\n",
    "                trainPerf=np.sum(Y!=Ttrain)/len(Ttrain)\n",
    "                testPerf=np.sum(Ytest!=Ttest)/len(Ttest)\n",
    "            else:                                                 # Calculate RMSE for regression\n",
    "                trainPerf=np.sqrt(np.mean((Y-Ttrain)**2))\n",
    "                testPerf=np.sqrt(np.mean((Ytest-Ttest)**2))\n",
    "            training_performance.append(trainPerf)\n",
    "            testing_performance.append(testPerf)\n",
    "        global error_trace\n",
    "        error_trace=nn_object.getErrorTrace()\n",
    "        end_time=time.time()\n",
    "        secondsTaken=end_time-start_time                           # Calculate time taken\n",
    "        results.append([ntwkstruct,training_performance,testing_performance,secondsTaken])\n",
    "    return results\n",
    "    \n",
    "def summarize(results):\n",
    "    result=[]\n",
    "    for i in range(len(results)):\n",
    "        hs=results[i][0]\n",
    "        # Calculate mean for training and testing performance\n",
    "        train_perf=np.mean(results[i][1])\n",
    "        test_perf=np.mean(results[i][2])\n",
    "        time=results[i][3]\n",
    "        result.append([hs,train_perf,test_perf,time])\n",
    "    return result\n",
    "\n",
    "def bestNetwork(summary):\n",
    "    min_test=[]\n",
    "    for i in range(len(summary)):\n",
    "        min_test.append(summary[i][2])\n",
    "    best_parameter = min_test.index(min(min_test))   # get the minimum testing performance\n",
    "    return summary[best_parameter]\n",
    "    "
   ]
  },
  {
   "cell_type": "markdown",
   "metadata": {},
   "source": [
    "## Examples\n"
   ]
  },
  {
   "cell_type": "code",
   "execution_count": 80,
   "metadata": {},
   "outputs": [],
   "source": [
    "X = np.arange(10).reshape((-1,1))\n",
    "T = X + 1 + np.random.uniform(-1, 1, ((10,1)))"
   ]
  },
  {
   "cell_type": "code",
   "execution_count": 81,
   "metadata": {},
   "outputs": [
    {
     "data": {
      "image/png": "[encoded data removed]",
      "text/plain": [
       "<Figure size 432x288 with 1 Axes>"
      ]
     },
     "metadata": {},
     "output_type": "display_data"
    }
   ],
   "source": [
    "plt.plot(X, T, 'o-');"
   ]
  },
  {
   "cell_type": "code",
   "execution_count": 82,
   "metadata": {},
   "outputs": [
    {
     "name": "stdout",
     "output_type": "stream",
     "text": [
      "[0.71 0.44 0.44 0.44 0.44 0.44 0.44 0.44 0.44 0.44 0.43 0.28 0.27 0.17\n",
      " 0.16 0.16 0.16 0.16 0.15 0.14 0.14 0.14 0.14 0.14 0.14 0.13 0.13 0.13\n",
      " 0.13 0.13 0.13 0.13 0.13 0.13 0.13 0.13 0.13 0.13 0.13 0.13 0.13 0.13\n",
      " 0.13 0.13 0.13 0.13 0.13 0.13 0.13 0.13 0.13 0.13 0.13 0.13 0.13 0.13\n",
      " 0.13 0.13 0.13 0.13 0.13 0.13 0.13 0.13 0.13 0.13 0.13 0.13 0.13 0.13\n",
      " 0.13 0.13 0.13 0.13 0.13 0.13 0.13 0.13 0.13 0.13 0.13 0.13 0.13 0.13\n",
      " 0.13 0.13 0.13 0.13 0.13 0.13 0.13 0.13 0.13 0.13 0.13 0.13 0.13 0.13\n",
      " 0.13 0.13 0.13]\n"
     ]
    },
    {
     "data": {
      "text/plain": [
       "Text(0,0.5,'Error')"
      ]
     },
     "execution_count": 82,
     "metadata": {},
     "output_type": "execute_result"
    },
    {
     "data": {
      "image/png": "[encoded data removed]",
      "text/plain": [
       "<Figure size 432x288 with 1 Axes>"
      ]
     },
     "metadata": {},
     "output_type": "display_data"
    }
   ],
   "source": [
    "nnet = NeuralNetwork(X.shape[1], 2, T.shape[1])\n",
    "nnet.train(X, T, 100)\n",
    "error=nnet.getErrorTrace()\n",
    "print(error)\n",
    "plt.plot(error)\n",
    "plt.xlabel('Total Iterations')\n",
    "plt.ylabel('Error')"
   ]
  },
  {
   "cell_type": "code",
   "execution_count": 83,
   "metadata": {},
   "outputs": [
    {
     "name": "stdout",
     "output_type": "stream",
     "text": [
      "[0.71 0.36 0.36 0.36 0.36 0.36 0.36 0.36 0.36 0.36 0.27 0.2  0.17 0.17\n",
      " 0.15 0.15 0.14 0.13 0.13 0.13 0.13 0.13 0.13 0.13 0.13 0.13 0.13 0.13\n",
      " 0.13 0.13 0.13 0.13 0.13 0.13 0.13 0.13 0.13 0.13 0.13 0.13 0.13 0.13\n",
      " 0.13 0.13 0.13 0.13 0.13 0.13 0.13 0.13 0.13 0.13 0.13 0.13 0.13 0.13\n",
      " 0.13 0.13 0.13 0.13 0.13 0.13 0.13 0.13 0.13 0.13 0.13 0.13 0.13 0.13\n",
      " 0.13 0.13 0.13 0.13 0.13 0.13 0.13 0.13 0.13 0.13 0.13 0.13 0.13 0.13\n",
      " 0.13 0.13 0.13 0.13 0.13 0.13 0.13 0.13 0.13 0.13 0.13 0.13 0.13 0.13\n",
      " 0.13 0.13 0.13]\n"
     ]
    },
    {
     "data": {
      "text/plain": [
       "Text(0,0.5,'Error')"
      ]
     },
     "execution_count": 83,
     "metadata": {},
     "output_type": "execute_result"
    },
    {
     "data": {
      "image/png": "[encoded data removed]",
      "text/plain": [
       "<Figure size 432x288 with 1 Axes>"
      ]
     },
     "metadata": {},
     "output_type": "display_data"
    }
   ],
   "source": [
    "nnet = NeuralNetwork(X.shape[1], [5, 5, 5], T.shape[1])\n",
    "nnet.train(X, T, 100)\n",
    "error=nnet.getErrorTrace()\n",
    "print(error)\n",
    "plt.plot(error)\n",
    "plt.xlabel('Total Iterations')\n",
    "plt.ylabel('Error')"
   ]
  },
  {
   "cell_type": "code",
   "execution_count": 84,
   "metadata": {},
   "outputs": [
    {
     "data": {
      "text/plain": [
       "[[2,\n",
       "  [0.5711735394769478,\n",
       "   0.3941129930970702,\n",
       "   0.5091270456411918,\n",
       "   0.5361918810990133,\n",
       "   0.49942829132699545],\n",
       "  [0.6495369077571752,\n",
       "   1.213872900201404,\n",
       "   0.9027250907674682,\n",
       "   0.7426651889412671,\n",
       "   0.7405603353896957],\n",
       "  0.14482784271240234],\n",
       " [10,\n",
       "  [0.43128103237421234,\n",
       "   0.20977180876417173,\n",
       "   0.15417325026053397,\n",
       "   0.5160502162991122,\n",
       "   0.5353679469887929],\n",
       "  [1.1647819783467865,\n",
       "   2.11679295776135,\n",
       "   1.9363630104477865,\n",
       "   1.0301191775418697,\n",
       "   0.7706692490402415],\n",
       "  0.19251132011413574],\n",
       " [[10, 10],\n",
       "  [0.29658884701624727,\n",
       "   0.33513024400406927,\n",
       "   0.5287477445792547,\n",
       "   0.2816849623207342,\n",
       "   0.2791853893207885],\n",
       "  [1.810173874749765,\n",
       "   2.267960124687041,\n",
       "   0.596481940856719,\n",
       "   2.5495340908270263,\n",
       "   2.4820795883544653],\n",
       "  0.24996542930603027]]"
      ]
     },
     "execution_count": 84,
     "metadata": {},
     "output_type": "execute_result"
    }
   ],
   "source": [
    "results = trainNNs(X, T, 0.8, [2, 10, [10, 10]], 5, 100, classify=False)\n",
    "results"
   ]
  },
  {
   "cell_type": "code",
   "execution_count": 85,
   "metadata": {},
   "outputs": [
    {
     "name": "stdout",
     "output_type": "stream",
     "text": [
      "[0.71 0.44 0.44 0.44 0.44 0.44 0.44 0.44 0.44 0.44 0.44 0.44 0.23 0.17\n",
      " 0.17 0.17 0.16 0.15 0.15 0.15 0.15 0.15 0.15 0.15 0.15 0.14 0.14 0.14\n",
      " 0.14 0.14 0.14 0.14 0.14 0.14 0.14 0.14 0.14 0.14 0.14 0.14 0.14 0.14\n",
      " 0.14 0.14 0.14 0.14 0.14 0.14 0.14 0.14 0.14 0.14 0.14 0.14 0.13 0.13\n",
      " 0.13 0.12 0.12 0.12 0.11 0.11 0.11 0.1  0.1  0.1  0.09 0.09 0.09 0.08\n",
      " 0.08 0.08 0.08 0.08 0.08 0.08 0.07 0.07 0.07 0.07 0.07 0.07 0.07 0.07\n",
      " 0.07 0.07 0.07 0.07 0.07 0.07 0.07 0.07 0.07 0.07 0.07 0.07 0.07 0.07\n",
      " 0.07 0.07 0.07]\n"
     ]
    },
    {
     "data": {
      "text/plain": [
       "Text(0,0.5,'Error')"
      ]
     },
     "execution_count": 85,
     "metadata": {},
     "output_type": "execute_result"
    },
    {
     "data": {
      "image/png": "[encoded data removed]",
      "text/plain": [
       "<Figure size 432x288 with 1 Axes>"
      ]
     },
     "metadata": {},
     "output_type": "display_data"
    }
   ],
   "source": [
    "print(error_trace)\n",
    "plt.plot(error_trace)\n",
    "plt.xlabel('Total Iterations')\n",
    "plt.ylabel('Error')"
   ]
  },
  {
   "cell_type": "code",
   "execution_count": 86,
   "metadata": {},
   "outputs": [],
   "source": [
    "results = trainNNs(X, T, 0.8, [0, 1, 2, 10, [10, 10], [5, 5, 5, 5], [2]*5], 50, 100, classify=False)"
   ]
  },
  {
   "cell_type": "code",
   "execution_count": 87,
   "metadata": {},
   "outputs": [
    {
     "data": {
      "text/plain": [
       "[[0, 0.5726963059904966, 0.7169679898300856, 0.03402519226074219],\n",
       " [1, 0.5172137526874802, 0.8384493421000667, 1.6025161743164062],\n",
       " [2, 0.49345451713513017, 1.108947777171244, 1.7343909740447998],\n",
       " [10, 0.38538791599537703, 1.5405734454860425, 1.9185335636138916],\n",
       " [[10, 10], 0.40706761734716634, 1.321406068559477, 2.6981029510498047],\n",
       " [[5, 5, 5, 5], 0.45415812585453, 1.2906159594311302, 3.6335713863372803],\n",
       " [[2, 2, 2, 2, 2], 0.5178285874138384, 0.8037498227955777, 3.7231647968292236]]"
      ]
     },
     "execution_count": 87,
     "metadata": {},
     "output_type": "execute_result"
    }
   ],
   "source": [
    "summarize(results)"
   ]
  },
  {
   "cell_type": "code",
   "execution_count": 88,
   "metadata": {},
   "outputs": [
    {
     "name": "stdout",
     "output_type": "stream",
     "text": [
      "[0, 0.5726963059904966, 0.7169679898300856, 0.03402519226074219]\n",
      "Hidden Layers 0 Average RMSE Training 0.57 Testing 0.72 Took 0.03 seconds\n"
     ]
    }
   ],
   "source": [
    "best = bestNetwork(summarize(results))\n",
    "print(best)\n",
    "print('Hidden Layers {} Average RMSE Training {:.2f} Testing {:.2f} Took {:.2f} seconds'.format(*best))"
   ]
  },
  {
   "cell_type": "code",
   "execution_count": 89,
   "metadata": {},
   "outputs": [
    {
     "name": "stdout",
     "output_type": "stream",
     "text": [
      "[0.71 0.7  0.7  0.7  0.7  0.68 0.58 0.5  0.4  0.27 0.25 0.25 0.24 0.24\n",
      " 0.23 0.22 0.22 0.19 0.18 0.18 0.17 0.17 0.15 0.15 0.15 0.15 0.15 0.15\n",
      " 0.15 0.15 0.15 0.15 0.15 0.15 0.15 0.15 0.14 0.14 0.14 0.14 0.14 0.14\n",
      " 0.14 0.14 0.14 0.14 0.14 0.14 0.14 0.14 0.14 0.14 0.14 0.14 0.14 0.14\n",
      " 0.14 0.14 0.14 0.14 0.14 0.14 0.14 0.14 0.14 0.14 0.13 0.13 0.13 0.13\n",
      " 0.13 0.13 0.13 0.13 0.13 0.13 0.13 0.13 0.13 0.13 0.13 0.13 0.13 0.13\n",
      " 0.13 0.13 0.13 0.13 0.13 0.13 0.13 0.12 0.12 0.12 0.12 0.12 0.12 0.12\n",
      " 0.12 0.12 0.12]\n"
     ]
    },
    {
     "data": {
      "text/plain": [
       "Text(0,0.5,'Error')"
      ]
     },
     "execution_count": 89,
     "metadata": {},
     "output_type": "execute_result"
    },
    {
     "data": {
      "image/png": "[encoded data removed]",
      "text/plain": [
       "<Figure size 432x288 with 1 Axes>"
      ]
     },
     "metadata": {},
     "output_type": "display_data"
    }
   ],
   "source": [
    "print(error_trace)\n",
    "plt.plot(error_trace)\n",
    "plt.xlabel('Total Iterations')\n",
    "plt.ylabel('Error')"
   ]
  },
  {
   "cell_type": "markdown",
   "metadata": {},
   "source": [
    "Hummm...neural nets with no hidden layers did best on this simple data set.  Why?  Remember what \"best\" means."
   ]
  },
  {
   "cell_type": "markdown",
   "metadata": {},
   "source": [
    "**The neural nets with no hidden layers did best(has minimum mean test error) on this simple data set possibly because adding hidden layers adds complexity which might lead to overfitting of data and thus, increasing the test error.**"
   ]
  },
  {
   "cell_type": "markdown",
   "metadata": {},
   "source": [
    "## Data for Regression Experiment\n",
    "\n",
    "From the UCI Machine Learning Repository, download the [Appliances energy prediction](http://archive.ics.uci.edu/ml/datasets/Appliances+energy+prediction) data.  You can do this by visiting the Data Folder for this data set, or just do this:\n",
    "\n",
    "     !wget http://archive.ics.uci.edu/ml/machine-learning-databases/00374/energydata_complete.csv\n",
    "\n"
   ]
  },
  {
   "cell_type": "markdown",
   "metadata": {},
   "source": [
    "Read this data into python.  One suggestion is to use the `loadtxt` function in the `numpy` package.  You may ignore the first column of each row which contains a data and time.  Also ignore the last two columns of random variables.  We will not use that in our modeling of this data.  You will also have to deal with the double quotes that surround every value in every field.  Read the first line of this file to get the names of the features.\n",
    "\n",
    "Once you have read this in correctly, you should see values like this:"
   ]
  },
  {
   "cell_type": "code",
   "execution_count": 14,
   "metadata": {},
   "outputs": [],
   "source": [
    "read_data = np.loadtxt(\"energydata_complete.csv\",delimiter=',',dtype='str',usecols=[i for i in range(29) if i not in [0,27,28]])\n",
    "dataHeader=np.char.strip(read_data,'\",')\n",
    "header=dataHeader[0,:]\n",
    "names=header.tolist()\n",
    "data=dataHeader[1:,:]\n",
    "data=data.astype(np.float)\n",
    "Xenergy=data[:,2:]\n",
    "Xnames=[names[i] for i in range(len(names)) if i not in [0,1]]\n",
    "Tenergy=data[:,:2]\n",
    "Tnames=[names[i] for i in range(len(names)) if i in [0,1]]"
   ]
  },
  {
   "cell_type": "code",
   "execution_count": 15,
   "metadata": {
    "scrolled": true
   },
   "outputs": [
    {
     "data": {
      "text/plain": [
       "['Appliances',\n",
       " 'lights',\n",
       " 'T1',\n",
       " 'RH_1',\n",
       " 'T2',\n",
       " 'RH_2',\n",
       " 'T3',\n",
       " 'RH_3',\n",
       " 'T4',\n",
       " 'RH_4',\n",
       " 'T5',\n",
       " 'RH_5',\n",
       " 'T6',\n",
       " 'RH_6',\n",
       " 'T7',\n",
       " 'RH_7',\n",
       " 'T8',\n",
       " 'RH_8',\n",
       " 'T9',\n",
       " 'RH_9',\n",
       " 'T_out',\n",
       " 'Press_mm_hg',\n",
       " 'RH_out',\n",
       " 'Windspeed',\n",
       " 'Visibility',\n",
       " 'Tdewpoint']"
      ]
     },
     "execution_count": 15,
     "metadata": {},
     "output_type": "execute_result"
    }
   ],
   "source": [
    "names"
   ]
  },
  {
   "cell_type": "code",
   "execution_count": 16,
   "metadata": {},
   "outputs": [
    {
     "data": {
      "text/plain": [
       "(19735, 26)"
      ]
     },
     "execution_count": 16,
     "metadata": {},
     "output_type": "execute_result"
    }
   ],
   "source": [
    "data.shape"
   ]
  },
  {
   "cell_type": "code",
   "execution_count": 17,
   "metadata": {
    "scrolled": true
   },
   "outputs": [
    {
     "data": {
      "text/plain": [
       "array([[ 60.        ,  30.        ,  19.89      ,  47.59666667,\n",
       "         19.2       ,  44.79      ,  19.79      ,  44.73      ,\n",
       "         19.        ,  45.56666667,  17.16666667,  55.2       ,\n",
       "          7.02666667,  84.25666667,  17.2       ,  41.62666667,\n",
       "         18.2       ,  48.9       ,  17.03333333,  45.53      ,\n",
       "          6.6       , 733.5       ,  92.        ,   7.        ,\n",
       "         63.        ,   5.3       ],\n",
       "       [ 60.        ,  30.        ,  19.89      ,  46.69333333,\n",
       "         19.2       ,  44.7225    ,  19.79      ,  44.79      ,\n",
       "         19.        ,  45.9925    ,  17.16666667,  55.2       ,\n",
       "          6.83333333,  84.06333333,  17.2       ,  41.56      ,\n",
       "         18.2       ,  48.86333333,  17.06666667,  45.56      ,\n",
       "          6.48333333, 733.6       ,  92.        ,   6.66666667,\n",
       "         59.16666667,   5.2       ]])"
      ]
     },
     "execution_count": 17,
     "metadata": {},
     "output_type": "execute_result"
    }
   ],
   "source": [
    "data[:2,:]"
   ]
  },
  {
   "cell_type": "markdown",
   "metadata": {},
   "source": [
    "Use the first two columns, labelled `Appliances` and `lights` as the target variables, and the remaining 24 columns as the input features.  So"
   ]
  },
  {
   "cell_type": "code",
   "execution_count": 18,
   "metadata": {},
   "outputs": [
    {
     "data": {
      "text/plain": [
       "((19735, 24), (19735, 2))"
      ]
     },
     "execution_count": 18,
     "metadata": {},
     "output_type": "execute_result"
    }
   ],
   "source": [
    "Xenergy.shape, Tenergy.shape"
   ]
  },
  {
   "cell_type": "code",
   "execution_count": 19,
   "metadata": {},
   "outputs": [
    {
     "data": {
      "text/plain": [
       "['T1',\n",
       " 'RH_1',\n",
       " 'T2',\n",
       " 'RH_2',\n",
       " 'T3',\n",
       " 'RH_3',\n",
       " 'T4',\n",
       " 'RH_4',\n",
       " 'T5',\n",
       " 'RH_5',\n",
       " 'T6',\n",
       " 'RH_6',\n",
       " 'T7',\n",
       " 'RH_7',\n",
       " 'T8',\n",
       " 'RH_8',\n",
       " 'T9',\n",
       " 'RH_9',\n",
       " 'T_out',\n",
       " 'Press_mm_hg',\n",
       " 'RH_out',\n",
       " 'Windspeed',\n",
       " 'Visibility',\n",
       " 'Tdewpoint']"
      ]
     },
     "execution_count": 19,
     "metadata": {},
     "output_type": "execute_result"
    }
   ],
   "source": [
    "Xnames"
   ]
  },
  {
   "cell_type": "code",
   "execution_count": 20,
   "metadata": {},
   "outputs": [
    {
     "data": {
      "text/plain": [
       "['Appliances', 'lights']"
      ]
     },
     "execution_count": 20,
     "metadata": {},
     "output_type": "execute_result"
    }
   ],
   "source": [
    "Tnames"
   ]
  },
  {
   "cell_type": "markdown",
   "metadata": {},
   "source": [
    "Train several neural networks on all of this data for 100 iterations.  Plot the error trace (nnet.getErrorTrace()) to help you decide now many iterations might be needed.  100 may not be enough.  If for your larger networks the error is still decreasing after 100 iterations you should train all nets for more than 100 iterations.\n",
    "\n",
    "Now use your `trainNNs`, `summarize`, and `bestNetwork` functions on this data to investigate various network sizes."
   ]
  },
  {
   "cell_type": "code",
   "execution_count": 21,
   "metadata": {},
   "outputs": [],
   "source": [
    "results = trainNNs(Xenergy, Tenergy, 0.8, [0, 5, [5, 5], [10, 10]], 10, 100, classify=False)"
   ]
  },
  {
   "cell_type": "code",
   "execution_count": 22,
   "metadata": {},
   "outputs": [
    {
     "data": {
      "text/plain": [
       "[[0, 67.25952482847894, 66.76231090035174, 1.5169389247894287],\n",
       " [5, 65.6261939004393, 65.47471028225542, 22.47589087486267],\n",
       " [[5, 5], 64.99062374303205, 65.9651027307784, 26.149014949798584],\n",
       " [[10, 10], 62.80751971807838, 65.07234328787823, 45.30877494812012]]"
      ]
     },
     "execution_count": 22,
     "metadata": {},
     "output_type": "execute_result"
    }
   ],
   "source": [
    "summarize(results)"
   ]
  },
  {
   "cell_type": "code",
   "execution_count": 23,
   "metadata": {},
   "outputs": [
    {
     "data": {
      "text/plain": [
       "[[10, 10], 62.80751971807838, 65.07234328787823, 45.30877494812012]"
      ]
     },
     "execution_count": 23,
     "metadata": {},
     "output_type": "execute_result"
    }
   ],
   "source": [
    "bestNetwork(summarize(results))"
   ]
  },
  {
   "cell_type": "code",
   "execution_count": 24,
   "metadata": {},
   "outputs": [
    {
     "name": "stdout",
     "output_type": "stream",
     "text": [
      "[0.70710678 0.70200169 0.70200169 0.70200169 0.70200169 0.70200169\n",
      " 0.70200169 0.70200169 0.70200169 0.70200169 0.69873289 0.69759869\n",
      " 0.69446746 0.67924819 0.67360928 0.66915978 0.66713549 0.66550823\n",
      " 0.66056017 0.6559082  0.65436887 0.65211131 0.65070189 0.64866694\n",
      " 0.64509164 0.6422796  0.64092133 0.63957014 0.63769934 0.63685653\n",
      " 0.63575044 0.63514684 0.63470226 0.63400353 0.63328397 0.63279693\n",
      " 0.63188437 0.63123664 0.63050629 0.62896861 0.62821745 0.62717711\n",
      " 0.62649626 0.62576099 0.62408534 0.62323171 0.62180854 0.62108602\n",
      " 0.6198614  0.61914205 0.61840661 0.61769759 0.61706119 0.61582066\n",
      " 0.61517251 0.61457587 0.61359767 0.61268885 0.61160495 0.6108934\n",
      " 0.60968857 0.60894625 0.60813853 0.60731541 0.60658512 0.60539071\n",
      " 0.60474211 0.60398001 0.60302932 0.60250687 0.60199027 0.60115119\n",
      " 0.60049527 0.59969145 0.59926891 0.59862913 0.59819566 0.59783731\n",
      " 0.59735768 0.59687768 0.59643528 0.59609147 0.59550717 0.59511483\n",
      " 0.59476284 0.59405783 0.59335749 0.59297397 0.59216896 0.59168419\n",
      " 0.59120126 0.59070316 0.59029254 0.5899307  0.58943255 0.58912592\n",
      " 0.58851522 0.58797733 0.58765769 0.58721387 0.58685809]\n"
     ]
    },
    {
     "data": {
      "text/plain": [
       "Text(0,0.5,'Error')"
      ]
     },
     "execution_count": 24,
     "metadata": {},
     "output_type": "execute_result"
    },
    {
     "data": {
      "image/png": "[encoded data removed]",
      "text/plain": [
       "<Figure size 432x288 with 1 Axes>"
      ]
     },
     "metadata": {},
     "output_type": "display_data"
    }
   ],
   "source": [
    "print(error_trace)\n",
    "plt.plot(error_trace)\n",
    "plt.xlabel('Total Iterations')\n",
    "plt.ylabel('Error')"
   ]
  },
  {
   "cell_type": "markdown",
   "metadata": {},
   "source": [
    "**From the plot above, we can observe that error is decreasing even after 100 iterations, thus, we need to increase the number of iterations parameter to 500.**"
   ]
  },
  {
   "cell_type": "code",
   "execution_count": 25,
   "metadata": {},
   "outputs": [],
   "source": [
    "results = trainNNs(Xenergy, Tenergy, 0.8, [0, 5, [5, 5], [10, 10]], 10, 500, classify=False)"
   ]
  },
  {
   "cell_type": "code",
   "execution_count": 26,
   "metadata": {},
   "outputs": [
    {
     "data": {
      "text/plain": [
       "[[0, 67.23126128673549, 66.91049724659926, 2.0844240188598633],\n",
       " [5, 64.52505253878603, 66.3234126737973, 108.55655550956726],\n",
       " [[5, 5], 63.8722511327169, 64.74687946187126, 134.52308464050293],\n",
       " [[10, 10], 59.14379228305728, 63.70912803100431, 233.8383641242981]]"
      ]
     },
     "execution_count": 26,
     "metadata": {},
     "output_type": "execute_result"
    }
   ],
   "source": [
    "summarize(results)"
   ]
  },
  {
   "cell_type": "code",
   "execution_count": 27,
   "metadata": {},
   "outputs": [
    {
     "data": {
      "text/plain": [
       "[[10, 10], 59.14379228305728, 63.70912803100431, 233.8383641242981]"
      ]
     },
     "execution_count": 27,
     "metadata": {},
     "output_type": "execute_result"
    }
   ],
   "source": [
    "bestNetwork(summarize(results))"
   ]
  },
  {
   "cell_type": "code",
   "execution_count": 28,
   "metadata": {},
   "outputs": [
    {
     "name": "stdout",
     "output_type": "stream",
     "text": [
      "[0.70710678 0.70293599 0.70293599 0.70293599 0.70293599 0.70293599\n",
      " 0.70293599 0.70293599 0.70293599 0.70293599 0.69556816 0.69556816\n",
      " 0.68974332 0.68974332 0.6823987  0.67520107 0.66986326 0.66519957\n",
      " 0.66137871 0.65912785 0.65686401 0.65392138 0.65222217 0.6487501\n",
      " 0.64606416 0.64298149 0.64156221 0.64074155 0.63966978 0.63786065\n",
      " 0.63674034 0.63566281 0.63430374 0.63340606 0.63284209 0.63206138\n",
      " 0.6312305  0.63057525 0.62910345 0.62870622 0.62836439 0.62797512\n",
      " 0.62692318 0.62642356 0.62530069 0.6243318  0.62353563 0.62287024\n",
      " 0.62234713 0.62190773 0.62129735 0.62032717 0.6198923  0.61938027\n",
      " 0.61817316 0.61780645 0.61727995 0.61642544 0.61605288 0.61505342\n",
      " 0.61456405 0.61383467 0.61311672 0.61274779 0.61190151 0.61132332\n",
      " 0.61059033 0.60972017 0.60938214 0.60855528 0.60805056 0.60733797\n",
      " 0.60650124 0.60593777 0.60514176 0.60474144 0.60411695 0.60385946\n",
      " 0.60329579 0.60270558 0.60219782 0.60168094 0.60110175 0.60063754\n",
      " 0.60003152 0.59948078 0.59905503 0.59822803 0.59780329 0.59727336\n",
      " 0.59647798 0.59603383 0.5951807  0.59472579 0.59394102 0.59334866\n",
      " 0.59283163 0.5923013  0.59192188 0.59155056 0.59126751 0.59093549\n",
      " 0.59042891 0.58995147 0.58959    0.58906682 0.58882531 0.58838273\n",
      " 0.58802869 0.58764663 0.58734245 0.5869695  0.58675872 0.58639666\n",
      " 0.58607886 0.58569321 0.58539009 0.58513004 0.58473682 0.58445219\n",
      " 0.58404065 0.58376033 0.58349172 0.58322955 0.58282889 0.58258658\n",
      " 0.58226866 0.58197478 0.58153235 0.58128572 0.58070908 0.58044841\n",
      " 0.58020162 0.57962148 0.57938127 0.57898326 0.57866235 0.57829394\n",
      " 0.57801853 0.57763066 0.57718933 0.57693962 0.57660009 0.57632544\n",
      " 0.57605562 0.57576302 0.57537055 0.57517416 0.57465432 0.5744824\n",
      " 0.57401161 0.57371007 0.5735345  0.57314145 0.5729381  0.57259218\n",
      " 0.5723665  0.57207473 0.57181287 0.57156076 0.5712435  0.57104574\n",
      " 0.5706865  0.57053424 0.57019897 0.56986939 0.56967957 0.56941777\n",
      " 0.56921925 0.56891022 0.5687862  0.56856561 0.56823815 0.56797763\n",
      " 0.56773297 0.56752633 0.56718117 0.56698089 0.56675267 0.56647384\n",
      " 0.56626238 0.56598976 0.56577955 0.5656018  0.56542691 0.56526806\n",
      " 0.56502696 0.56485636 0.56465985 0.56445083 0.56420704 0.56391713\n",
      " 0.56369728 0.56348042 0.56324319 0.56304241 0.56291389 0.56271103\n",
      " 0.56246851 0.56224486 0.5620711  0.5618827  0.56158103 0.56143383\n",
      " 0.56122653 0.56104751 0.56082935 0.56060346 0.56046137 0.56023248\n",
      " 0.56010388 0.55992181 0.55976123 0.55956452 0.55940253 0.55926529\n",
      " 0.55909391 0.55896237 0.55881939 0.55865716 0.55850916 0.55841147\n",
      " 0.55829847 0.55820057 0.55809128 0.55796479 0.55787038 0.5577631\n",
      " 0.55764916 0.55755297 0.55741213 0.55728487 0.55713114 0.55702065\n",
      " 0.55690781 0.55677947 0.55666719 0.5565381  0.5564219  0.55629214\n",
      " 0.55616976 0.55599854 0.55588024 0.55575063 0.55564225 0.55555076\n",
      " 0.55541187 0.55529336 0.55515478 0.55503831 0.55494881 0.55485374\n",
      " 0.55475619 0.55465192 0.5545501  0.5544556  0.55438423 0.55428145\n",
      " 0.5541893  0.5541056  0.55398516 0.55387256 0.55375806 0.55365636\n",
      " 0.55353393 0.55346847 0.55337557 0.55326502 0.55318864 0.55307514\n",
      " 0.55300483 0.5529367  0.55285064 0.55275285 0.55264849 0.55251878\n",
      " 0.55242642 0.55235525 0.55223274 0.55213918 0.55205125 0.55195912\n",
      " 0.55189562 0.55182127 0.5517323  0.55166442 0.5516101  0.55153055\n",
      " 0.55146775 0.5513938  0.55131992 0.55126626 0.55117968 0.55111893\n",
      " 0.55106887 0.55100912 0.550953   0.55086211 0.55077707 0.5507101\n",
      " 0.55064163 0.55057831 0.55051594 0.55044263 0.55038972 0.55034848\n",
      " 0.55027969 0.5502365  0.55018907 0.5501204  0.55007644 0.55000748\n",
      " 0.54996258 0.54991373 0.54984781 0.54979849 0.54973979 0.54966984\n",
      " 0.54961042 0.54955139 0.54947759 0.54942701 0.54936483 0.54930517\n",
      " 0.5492623  0.54920188 0.54914973 0.54908689 0.54904503 0.54900692\n",
      " 0.54893245 0.548881   0.54882686 0.54877693 0.54872938 0.54867649\n",
      " 0.54862188 0.54858039 0.54852993 0.54847937 0.54844071 0.54837857\n",
      " 0.54833982 0.54829018 0.54822272 0.54818193 0.5481323  0.54808729\n",
      " 0.548041   0.54799787 0.54795921 0.54792583 0.54789026 0.5478561\n",
      " 0.54782427 0.54777701 0.54774349 0.54769745 0.54765303 0.54761574\n",
      " 0.54756874 0.54753722 0.54748788 0.54744274 0.54740668 0.54736606\n",
      " 0.54733114 0.54729366 0.54724996 0.54719456 0.54715121 0.54708532\n",
      " 0.54703729 0.54699683 0.54694144 0.54690185 0.54685129 0.54681338\n",
      " 0.54677315 0.54671777 0.54666508 0.54661421 0.54655726 0.54650235\n",
      " 0.54645873 0.54640382 0.54636279 0.54631223 0.54626517 0.54622465\n",
      " 0.54617143 0.54613678 0.54607768 0.54605424 0.54599369 0.54589553\n",
      " 0.54584658 0.54579332 0.54573577 0.54565222 0.54557893 0.54552719\n",
      " 0.54548798 0.54542309 0.54538163 0.54535853 0.54529527 0.54523642\n",
      " 0.54519094 0.54516485 0.54510462 0.54504852 0.54501886 0.54497572\n",
      " 0.54492319 0.54489889 0.54485272 0.54481394 0.54478153 0.54475618\n",
      " 0.54470565 0.54468479 0.54466587 0.54464346 0.54462285 0.54461325\n",
      " 0.544574   0.54453093 0.54451664 0.54447441 0.54443911 0.54442708\n",
      " 0.54440103 0.54437282 0.54435599 0.54433368 0.5443015  0.54428062\n",
      " 0.54425452 0.54423242 0.54421171 0.54419072 0.54417251 0.54415336\n",
      " 0.54413376 0.54411156 0.54409309 0.54408544 0.54404644 0.54402902\n",
      " 0.54401418 0.54399394 0.54397036 0.54396299 0.54394359 0.54392511\n",
      " 0.54390785 0.54389492 0.54385274 0.54383947 0.5438272  0.54380507\n",
      " 0.54378346 0.54377308 0.54374392 0.54372509 0.54371456 0.54369921\n",
      " 0.54366584 0.54365235 0.54363432 0.54360937 0.54358228 0.54357032\n",
      " 0.54354091 0.543509   0.54349393 0.54346706 0.54343967 0.54341747\n",
      " 0.54340597 0.54337725 0.54335895 0.54334825 0.54332182 0.54329854\n",
      " 0.54329136 0.54326863 0.5432446  0.54322966 0.5432104  0.54318788\n",
      " 0.54317391 0.54315974 0.54312759 0.54311158 0.54309153 0.54306483\n",
      " 0.54305228 0.54303636 0.54301176]\n"
     ]
    },
    {
     "data": {
      "text/plain": [
       "Text(0,0.5,'Error')"
      ]
     },
     "execution_count": 28,
     "metadata": {},
     "output_type": "execute_result"
    },
    {
     "data": {
      "image/png": "[encoded data removed]",
      "text/plain": [
       "<Figure size 432x288 with 1 Axes>"
      ]
     },
     "metadata": {},
     "output_type": "display_data"
    }
   ],
   "source": [
    "print(error_trace)\n",
    "plt.plot(error_trace)\n",
    "plt.xlabel('Total Iterations')\n",
    "plt.ylabel('Error')"
   ]
  },
  {
   "cell_type": "markdown",
   "metadata": {},
   "source": [
    "**Thus, increasing the number of iterations to 500, brings error stability.**"
   ]
  },
  {
   "cell_type": "markdown",
   "metadata": {},
   "source": [
    "Test at least 10 different hidden layer structures.  Larger numbers of layers and units may do the best on training data, but not on testing data. Why?\n",
    "\n",
    "Now train another network with your best hidden layer structure on 0.8 of the data and use the trained network on the testing data (the remaining 0.2 of the date).  As before use `ml.partition` to produce the training and testing sets.\n",
    "\n",
    "For the testing data, plot the predicted and actual `Appliances` energy use, and the predicted and actual `lights` energy use, in two separate plots.  Discuss what you see."
   ]
  },
  {
   "cell_type": "markdown",
   "metadata": {},
   "source": [
    "**Larger numbers of layers and units do the best on training data, but not on testing data because as the number of layers and units increases, there will be high chances for overfitting of data. The network memorizes the training examples so well that it has not learned to generalize to new samples. Thus, we might get a model which performs best on training dataset but not on samples which were not part of the training set (testing data).**"
   ]
  },
  {
   "cell_type": "code",
   "execution_count": 29,
   "metadata": {},
   "outputs": [
    {
     "data": {
      "text/plain": [
       "[[0, 67.27920832218096, 66.72419247626631, 1.5099563598632812],\n",
       " [3, 65.51208216896137, 65.83350373778221, 119.44342947006226],\n",
       " [[4, 8], 63.55339292669187, 65.86749152675668, 160.77783870697021],\n",
       " [2, 66.08677855101826, 67.36304231465921, 112.5199544429779],\n",
       " [5, 64.76531884672497, 65.0910630753537, 129.81966710090637],\n",
       " [[5, 5], 63.331603783035106, 65.79357729200845, 1043.915411233902],\n",
       " [[2, 2, 2], 66.08101293753421, 67.02224540211074, 132.60122537612915],\n",
       " [4, 64.76079290439374, 65.9818407984936, 117.77788400650024],\n",
       " [[1, 2], 70.29954276626806, 70.2152610608403, 129.90643572807312],\n",
       " [[10, 10, 15, 5], 54.48752727724086, 64.0213995991909, 517.656099319458]]"
      ]
     },
     "execution_count": 29,
     "metadata": {},
     "output_type": "execute_result"
    }
   ],
   "source": [
    "results = trainNNs(Xenergy, Tenergy, 0.8, [0, 3, [4, 8], 2, 5, [5, 5], [2, 2, 2], 4, [1, 2], [10, 10, 15, 5]], 10, 600, classify=False)\n",
    "summarize(results)"
   ]
  },
  {
   "cell_type": "code",
   "execution_count": 30,
   "metadata": {},
   "outputs": [
    {
     "data": {
      "text/plain": [
       "[[10, 10, 15, 5], 54.48752727724086, 64.0213995991909, 517.656099319458]"
      ]
     },
     "execution_count": 30,
     "metadata": {},
     "output_type": "execute_result"
    }
   ],
   "source": [
    "best_network=bestNetwork(summarize(results))\n",
    "best_network"
   ]
  },
  {
   "cell_type": "code",
   "execution_count": 31,
   "metadata": {},
   "outputs": [
    {
     "data": {
      "text/plain": [
       "Text(0,0.5,'Error')"
      ]
     },
     "execution_count": 31,
     "metadata": {},
     "output_type": "execute_result"
    },
    {
     "data": {
      "image/png": "[encoded data removed]",
      "text/plain": [
       "<Figure size 432x288 with 1 Axes>"
      ]
     },
     "metadata": {},
     "output_type": "display_data"
    }
   ],
   "source": [
    "plt.plot(error_trace)\n",
    "plt.xlabel('Total Iterations')\n",
    "plt.ylabel('Error')"
   ]
  },
  {
   "cell_type": "markdown",
   "metadata": {},
   "source": [
    "**Now, train the network with the best hidden layer structure i.e. [10, 10, 15, 5] in our case**"
   ]
  },
  {
   "cell_type": "code",
   "execution_count": 32,
   "metadata": {},
   "outputs": [
    {
     "name": "stdout",
     "output_type": "stream",
     "text": [
      "(15788, 24) (15788, 2) (3947, 24) (3947, 2)\n"
     ]
    },
    {
     "data": {
      "text/plain": [
       "<Figure size 576x576 with 0 Axes>"
      ]
     },
     "metadata": {},
     "output_type": "display_data"
    }
   ],
   "source": [
    "plt.figure(figsize=(8,8))\n",
    "xTrain,tTrain,xTest,tTest = partition(Xenergy, Tenergy, fractions=[0.8,0.2], classification=False)\n",
    "print(xTrain.shape,tTrain.shape,xTest.shape,tTest.shape)\n",
    "nnR = NeuralNetwork(Xenergy.shape[1], best_network[0], Tenergy.shape[1])\n",
    "nnR.train(xTrain,tTrain,1500)\n",
    "predictTest = nnR.use(xTest)"
   ]
  },
  {
   "cell_type": "code",
   "execution_count": 33,
   "metadata": {},
   "outputs": [
    {
     "data": {
      "text/plain": [
       "Text(0,0.5,'Predicted energy use for Appliances')"
      ]
     },
     "execution_count": 33,
     "metadata": {},
     "output_type": "execute_result"
    },
    {
     "data": {
      "image/png": "[encoded data removed]",
      "text/plain": [
       "<Figure size 432x288 with 1 Axes>"
      ]
     },
     "metadata": {},
     "output_type": "display_data"
    }
   ],
   "source": [
    "plt.plot(tTest[:,0],predictTest[:,0], 'o')\n",
    "plt.xlabel('Actual energy use for Appliances')\n",
    "plt.ylabel('Predicted energy use for Appliances')"
   ]
  },
  {
   "cell_type": "markdown",
   "metadata": {},
   "source": [
    "## Observation:\n",
    "\n",
    "The above plot is a plot of actual values and predicted values for Appliances energy use. Ideally, if the target values and predicted values match perfectly, the plot would have points aligned at 45 degree. But in our case, the points are scattered indicating the predicted values are not exact match of target."
   ]
  },
  {
   "cell_type": "code",
   "execution_count": 34,
   "metadata": {},
   "outputs": [
    {
     "data": {
      "text/plain": [
       "<matplotlib.legend.Legend at 0x12fb7e41828>"
      ]
     },
     "execution_count": 34,
     "metadata": {},
     "output_type": "execute_result"
    },
    {
     "data": {
      "image/png": "[encoded data removed]",
      "text/plain": [
       "<Figure size 432x288 with 1 Axes>"
      ]
     },
     "metadata": {},
     "output_type": "display_data"
    }
   ],
   "source": [
    "plt.plot(tTest[:,0],label='Actual energy use for Appliances')\n",
    "plt.plot(predictTest[:,0],label='Predicted energy use for Appliances')\n",
    "plt.legend()"
   ]
  },
  {
   "cell_type": "markdown",
   "metadata": {},
   "source": [
    "## Observation:\n",
    "\n",
    "The above plot shows the predicted values over target values. The predicted values do not match target values always as the network has overall mean test error of 64%."
   ]
  },
  {
   "cell_type": "code",
   "execution_count": 35,
   "metadata": {},
   "outputs": [
    {
     "data": {
      "text/plain": [
       "Text(0,0.5,'Predicted energy use for Lights')"
      ]
     },
     "execution_count": 35,
     "metadata": {},
     "output_type": "execute_result"
    },
    {
     "data": {
      "image/png": "[encoded data removed]",
      "text/plain": [
       "<Figure size 432x288 with 1 Axes>"
      ]
     },
     "metadata": {},
     "output_type": "display_data"
    }
   ],
   "source": [
    "plt.plot(tTest[:,1],predictTest[:,1], 'o')\n",
    "plt.xlabel('Actual energy use for Lights')\n",
    "plt.ylabel('Predicted energy use for Lights')"
   ]
  },
  {
   "cell_type": "markdown",
   "metadata": {},
   "source": [
    "## Observation:\n",
    "\n",
    "From the plot above, it can be concluded that the prediced and actual values are not same at all points. For a perfect network, the graph would have points aligned at 45 degrees."
   ]
  },
  {
   "cell_type": "code",
   "execution_count": 36,
   "metadata": {},
   "outputs": [
    {
     "data": {
      "text/plain": [
       "<matplotlib.legend.Legend at 0x12fb7d83240>"
      ]
     },
     "execution_count": 36,
     "metadata": {},
     "output_type": "execute_result"
    },
    {
     "data": {
      "image/png": "[encoded data removed]",
      "text/plain": [
       "<Figure size 432x288 with 1 Axes>"
      ]
     },
     "metadata": {},
     "output_type": "display_data"
    }
   ],
   "source": [
    "plt.plot(tTest[:,1],label='Actual energy use for Lights')\n",
    "plt.plot(predictTest[:,1],label='Predicted energy use for Lights')\n",
    "plt.legend()"
   ]
  },
  {
   "cell_type": "markdown",
   "metadata": {},
   "source": [
    "## Observation:\n",
    "\n",
    "The trained network has predicted values different than the target values on some points."
   ]
  },
  {
   "cell_type": "markdown",
   "metadata": {},
   "source": [
    "## Data for Classification Experiment\n",
    "\n",
    "From the UCI Machine Learning Repository, download the [Anuran Calls (MFCCs)](http://archive.ics.uci.edu/ml/datasets/Anuran+Calls+%28MFCCs%29) data.  You can do this by visiting the Data Folder for this data set, or just do this:\n",
    "\n",
    "     !wget 'http://archive.ics.uci.edu/ml/machine-learning-databases/00406/Anuran Calls (MFCCs).zip'\n",
    "     !unzip Anuran*zip\n",
    "     \n",
    "Read the data in the file `Frogs_MFCCs.csv` into python.  This will be a little tricky. Each line of the file is a sample of audio features plus three columns that label the sample by family, genus, and species. We will try to predict the species.  The tricky part is that the species is given as text.  We need to convert this to a target class, as an integer. The `numpy` function `unique` will come in handy here."
   ]
  },
  {
   "cell_type": "code",
   "execution_count": 37,
   "metadata": {},
   "outputs": [],
   "source": [
    "dataRead = np.loadtxt(\"Frogs_MFCCs.csv\",delimiter=',',dtype='str')\n",
    "data=dataRead[1:,:]\n",
    "dataFloat=dataRead[1:,1:22].astype(np.float)\n",
    "species=data[:,24]\n",
    "speciesClass=np.unique(species)\n",
    "speciesList=speciesClass.tolist()\n",
    "list1, list2 = speciesList, [0,1,2,3,4,5,6,7,8,9]\n",
    "classes=dict( zip( list1, list2)) \n",
    "\n",
    "# Convert the target ie Species to integer values\n",
    "speciesData=[]\n",
    "for i in range(len(species)):\n",
    "    speciesData.append(classes.get(species[i]))\n",
    "modifiedSpecies=np.asarray(speciesData)\n",
    "modifiedSpecies=np.reshape(modifiedSpecies,(len(speciesData),1))\n",
    "\n",
    "dataString=dataRead[1:,22:23]\n",
    "dataRecord=dataRead[1:,25].astype(np.float)\n",
    "Xanuran=dataFloat\n",
    "Tanuran=modifiedSpecies"
   ]
  },
  {
   "cell_type": "code",
   "execution_count": 38,
   "metadata": {},
   "outputs": [
    {
     "data": {
      "text/plain": [
       "((7195, 21), (7195, 1))"
      ]
     },
     "execution_count": 38,
     "metadata": {},
     "output_type": "execute_result"
    }
   ],
   "source": [
    "Xanuran.shape, Tanuran.shape"
   ]
  },
  {
   "cell_type": "code",
   "execution_count": 39,
   "metadata": {},
   "outputs": [
    {
     "data": {
      "text/plain": [
       "array([[ 0.1529363 , -0.1055859 ,  0.20072191,  0.31720106,  0.26076385,\n",
       "         0.10094464, -0.1500626 , -0.17112763,  0.12467644,  0.18865415,\n",
       "        -0.07562172, -0.15643593,  0.08224512,  0.13575204, -0.02401665,\n",
       "        -0.10835111, -0.07762252, -0.0095678 ,  0.05768398,  0.11868014,\n",
       "         0.01403845],\n",
       "       [ 0.17153426, -0.09897474,  0.26842522,  0.33867186,  0.2683531 ,\n",
       "         0.06083509, -0.22247464, -0.20769267,  0.17088287,  0.27095828,\n",
       "        -0.09500394, -0.25434147,  0.02278623,  0.1633201 ,  0.01202228,\n",
       "        -0.09097401, -0.05650952, -0.03530336,  0.02013996,  0.08226299,\n",
       "         0.02905574]])"
      ]
     },
     "execution_count": 39,
     "metadata": {},
     "output_type": "execute_result"
    }
   ],
   "source": [
    "Xanuran[:2,:]"
   ]
  },
  {
   "cell_type": "code",
   "execution_count": 40,
   "metadata": {},
   "outputs": [
    {
     "data": {
      "text/plain": [
       "array([[0],\n",
       "       [0]])"
      ]
     },
     "execution_count": 40,
     "metadata": {},
     "output_type": "execute_result"
    }
   ],
   "source": [
    "Tanuran[:2]"
   ]
  },
  {
   "cell_type": "code",
   "execution_count": 41,
   "metadata": {},
   "outputs": [
    {
     "name": "stdout",
     "output_type": "stream",
     "text": [
      "672 samples in class 0\n",
      "3478 samples in class 1\n",
      "542 samples in class 2\n",
      "310 samples in class 3\n",
      "472 samples in class 4\n",
      "1121 samples in class 5\n",
      "270 samples in class 6\n",
      "114 samples in class 7\n",
      "68 samples in class 8\n",
      "148 samples in class 9\n"
     ]
    }
   ],
   "source": [
    "for i in range(10):\n",
    "    print('{} samples in class {}'.format(np.sum(Tanuran==i), i))"
   ]
  },
  {
   "cell_type": "code",
   "execution_count": 42,
   "metadata": {},
   "outputs": [],
   "source": [
    "results = trainNNs(Xanuran, Tanuran, 0.8, [0, 5, [5, 5]], 5, 100, classify=True)"
   ]
  },
  {
   "cell_type": "code",
   "execution_count": 43,
   "metadata": {},
   "outputs": [
    {
     "data": {
      "text/plain": [
       "[[0, 0.028179291174426684, 0.03280055594162613, 1.308464765548706],\n",
       " [5, 0.03780403057678944, 0.049617790132036134, 4.245641708374023],\n",
       " [[5, 5], 0.05020847810979847, 0.0561501042390549, 4.625623464584351]]"
      ]
     },
     "execution_count": 43,
     "metadata": {},
     "output_type": "execute_result"
    }
   ],
   "source": [
    "summarize(results)"
   ]
  },
  {
   "cell_type": "code",
   "execution_count": 44,
   "metadata": {},
   "outputs": [
    {
     "data": {
      "text/plain": [
       "[0, 0.028179291174426684, 0.03280055594162613, 1.308464765548706]"
      ]
     },
     "execution_count": 44,
     "metadata": {},
     "output_type": "execute_result"
    }
   ],
   "source": [
    "bestNetwork(summarize(results))"
   ]
  },
  {
   "cell_type": "code",
   "execution_count": 45,
   "metadata": {},
   "outputs": [
    {
     "data": {
      "text/plain": [
       "Text(0,0.5,'Error')"
      ]
     },
     "execution_count": 45,
     "metadata": {},
     "output_type": "execute_result"
    },
    {
     "data": {
      "image/png": "[encoded data removed]",
      "text/plain": [
       "<Figure size 432x288 with 1 Axes>"
      ]
     },
     "metadata": {},
     "output_type": "display_data"
    }
   ],
   "source": [
    "plt.plot(error_trace)\n",
    "plt.xlabel('Total Iterations')\n",
    "plt.ylabel('Error')"
   ]
  },
  {
   "cell_type": "markdown",
   "metadata": {},
   "source": [
    "Now do an investigation like you did for the regression data. \n",
    "\n",
    "Test at least 10 different hidden layer structures. Then train another network with your best hidden layer structure on 0.8 of the data and use the trained network on the testing data (the remaining 0.2 of the date). \n",
    "\n",
    "Plot the predicted and actual `Species` for the testing data as an integer.  Discuss what you see."
   ]
  },
  {
   "cell_type": "code",
   "execution_count": 46,
   "metadata": {},
   "outputs": [],
   "source": [
    "results = trainNNs(Xanuran, Tanuran, 0.8, [0, 5, [5, 5], 2, [4, 3, 7], [3, 10, 12], 6, [9, 4], [10, 10, 10, 5], [2]*5], 10, 200, classify=True)"
   ]
  },
  {
   "cell_type": "code",
   "execution_count": 47,
   "metadata": {},
   "outputs": [
    {
     "data": {
      "text/plain": [
       "[[0, 0.02696316886726894, 0.03481584433634468, 5.584058523178101],\n",
       " [5, 0.03314801945795691, 0.04364141765114663, 19.51179599761963],\n",
       " [[5, 5], 0.030715774843641415, 0.045795691452397494, 4909.576181173325],\n",
       " [2, 0.13069840166782484, 0.13259207783182766, 28.806341886520386],\n",
       " [[4, 3, 7], 0.06864141765114663, 0.07859624739402363, 19.180910110473633],\n",
       " [[3, 10, 12], 0.051911049339819326, 0.06323835997220292, 26.6629056930542],\n",
       " [6, 0.020396108408617095, 0.03439888811674774, 24.656365394592285],\n",
       " [[9, 4], 0.018710910354412785, 0.04107018763029882, 32.99570345878601],\n",
       " [[10, 10, 10, 5],\n",
       "  0.02211605281445448,\n",
       "  0.041487143849895755,\n",
       "  44.133835792541504],\n",
       " [[2, 2, 2, 2, 2], 0.285406532314107, 0.29457956914523975, 26.636954307556152]]"
      ]
     },
     "execution_count": 47,
     "metadata": {},
     "output_type": "execute_result"
    }
   ],
   "source": [
    "summarize(results)"
   ]
  },
  {
   "cell_type": "code",
   "execution_count": 48,
   "metadata": {},
   "outputs": [
    {
     "data": {
      "text/plain": [
       "[6, 0.020396108408617095, 0.03439888811674774, 24.656365394592285]"
      ]
     },
     "execution_count": 48,
     "metadata": {},
     "output_type": "execute_result"
    }
   ],
   "source": [
    "best_network=bestNetwork(summarize(results))\n",
    "best_network"
   ]
  },
  {
   "cell_type": "markdown",
   "metadata": {},
   "source": [
    "**Now, train the network with the best structure.**"
   ]
  },
  {
   "cell_type": "code",
   "execution_count": 49,
   "metadata": {},
   "outputs": [
    {
     "data": {
      "image/png": "[encoded data removed]",
      "text/plain": [
       "<Figure size 576x432 with 1 Axes>"
      ]
     },
     "metadata": {},
     "output_type": "display_data"
    }
   ],
   "source": [
    "xTrain,tTrain,xTest,tTest = partition(Xanuran, Tanuran, fractions=[0.8,0.2], classification=True)\n",
    "nnC = NeuralNetworkClassifier(Xanuran.shape[1], best_network[0], len(np.unique(Tanuran)))\n",
    "nnC.train(xTrain,tTrain,1500)\n",
    "Ptrain,Prtrain,_ = nnC.use(xTrain,allOutputs=True)\n",
    "Ptest,Prtest,_ = nnC.use(xTest,allOutputs=True)\n",
    "# plt.subplot(2,1,1)\n",
    "# plt.plot(np.hstack((tTrain,Ptrain)), '.')\n",
    "# plt.legend(('Actual','Predicted'))\n",
    "# plt.subplot(2,1,2)\n",
    "plt.figure(figsize=(8,6))\n",
    "plt.plot(np.hstack((tTest,Ptest)), '.')\n",
    "plt.legend(('Actual','Predicted'));"
   ]
  },
  {
   "cell_type": "code",
   "execution_count": 50,
   "metadata": {},
   "outputs": [
    {
     "data": {
      "text/plain": [
       "<matplotlib.collections.PathCollection at 0x12fb7da51d0>"
      ]
     },
     "execution_count": 50,
     "metadata": {},
     "output_type": "execute_result"
    },
    {
     "data": {
      "image/png": "[encoded data removed]",
      "text/plain": [
       "<Figure size 432x288 with 1 Axes>"
      ]
     },
     "metadata": {},
     "output_type": "display_data"
    }
   ],
   "source": [
    "plt.scatter(tTest,Ptest)"
   ]
  },
  {
   "cell_type": "markdown",
   "metadata": {},
   "source": [
    "## Observation\n",
    "\n",
    "In the plot above, there are some points where the actual and predicted values do not match."
   ]
  },
  {
   "cell_type": "code",
   "execution_count": 51,
   "metadata": {},
   "outputs": [
    {
     "data": {
      "text/plain": [
       "Text(0,0.5,'Error')"
      ]
     },
     "execution_count": 51,
     "metadata": {},
     "output_type": "execute_result"
    },
    {
     "data": {
      "image/png": "[encoded data removed]",
      "text/plain": [
       "<Figure size 432x288 with 1 Axes>"
      ]
     },
     "metadata": {},
     "output_type": "display_data"
    }
   ],
   "source": [
    "plt.plot(error_trace)\n",
    "plt.xlabel('Total Iterations')\n",
    "plt.ylabel('Error')"
   ]
  },
  {
   "cell_type": "markdown",
   "metadata": {},
   "source": [
    "## Observation\n",
    "\n",
    "The error decreases drastically within 25 iterations and becomes stable to a minimum over 200 iterations"
   ]
  },
  {
   "cell_type": "code",
   "execution_count": 52,
   "metadata": {},
   "outputs": [
    {
     "name": "stdout",
     "output_type": "stream",
     "text": [
      "       0    1    2    3    4    5    6    7    8    9\n",
      "    ------------------------------------------------------------\n",
      " 0 | 89.6  0    4.5  0.7  2.2  0.7  0    0.7  0.7  0.7   (134 / 134)\n",
      " 1 |  0   99.1  0    0.1  0    0.6  0    0.1  0    0     (696 / 696)\n",
      " 2 |  0    0   98.1  0.9  0    0    0    0    0.9  0     (108 / 108)\n",
      " 3 |  0    1.6  8.1 85.5  0    3.2  0    0    0    1.6   (62 / 62)\n",
      " 4 |  1.1  0    0    0   95.7  2.1  0    1.1  0    0     (94 / 94)\n",
      " 5 |  0    0.4  0    0.9  0.9 95.1  2.2  0.4  0    0     (224 / 224)\n",
      " 6 |  0    0    0    1.9  0    0   98.1  0    0    0     (54 / 54)\n",
      " 7 |  0    0    0    0   17.4 26.1  0   56.5  0    0     (23 / 23)\n",
      " 8 |  0    0    0    7.1  0    0    0    0   92.9  0     (14 / 14)\n",
      " 9 |  0    0    0    3.3  0    3.3  0    0    0   93.3   (30 / 30)\n",
      "{'AdenomeraAndre': 0, 'AdenomeraHylaedactylus': 1, 'Ameeregatrivittata': 2, 'HylaMinuta': 3, 'HypsiboasCinerascens': 4, 'HypsiboasCordobae': 5, 'LeptodactylusFuscus': 6, 'OsteocephalusOophagus': 7, 'Rhinellagranulosa': 8, 'ScinaxRuber': 9}\n"
     ]
    }
   ],
   "source": [
    "cm = ml.confusionMatrix(tTest,Ptest,np.unique(tTest))\n",
    "print(classes)"
   ]
  },
  {
   "cell_type": "markdown",
   "metadata": {},
   "source": [
    "## Observation:\n",
    "\n",
    "** From the confusion matrix, it can be seen that the trained neural network was able to classify 'AdenomeraHylaedactylus': 1 with high accuracy followed by 'HypsiboasCinerascens': 4. Maximum misclassifications were observed in species 'Rhinellagranulosa': 8**"
   ]
  },
  {
   "cell_type": "markdown",
   "metadata": {},
   "source": [
    "## Grading\n",
    "\n",
    "Download [A5grader.tar](http://www.cs.colostate.edu/~anderson/cs440/notebooks/A5grader.tar) and extract `A5grader.py` from it."
   ]
  },
  {
   "cell_type": "code",
   "execution_count": 53,
   "metadata": {
    "scrolled": true
   },
   "outputs": [
    {
     "name": "stdout",
     "output_type": "stream",
     "text": [
      "\n",
      "======================= Code Execution =======================\n",
      "\n",
      "\n",
      "Testing summarize([[[1,1], [1.2, 1.3, 1.4], [2.2, 2.3, 2.4], 0.5], [[2,2,2], [4.4, 4.3, 4.2], [6.5, 6.4, 6.3], 0.6]])\n",
      "\n",
      "--- 10/10 points. Correctly returned [[[1, 1], 1.3, 2.3000000000000003, 0.5], [[2, 2, 2], 4.3, 6.3999999999999995, 0.6]]\n",
      "\n",
      "Testing bestNetwork([[[1, 1], 1.3, 2.3, 0.5], [[2, 2, 2], 4.3, 1.3, 0.6]])\n",
      "\n",
      "--- 10/10 points. Correctly returned [[2, 2, 2], 4.3, 1.3, 0.6]\n",
      "\n",
      "X = np.random.uniform(-1, 1, (100, 3))\n",
      "T = np.hstack(((X**2 - 0.2*X**3).sum(axis=1,keepdims=True),\n",
      "               (np.sin(X)).sum(axis=1,keepdims=True)))\n",
      "result = trainNNs(X, T, 0.7, [0, 5, 10, [20, 20]], 10, 100, False)\n",
      "\n",
      "--- 20/20 points. Correct.\n",
      "\n",
      "Testing bestNetwork(summarize(result))\n",
      "\n",
      "--- 20/20 points. You correctly found that network [20, 20] is best.\n",
      "\n",
      "C:\\Users\\NAMITA\\Desktop\\440 AI NN notes Execution Grade is 60 / 60\n",
      "\n",
      "======================= The regression data set =======================\n",
      "\n",
      "--- _ / 5 points. Read the data in energydata_complete.csv into variables Xenergy and Tenergy.\n",
      "\n",
      "--- _ / 5 points. Train some networks by calling the NeuralNetwork constructor and train method and plot the error trace to help you decide now many iterations might be needed.\n",
      "\n",
      "--- _ / 5 points. Try at least 10 different hidden layer structures using trainNNs.\n",
      "\n",
      "--- _ / 5 points. Train another network with your best hidden layer structure on 0.8 of the data and test it on remaining 0.2 of the data. Plot the predicted and actual Appliances energy use, and the predicted and actual lights energy use, in two separate plots. Discuss what you see.\n",
      "\n",
      "======================= Classification data set =======================\n",
      "\n",
      "--- _ / 5 points. Read the data in Frogs_MFCCs.csv into variables Xanuran and Tanuran.\n",
      "\n",
      "--- _ / 5 points. Train some networks by calling the NeuralNetwork constructor and train method and plot the error trace to help you decide now many iterations might be needed.\n",
      "\n",
      "--- _ / 5 points. Try at least 10 different hidden layer structures using trainNNs.\n",
      "\n",
      "--- _ / 5 points. Train another network with your best hidden layer structure on 0.8 of the data and test it on remaining 0.2 of the data. Plot the predicted and actual class labels. Discuss what you see.\n",
      "\n",
      "C:\\Users\\NAMITA\\Desktop\\440 AI NN notes Notebook Grade is   / 40\n",
      "\n",
      "C:\\Users\\NAMITA\\Desktop\\440 AI NN notes FINAL GRADE is  / 100\n",
      "\n",
      "\n",
      "C:\\Users\\NAMITA\\Desktop\\440 AI NN notes EXTRA CREDIT is  / 1\n"
     ]
    },
    {
     "data": {
      "text/plain": [
       "<Figure size 432x288 with 0 Axes>"
      ]
     },
     "metadata": {},
     "output_type": "display_data"
    }
   ],
   "source": [
    "%run -i \"A5grader.py\""
   ]
  },
  {
   "cell_type": "markdown",
   "metadata": {},
   "source": [
    "## Extra Credit\n",
    "\n",
    "  2. Repeat the above regression and classification experiments with a second regression data set and a second classification data set.\n",
    "  \n",
    "  2. Since you are collecting the performance of all repetitions for each network structure, you can calculate a confidence interval about the mean, to help judge significant differences. Do this for either the regression or the classification data and plot the mean test performance with confidence intervals for each network structure tested.  Discuss the statistical significance of the differences among the means.  One website I found to help with this is the site [Correct way to obtain confidence interval with scipy](https://stackoverflow.com/questions/28242593/correct-way-to-obtain-confidence-interval-with-scipy).\n",
    "  \n"
   ]
  },
  {
   "cell_type": "markdown",
   "metadata": {},
   "source": [
    "## Regression"
   ]
  },
  {
   "cell_type": "markdown",
   "metadata": {},
   "source": [
    "Here, I have used the [wine quality](http://archive.ics.uci.edu/ml/datasets/Wine+Quality) dataset.\n"
   ]
  },
  {
   "cell_type": "code",
   "execution_count": 54,
   "metadata": {},
   "outputs": [],
   "source": [
    "RedWine_Data=pd.read_csv(\"winequality-red.csv\", delimiter=\";\", header=None)\n",
    "RedWine_DataFrame=pd.DataFrame(RedWine_Data)\n",
    "Redwine_data=RedWine_DataFrame.drop(index=0)                  # Drop 1st row i.e. Column Tags\n",
    "RedWineData=Redwine_data.reset_index(drop=True)               # Reset index to 0\n",
    "RedWine_xData = RedWineData.iloc[0:1600, 0:11]\n",
    "RedWine_xData=RedWine_xData.astype(np.float)\n",
    "RedWine_yData = RedWineData.iloc[0:1600, 11]\n",
    "# Standardization of Features\n",
    "Mean_xData=RedWine_xData.mean(axis=0)                         # Compute Mean\n",
    "Std_xData=RedWine_xData.std(axis=0)                           # Compute Standard Deviation \n",
    "Standardized_xData=(RedWine_xData-Mean_xData)/Std_xData       # Formula: (x-Mean)/Standard Deviation\n",
    "x_features = Standardized_xData.astype(np.float)              # features\n",
    "y_labels = RedWine_yData.astype(np.float)                     # labels\n",
    "x_features=x_features.values.reshape(x_features.shape[0],x_features.shape[1])\n",
    "y_labels=y_labels.values.reshape(y_labels.shape[0],1)"
   ]
  },
  {
   "cell_type": "code",
   "execution_count": 55,
   "metadata": {},
   "outputs": [
    {
     "data": {
      "text/plain": [
       "((1599, 11), (1599, 1))"
      ]
     },
     "execution_count": 55,
     "metadata": {},
     "output_type": "execute_result"
    }
   ],
   "source": [
    "x_features.shape,y_labels.shape"
   ]
  },
  {
   "cell_type": "code",
   "execution_count": 56,
   "metadata": {},
   "outputs": [],
   "source": [
    "results = trainNNs(x_features, y_labels, 0.8, [0, 5, [5, 5], [10, 10]], 10, 500, classify=False)"
   ]
  },
  {
   "cell_type": "code",
   "execution_count": 57,
   "metadata": {},
   "outputs": [
    {
     "data": {
      "text/plain": [
       "[[0, 0.6447165358037645, 0.6531475514430067, 0.12799453735351562],\n",
       " [5, 0.5789853648630207, 0.6537194931324967, 13.603897333145142],\n",
       " [[5, 5], 0.5463290169441373, 0.6749660216500881, 14.603965282440186],\n",
       " [[10, 10], 0.42515906753837224, 0.766123942316008, 9.299984216690063]]"
      ]
     },
     "execution_count": 57,
     "metadata": {},
     "output_type": "execute_result"
    }
   ],
   "source": [
    "summarize(results)"
   ]
  },
  {
   "cell_type": "code",
   "execution_count": 58,
   "metadata": {},
   "outputs": [
    {
     "data": {
      "text/plain": [
       "[0, 0.6447165358037645, 0.6531475514430067, 0.12799453735351562]"
      ]
     },
     "execution_count": 58,
     "metadata": {},
     "output_type": "execute_result"
    }
   ],
   "source": [
    "best_network=bestNetwork(summarize(results))\n",
    "best_network"
   ]
  },
  {
   "cell_type": "code",
   "execution_count": 59,
   "metadata": {},
   "outputs": [
    {
     "data": {
      "text/plain": [
       "Text(0,0.5,'Error')"
      ]
     },
     "execution_count": 59,
     "metadata": {},
     "output_type": "execute_result"
    },
    {
     "data": {
      "image/png": "[encoded data removed]",
      "text/plain": [
       "<Figure size 432x288 with 1 Axes>"
      ]
     },
     "metadata": {},
     "output_type": "display_data"
    }
   ],
   "source": [
    "plt.plot(error_trace)\n",
    "plt.xlabel('Total Iterations')\n",
    "plt.ylabel('Error')"
   ]
  },
  {
   "cell_type": "markdown",
   "metadata": {},
   "source": [
    "## Observation:\n",
    "\n",
    "The error decreases to a minimum in 500 iterations."
   ]
  },
  {
   "cell_type": "code",
   "execution_count": 60,
   "metadata": {},
   "outputs": [],
   "source": [
    "results = trainNNs(x_features, y_labels, 0.8, [0, 2, 4, 5, [5, 5], [2, 3], [1, 2, 3], [2, 2], 6, [2]*4], 10, 500, classify=False)"
   ]
  },
  {
   "cell_type": "code",
   "execution_count": 61,
   "metadata": {},
   "outputs": [
    {
     "data": {
      "text/plain": [
       "[[0, 0.6478593835217399, 0.6398658963496278, 0.07599902153015137],\n",
       " [2, 0.6196728895416727, 0.6252509150100384, 5.231991767883301],\n",
       " [4, 0.5891197611890571, 0.6364395810261538, 5.451992750167847],\n",
       " [5, 0.5806788361888479, 0.6334965111761068, 5.667987108230591],\n",
       " [[5, 5], 0.5418384955928935, 0.7048371090312414, 9.58798360824585],\n",
       " [[2, 3], 0.6081538381745257, 0.654316653191569, 5.63999080657959],\n",
       " [[1, 2, 3], 0.6405379685980436, 0.6476405792286986, 6.030189037322998],\n",
       " [[2, 2], 0.6139624669466819, 0.6373641121864679, 9.724068403244019],\n",
       " [6, 0.5684342996137692, 0.6572291055751383, 11.38441014289856],\n",
       " [[2, 2, 2, 2], 0.6138735453803288, 0.646609190622185, 13.138209581375122]]"
      ]
     },
     "execution_count": 61,
     "metadata": {},
     "output_type": "execute_result"
    }
   ],
   "source": [
    "summarize(results)"
   ]
  },
  {
   "cell_type": "code",
   "execution_count": 62,
   "metadata": {},
   "outputs": [
    {
     "data": {
      "text/plain": [
       "[2, 0.6196728895416727, 0.6252509150100384, 5.231991767883301]"
      ]
     },
     "execution_count": 62,
     "metadata": {},
     "output_type": "execute_result"
    }
   ],
   "source": [
    "best_network=bestNetwork(summarize(results))\n",
    "best_network"
   ]
  },
  {
   "cell_type": "code",
   "execution_count": 63,
   "metadata": {},
   "outputs": [
    {
     "data": {
      "text/plain": [
       "Text(0,0.5,'Error')"
      ]
     },
     "execution_count": 63,
     "metadata": {},
     "output_type": "execute_result"
    },
    {
     "data": {
      "image/png": "[encoded data removed]",
      "text/plain": [
       "<Figure size 432x288 with 1 Axes>"
      ]
     },
     "metadata": {},
     "output_type": "display_data"
    }
   ],
   "source": [
    "plt.plot(error_trace)\n",
    "plt.xlabel('Total Iterations')\n",
    "plt.ylabel('Error')"
   ]
  },
  {
   "cell_type": "markdown",
   "metadata": {},
   "source": [
    "## Observation:\n",
    "\n",
    "On increasing the number of hidden layers, the error drastically decreases within 100 iterations and becomes stable."
   ]
  },
  {
   "cell_type": "code",
   "execution_count": 64,
   "metadata": {},
   "outputs": [
    {
     "name": "stdout",
     "output_type": "stream",
     "text": [
      "(1279, 11) (1279, 1) (320, 11) (320, 1)\n"
     ]
    },
    {
     "data": {
      "text/plain": [
       "<Figure size 576x576 with 0 Axes>"
      ]
     },
     "metadata": {},
     "output_type": "display_data"
    }
   ],
   "source": [
    "# Training with the best network\n",
    "plt.figure(figsize=(8,8))\n",
    "xTrain,tTrain,xTest,tTest = partition(x_features, y_labels, fractions=[0.8,0.2], classification=False)\n",
    "print(xTrain.shape,tTrain.shape,xTest.shape,tTest.shape)\n",
    "nnR = NeuralNetwork(x_features.shape[1], best_network[0], y_labels.shape[1])\n",
    "nnR.train(xTrain,tTrain,1500)\n",
    "predictTest = nnR.use(xTest)"
   ]
  },
  {
   "cell_type": "code",
   "execution_count": 65,
   "metadata": {},
   "outputs": [
    {
     "data": {
      "text/plain": [
       "Text(0,0.5,'Predicted wine quality')"
      ]
     },
     "execution_count": 65,
     "metadata": {},
     "output_type": "execute_result"
    },
    {
     "data": {
      "image/png": "[encoded data removed]",
      "text/plain": [
       "<Figure size 432x288 with 1 Axes>"
      ]
     },
     "metadata": {},
     "output_type": "display_data"
    }
   ],
   "source": [
    "plt.plot(tTest,predictTest, 'o')\n",
    "plt.xlabel('Actual wine quality')\n",
    "plt.ylabel('Predicted wine quality')"
   ]
  },
  {
   "cell_type": "code",
   "execution_count": 66,
   "metadata": {},
   "outputs": [
    {
     "data": {
      "text/plain": [
       "<matplotlib.legend.Legend at 0x12fb78d4898>"
      ]
     },
     "execution_count": 66,
     "metadata": {},
     "output_type": "execute_result"
    },
    {
     "data": {
      "image/png": "[encoded data removed]",
      "text/plain": [
       "<Figure size 432x288 with 1 Axes>"
      ]
     },
     "metadata": {},
     "output_type": "display_data"
    }
   ],
   "source": [
    "plt.plot(tTest,label='Actual wine quality')\n",
    "plt.plot(predictTest,label='Predicted wine quality')\n",
    "plt.legend()"
   ]
  },
  {
   "cell_type": "markdown",
   "metadata": {},
   "source": [
    "## Observation:\n",
    "\n",
    "The network is not able to predict values accurately at all times. Thus, we can see that the predicted values plot does not exactly follow the actual values plot."
   ]
  },
  {
   "cell_type": "code",
   "execution_count": 68,
   "metadata": {},
   "outputs": [
    {
     "name": "stdout",
     "output_type": "stream",
     "text": [
      "Interval [(0.6324377779303106, 0.6472940147689449), (0.6190392150592048, 0.631462614960872), (0.62723295709492, 0.6456462049573877), (0.6249331831555687, 0.642059839196645), (0.6945267518849445, 0.7151474661775383), (0.6456644680619058, 0.6629688383212321), (0.6391529826630515, 0.6561281757943456), (0.6293756207174033, 0.6453526036555326), (0.6508706698236668, 0.6635875413266097), (0.6391925280212235, 0.6540258532231465)]\n",
      "Mean [0.6398658963496278, 0.6252509150100384, 0.6364395810261538, 0.6334965111761068, 0.7048371090312414, 0.654316653191569, 0.6476405792286986, 0.6373641121864679, 0.6572291055751383, 0.646609190622185]\n"
     ]
    },
    {
     "data": {
      "text/plain": [
       "<matplotlib.legend.Legend at 0x12fb79b2da0>"
      ]
     },
     "execution_count": 68,
     "metadata": {},
     "output_type": "execute_result"
    },
    {
     "data": {
      "image/png": "[encoded data removed]",
      "text/plain": [
       "<Figure size 432x288 with 1 Axes>"
      ]
     },
     "metadata": {},
     "output_type": "display_data"
    }
   ],
   "source": [
    "from scipy import stats\n",
    "import numpy as np\n",
    "testMean=[]\n",
    "testStd=[]\n",
    "confInt=[]\n",
    "for i in range(len(results)):\n",
    "    test_mean=np.mean(results[i][2])\n",
    "    testMean.append(test_mean)\n",
    "    test_std=np.std(results[i][2])\n",
    "    testStd.append(test_std)\n",
    "    conf_int = stats.norm.interval(0.68, loc=test_mean, scale=test_std / np.sqrt(len(results[i][2])))\n",
    "    confInt.append(conf_int)\n",
    "print('Interval',confInt)\n",
    "print('Mean',testMean)\n",
    "plt.plot(confInt, label='Confidence Interval')\n",
    "plt.plot(testMean, label='Mean')\n",
    "plt.legend()"
   ]
  },
  {
   "cell_type": "markdown",
   "metadata": {},
   "source": [
    "## Classification"
   ]
  },
  {
   "cell_type": "markdown",
   "metadata": {},
   "source": [
    "I am using QSAR dataset which is a binary classification datatset:\n",
    "* The [QSAR](http://archive.ics.uci.edu/ml/datasets/QSAR+biodegradation) data for predicting the biochemical activity of a molecule."
   ]
  },
  {
   "cell_type": "code",
   "execution_count": 69,
   "metadata": {},
   "outputs": [
    {
     "data": {
      "text/plain": [
       "((1055, 41), (1055, 1))"
      ]
     },
     "execution_count": 69,
     "metadata": {},
     "output_type": "execute_result"
    }
   ],
   "source": [
    "qsar_data = np.loadtxt(\"biodeg.csv\", delimiter=\";\",dtype='str')\n",
    "x_Data = qsar_data[0:1055, 0:41].astype(np.float)                  #features\n",
    "y_Data = qsar_data[0:1055, 41]                    #labels\n",
    "# making col 41 values numerical\n",
    "y_Data = np.where(y_Data == \"RB\", 1, 0)\n",
    "y_qsar=np.reshape(y_Data,(len(y_Data),1))\n",
    "x_qsar=x_Data\n",
    "x_qsar.shape,y_qsar.shape"
   ]
  },
  {
   "cell_type": "code",
   "execution_count": 70,
   "metadata": {},
   "outputs": [
    {
     "name": "stdout",
     "output_type": "stream",
     "text": [
      "699 samples in class 0\n",
      "356 samples in class 1\n"
     ]
    }
   ],
   "source": [
    "for i in range(2):\n",
    "    print('{} samples in class {}'.format(np.sum(y_qsar==i), i))"
   ]
  },
  {
   "cell_type": "code",
   "execution_count": 71,
   "metadata": {},
   "outputs": [],
   "source": [
    "results = trainNNs(x_qsar, y_qsar, 0.8, [0, 5, [10, 12], [5,5,5]], 5, 500, classify=True)"
   ]
  },
  {
   "cell_type": "code",
   "execution_count": 72,
   "metadata": {},
   "outputs": [
    {
     "data": {
      "text/plain": [
       "[[0, 0.11350710900473933, 0.13364928909952606, 2.4413444995880127],\n",
       " [5, 0.01018957345971564, 0.15545023696682464, 6.131326675415039],\n",
       " [[10, 12], 0.0, 0.18862559241706162, 7.922283172607422],\n",
       " [[5, 5, 5], 0.006872037914691943, 0.18578199052132702, 10.720668077468872]]"
      ]
     },
     "execution_count": 72,
     "metadata": {},
     "output_type": "execute_result"
    }
   ],
   "source": [
    "summarize(results)"
   ]
  },
  {
   "cell_type": "code",
   "execution_count": 73,
   "metadata": {},
   "outputs": [
    {
     "data": {
      "text/plain": [
       "[0, 0.11350710900473933, 0.13364928909952606, 2.4413444995880127]"
      ]
     },
     "execution_count": 73,
     "metadata": {},
     "output_type": "execute_result"
    }
   ],
   "source": [
    "bestNetwork(summarize(results))"
   ]
  },
  {
   "cell_type": "code",
   "execution_count": 74,
   "metadata": {},
   "outputs": [
    {
     "data": {
      "text/plain": [
       "Text(0,0.5,'Error')"
      ]
     },
     "execution_count": 74,
     "metadata": {},
     "output_type": "execute_result"
    },
    {
     "data": {
      "image/png": "[encoded data removed]",
      "text/plain": [
       "<Figure size 432x288 with 1 Axes>"
      ]
     },
     "metadata": {},
     "output_type": "display_data"
    }
   ],
   "source": [
    "plt.plot(error_trace)\n",
    "plt.xlabel('Total Iterations')\n",
    "plt.ylabel('Error')"
   ]
  },
  {
   "cell_type": "markdown",
   "metadata": {},
   "source": [
    "**Within 500 iterations, the network achieves minimum error**"
   ]
  },
  {
   "cell_type": "code",
   "execution_count": 75,
   "metadata": {},
   "outputs": [],
   "source": [
    "results = trainNNs(x_qsar, y_qsar, 0.8, [0, 5, [5, 5], 2, [4, 3, 7], [3, 10, 12], 6, [9, 4], [10, 10, 10, 5], [2]*5], 10, 200, classify=True)"
   ]
  },
  {
   "cell_type": "code",
   "execution_count": 76,
   "metadata": {},
   "outputs": [
    {
     "data": {
      "text/plain": [
       "[[0, 0.11101895734597156, 0.13270142180094785, 1.9933791160583496],\n",
       " [5, 0.015521327014218012, 0.14549763033175356, 4.92720365524292],\n",
       " [[5, 5], 0.01504739336492891, 0.14644549763033174, 6.539151906967163],\n",
       " [2, 0.06919431279620854, 0.14502369668246445, 4.017928838729858],\n",
       " [[4, 3, 7], 0.02618483412322275, 0.15071090047393362, 7.776026487350464],\n",
       " [[3, 10, 12], 0.03898104265402843, 0.14028436018957344, 7.5332190990448],\n",
       " [6, 0.008767772511848342, 0.14928909952606634, 5.038617372512817],\n",
       " [[9, 4], 0.0018957345971563982, 0.15497630331753554, 8.228344678878784],\n",
       " [[10, 10, 10, 5],\n",
       "  0.007345971563981042,\n",
       "  0.15118483412322276,\n",
       "  10.520211935043335],\n",
       " [[2, 2, 2, 2, 2],\n",
       "  0.06812796208530805,\n",
       "  0.16113744075829384,\n",
       "  8.326980590820312]]"
      ]
     },
     "execution_count": 76,
     "metadata": {},
     "output_type": "execute_result"
    }
   ],
   "source": [
    "summarize(results)"
   ]
  },
  {
   "cell_type": "code",
   "execution_count": 77,
   "metadata": {},
   "outputs": [
    {
     "data": {
      "text/plain": [
       "[0, 0.11101895734597156, 0.13270142180094785, 1.9933791160583496]"
      ]
     },
     "execution_count": 77,
     "metadata": {},
     "output_type": "execute_result"
    }
   ],
   "source": [
    "best_network=bestNetwork(summarize(results))\n",
    "best_network"
   ]
  },
  {
   "cell_type": "code",
   "execution_count": 78,
   "metadata": {},
   "outputs": [
    {
     "data": {
      "text/plain": [
       "Text(0,0.5,'Error')"
      ]
     },
     "execution_count": 78,
     "metadata": {},
     "output_type": "execute_result"
    },
    {
     "data": {
      "image/png": "[encoded data removed]",
      "text/plain": [
       "<Figure size 432x288 with 1 Axes>"
      ]
     },
     "metadata": {},
     "output_type": "display_data"
    }
   ],
   "source": [
    "plt.plot(error_trace)\n",
    "plt.xlabel('Total Iterations')\n",
    "plt.ylabel('Error')"
   ]
  },
  {
   "cell_type": "markdown",
   "metadata": {},
   "source": [
    "**Now, training the network on the best hidden structure**"
   ]
  },
  {
   "cell_type": "code",
   "execution_count": 79,
   "metadata": {},
   "outputs": [
    {
     "name": "stdout",
     "output_type": "stream",
     "text": [
      "       0    1\n",
      "    ------------\n",
      " 0 | 87.9 12.1   (140 / 140)\n",
      " 1 | 18.3 81.7   (71 / 71)\n"
     ]
    }
   ],
   "source": [
    "xTrain,tTrain,xTest,tTest = partition(x_qsar, y_qsar, fractions=[0.8,0.2], classification=True)\n",
    "nnC = NeuralNetworkClassifier(x_qsar.shape[1], best_network[0], len(np.unique(y_qsar)))\n",
    "nnC.train(xTrain,tTrain,1500)\n",
    "Ptrain,Prtrain,_ = nnC.use(xTrain,allOutputs=True)\n",
    "Ptest,Prtest,_ = nnC.use(xTest,allOutputs=True)\n",
    "cm = ml.confusionMatrix(tTest,Ptest,np.unique(tTest))"
   ]
  },
  {
   "cell_type": "markdown",
   "metadata": {},
   "source": [
    "**We can say that the network classified class 0: 90% accurately and class 1: 82% accurately**"
   ]
  }
 ],
 "metadata": {
  "anaconda-cloud": {},
  "kernelspec": {
   "display_name": "Python 3",
   "language": "python",
   "name": "python3"
  },
  "language_info": {
   "codemirror_mode": {
    "name": "ipython",
    "version": 3
   },
   "file_extension": ".py",
   "mimetype": "text/x-python",
   "name": "python",
   "nbconvert_exporter": "python",
   "pygments_lexer": "ipython3",
   "version": "3.6.5"
  },
  "toc": {
   "nav_menu": {},
   "number_sections": true,
   "sideBar": true,
   "skip_h1_title": false,
   "toc_cell": false,
   "toc_position": {},
   "toc_section_display": "block",
   "toc_window_display": false
  }
 },
 "nbformat": 4,
 "nbformat_minor": 1
}
