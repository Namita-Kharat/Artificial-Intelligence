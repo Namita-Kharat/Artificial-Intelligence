{
 "cells": [
  {
   "cell_type": "markdown",
   "metadata": {},
   "source": [
    "# Assignment 2: Iterative-Deepening Search"
   ]
  },
  {
   "cell_type": "markdown",
   "metadata": {},
   "source": [
    "*Namita Kharat*"
   ]
  },
  {
   "cell_type": "markdown",
   "metadata": {},
   "source": [
    "## Overview"
   ]
  },
  {
   "cell_type": "markdown",
   "metadata": {},
   "source": [
    "Implement the iterative-deepening search algorithm as discussed in our Week 2 lecture notes and as shown in figures 3.17 and 3.18 in our text book. Apply it to the 8-puzzle and a second puzzle of your choice. "
   ]
  },
  {
   "cell_type": "markdown",
   "metadata": {},
   "source": [
    "## Iterative-Deepening Search"
   ]
  },
  {
   "cell_type": "markdown",
   "metadata": {},
   "source": [
    "Iterative deepening search is a state space/graph search strategy in which a depth-limited version of depth-first search is run repeatedly with increasing depth limits until the goal is found. If a depth-limited depth-first search limited to depth l does not find the goal, try again with limit at l+1. This is continued until goal is found.Depth-limited depth-first search is completed by repeatedly applying it with greater values for the depth limit l."
   ]
  },
  {
   "cell_type": "markdown",
   "metadata": {},
   "source": [
    "## Required Code"
   ]
  },
  {
   "cell_type": "markdown",
   "metadata": {},
   "source": [
    "In this jupyter notebook, implement the following functions:\n",
    "\n",
    "  * `iterativeDeepeningSearch(startState, goalState, actionsF, takeActionF, maxDepth)`\n",
    "  * `depthLimitedSearch(startState, goalState, actionsF, takeActionF, depthLimit)`\n",
    "  \n",
    "`depthLimitedSearch` is called by `iterativeDeepeningSearch` with `depthLimit`s of $0, 1, \\ldots, $ `maxDepth`. Both must return either the solution path as a list of states, or the strings `cutoff` or `failure`.  `failure` signifies that all states were searched and the goal was not found. \n",
    "\n",
    "Each receives the arguments\n",
    "\n",
    "  * the starting state, \n",
    "  * the goal state,\n",
    "  * a function `actionsF` that is given a state and returns a list of valid actions from that state,\n",
    "  * a function `takeActionF` that is given a state and an action and returns the new state that results from applying the action to the state,\n",
    "  * either a `depthLimit` for `depthLimitedSearch`, or `maxDepth` for `iterativeDeepeningSearch`."
   ]
  },
  {
   "cell_type": "markdown",
   "metadata": {},
   "source": [
    "Use your solution to solve the 8-puzzle.\n",
    "Implement the state of the puzzle as a list of integers. 0 represents the empty position. \n",
    "\n",
    "Required functions for the 8-puzzle are the following.\n",
    "\n",
    "  * `findBlank_8p(state)`: return the row and column index for the location of the blank (the 0 value).\n",
    "  * `actionsF_8p(state)`: returns a list of up to four valid actions that can be applied in `state`. Return them in the order `left`, `right`, `up`, `down`, though only if each one is a valid action.\n",
    "  * `takeActionF_8p(state, action)`: return the state that results from applying `action` in `state`.\n",
    "  * `printPath_8p(startState, goalState, path)`: print a solution path in a readable form.  You choose the format."
   ]
  },
  {
   "cell_type": "markdown",
   "metadata": {},
   "source": [
    "<font color='red'>Also</font>, implement a second search problem of your choice.  Apply your `iterativeDeepeningSearch` function to it."
   ]
  },
  {
   "cell_type": "markdown",
   "metadata": {},
   "source": [
    "Insert your function definitions in this notebook."
   ]
  },
  {
   "cell_type": "code",
   "execution_count": 97,
   "metadata": {},
   "outputs": [],
   "source": [
    "def printState_8p(startState):\n",
    "    copyState=startState[:]                          #copy of startState is created\n",
    "    for i in range(len(copyState)):\n",
    "        if copyState[i]==0:\n",
    "            copyState[i]=\"-\"\n",
    "    state1=copyState[:3]\n",
    "    state2=copyState[3:6]\n",
    "    state3=copyState[6:9]\n",
    "    print(\"\",*state1,\"\\n\",*state2,\"\\n\",*state3)\n",
    "\n",
    "def printPath_8p(startState, goalState, path):\n",
    "    print(\"Path From \")\n",
    "    printState_8p(startState)                       # Function call\n",
    "    print(\" to \")\n",
    "    printState_8p(goalState)\n",
    "    print(\"is \",len(path),\" nodes long\")\n",
    "    for p in path:\n",
    "        printState_8p(p)\n",
    "        print()\n",
    "\n",
    "def findBlank_8p(startState):\n",
    "    nest1=startState[:3]\n",
    "    nest2=startState[3:6]\n",
    "    nest3=startState[6:9]\n",
    "    nestList=[nest1,nest2,nest3]                    #Nested List is created\n",
    "    for i in nestList:\n",
    "        if 0 in i:\n",
    "            return (nestList.index(i),i.index(0))\n",
    "\n",
    "def actionsF_8p(startState):\n",
    "    blankIndex=findBlank_8p(startState)            #Get the index of blank element\n",
    "    validActions=[]\n",
    "    if blankIndex[1] in (1,2):                     #Column of blank index is checked\n",
    "        validActions.append(\"left\")\n",
    "    if blankIndex[1] in (0,1):                     #Column of blank index is checked\n",
    "        validActions.append(\"right\")\n",
    "    if blankIndex[0] in (1,2):                     #Row of blank index is checked\n",
    "        validActions.append(\"up\")\n",
    "    if blankIndex[0] in (0,1):                     #Row of blank index is checked\n",
    "        validActions.append(\"down\")\n",
    "    return validActions\n",
    "\n",
    "def takeActionF_8p(startState, action):\n",
    "    nst1=startState[:3]\n",
    "    nst2=startState[3:6]\n",
    "    nst3=startState[6:9]\n",
    "    nstList=[nst1,nst2,nst3]\n",
    "    blankInd=findBlank_8p(startState)              #Get the index of blank element\n",
    "    if action=='left':\n",
    "        newIndex=(blankInd[0],blankInd[1]-1)\n",
    "        nstList[newIndex[0]][newIndex[1]],nstList[blankInd[0]][blankInd[1]]=nstList[blankInd[0]][blankInd[1]],nstList[newIndex[0]][newIndex[1]]\n",
    "        result=[y for sublist in nstList for y in sublist]\n",
    "        return result\n",
    "    if action=='right':\n",
    "        newIndex=(blankInd[0],blankInd[1]+1)\n",
    "        nstList[newIndex[0]][newIndex[1]],nstList[blankInd[0]][blankInd[1]]=nstList[blankInd[0]][blankInd[1]],nstList[newIndex[0]][newIndex[1]]\n",
    "        result=[y for sublist in nstList for y in sublist]\n",
    "        return result\n",
    "    if action=='up':\n",
    "        newIndex=(blankInd[0]-1,blankInd[1])\n",
    "        nstList[newIndex[0]][newIndex[1]],nstList[blankInd[0]][blankInd[1]]=nstList[blankInd[0]][blankInd[1]],nstList[newIndex[0]][newIndex[1]]\n",
    "        result=[y for sublist in nstList for y in sublist]\n",
    "        return result\n",
    "    if action=='down':\n",
    "        newIndex=(blankInd[0]+1,blankInd[1])\n",
    "        nstList[newIndex[0]][newIndex[1]],nstList[blankInd[0]][blankInd[1]]=nstList[blankInd[0]][blankInd[1]],nstList[newIndex[0]][newIndex[1]]\n",
    "        result=[y for sublist in nstList for y in sublist]\n",
    "        return result\n",
    "    \n",
    "def depthLimitedSearch(state, goalState, actionsF, takeActionF, depthLimit):\n",
    "    if state == goalState:\n",
    "        return []\n",
    "    if depthLimit == 0:\n",
    "        return \"cutoff\"\n",
    "    cutoffOccurred = False\n",
    "    for action in actionsF(state):\n",
    "        childState = takeActionF(state, action)\n",
    "        result = depthLimitedSearch(childState, goalState, actionsF, takeActionF, depthLimit-1)\n",
    "        if result == 'cutoff':\n",
    "            cutoffOccurred = True\n",
    "        elif result is not 'failure':\n",
    "            result=[childState]+result\n",
    "            return result\n",
    "    if cutoffOccurred:\n",
    "        return 'cutoff'\n",
    "    else:\n",
    "        return 'failure'\n",
    "\n",
    "def iterativeDeepeningSearch(startState, goalState, actionsF, takeActionF, maxDepth):\n",
    "    for depth in range(maxDepth):\n",
    "        result = depthLimitedSearch(startState, goalState, actionsF, takeActionF, depth)\n",
    "        if result is 'failure':\n",
    "            return 'failure'\n",
    "        if result is not 'cutoff':\n",
    "            #Add startState to front of solution path, in result, returned by depthLimitedSearch\n",
    "            result=[startState]+result\n",
    "            return result\n",
    "    return 'cutoff'"
   ]
  },
  {
   "cell_type": "markdown",
   "metadata": {},
   "source": [
    "## DESCRIPTION"
   ]
  },
  {
   "cell_type": "markdown",
   "metadata": {},
   "source": [
    "**printState_8p(startState) function:** \n",
    "A copy of the original list(startState) was created to avoid changes in the startState.I have used slicing to generate 3 new lists from the startState list and *list_name to print these sublists in the expected format.\n",
    "\n",
    "**findBlank_8p(startState) function:** \n",
    "A nested list is created using the sublists of startState list and this list is then traversed to give the index of '0' element.\n",
    "\n",
    "**actionsF_8p(startState) function:**\n",
    "A null list of validActions is created and appended with left, right, up and down based on the index of blank(0) element in the list. Example:\n",
    "1. if the column index of blank element is not 0, validActions list is appended with 'left'\n",
    "2. if the column index of blank element is not 2, validActions list is appended with 'right'\n",
    "3. if the row index of blank element is not 0, validActions list is appended with 'up'\n",
    "4. if the row index of blank element is not 2, validActions list is appended with 'down'\n",
    "\n",
    "**takeActionF_8p(startState, action) function:** \n",
    "To get the blank index, findBlank_8p(startState) function is called. Then, based on the action input of the function, new index for the element to be swapped with the blank element is calculated as follows:\n",
    "1. For action='left':\n",
    "      Row of New Index= Row of Blank Index and \n",
    "      Column of New Index= Column of Blank Index -1\n",
    "2. For action='right':\n",
    "      Row of New Index= Row of Blank Index and \n",
    "      Column of New Index= Column of Blank Index +1\n",
    "3. For action='up':\n",
    "      Column of New Index= Column of Blank Index and \n",
    "      Row of New Index= Row of Blank Index -1\n",
    "4. For action='right':\n",
    "      Column of New Index= Column of Blank Index and \n",
    "      Row of New Index= Row of Blank Index +1\n",
    "\n",
    "**depthLimitedSearch(state, goalState, actionsF, takeActionF, depthLimit) function:**\n",
    "With startState=[1,0,3,4,2,5,6,7,8], the output of actionsF() is 'left', 'right' and 'down'. Child state is generated using takeActionF() for each actionsF() output and the depthLimitedSearch() is recurssively called with decrementing the depth limit counter. If the depth limit is reached to 0, then cutoff is returned and goal state is not reached. In this case, increase the depth limit than the one used previously to call the function.\n",
    "\n",
    "**iterativeDeepeningSearch(startState, goalState, actionsF, takeActionF, maxDepth) function:**\n",
    "depthLimitedSearch() is called for range of the maxDepth parameter, and if the result is neither 'cutoff' nor 'failure', result is appended for each call of the depthLimitedSearch() function.\n"
   ]
  },
  {
   "cell_type": "markdown",
   "metadata": {},
   "source": [
    "Here are some example results."
   ]
  },
  {
   "cell_type": "code",
   "execution_count": 53,
   "metadata": {},
   "outputs": [],
   "source": [
    "startState = [1, 0, 3, 4, 2, 5, 6, 7, 8]"
   ]
  },
  {
   "cell_type": "code",
   "execution_count": 54,
   "metadata": {},
   "outputs": [
    {
     "name": "stdout",
     "output_type": "stream",
     "text": [
      " 1 - 3 \n",
      " 4 2 5 \n",
      " 6 7 8\n"
     ]
    }
   ],
   "source": [
    "printState_8p(startState)  # not a required function for this assignment, but it helps when implementing printPath_8p"
   ]
  },
  {
   "cell_type": "code",
   "execution_count": 55,
   "metadata": {},
   "outputs": [
    {
     "data": {
      "text/plain": [
       "(0, 1)"
      ]
     },
     "execution_count": 55,
     "metadata": {},
     "output_type": "execute_result"
    }
   ],
   "source": [
    "findBlank_8p(startState)"
   ]
  },
  {
   "cell_type": "code",
   "execution_count": 56,
   "metadata": {},
   "outputs": [
    {
     "data": {
      "text/plain": [
       "['left', 'right', 'down']"
      ]
     },
     "execution_count": 56,
     "metadata": {},
     "output_type": "execute_result"
    }
   ],
   "source": [
    "actionsF_8p(startState)"
   ]
  },
  {
   "cell_type": "code",
   "execution_count": 57,
   "metadata": {},
   "outputs": [
    {
     "data": {
      "text/plain": [
       "[1, 2, 3, 4, 0, 5, 6, 7, 8]"
      ]
     },
     "execution_count": 57,
     "metadata": {},
     "output_type": "execute_result"
    }
   ],
   "source": [
    "takeActionF_8p(startState, 'down')"
   ]
  },
  {
   "cell_type": "code",
   "execution_count": 58,
   "metadata": {},
   "outputs": [
    {
     "name": "stdout",
     "output_type": "stream",
     "text": [
      " 1 2 3 \n",
      " 4 - 5 \n",
      " 6 7 8\n"
     ]
    }
   ],
   "source": [
    "printState_8p(takeActionF_8p(startState, 'down'))"
   ]
  },
  {
   "cell_type": "code",
   "execution_count": 59,
   "metadata": {},
   "outputs": [],
   "source": [
    "goalState = takeActionF_8p(startState, 'down')"
   ]
  },
  {
   "cell_type": "code",
   "execution_count": 60,
   "metadata": {},
   "outputs": [],
   "source": [
    "newState = takeActionF_8p(startState, 'down')"
   ]
  },
  {
   "cell_type": "code",
   "execution_count": 61,
   "metadata": {},
   "outputs": [
    {
     "data": {
      "text/plain": [
       "True"
      ]
     },
     "execution_count": 61,
     "metadata": {},
     "output_type": "execute_result"
    }
   ],
   "source": [
    "newState == goalState"
   ]
  },
  {
   "cell_type": "code",
   "execution_count": 62,
   "metadata": {},
   "outputs": [
    {
     "data": {
      "text/plain": [
       "[1, 0, 3, 4, 2, 5, 6, 7, 8]"
      ]
     },
     "execution_count": 62,
     "metadata": {},
     "output_type": "execute_result"
    }
   ],
   "source": [
    "startState"
   ]
  },
  {
   "cell_type": "code",
   "execution_count": 63,
   "metadata": {
    "scrolled": true
   },
   "outputs": [
    {
     "data": {
      "text/plain": [
       "[[0, 1, 3, 4, 2, 5, 6, 7, 8],\n",
       " [1, 0, 3, 4, 2, 5, 6, 7, 8],\n",
       " [1, 2, 3, 4, 0, 5, 6, 7, 8]]"
      ]
     },
     "execution_count": 63,
     "metadata": {},
     "output_type": "execute_result"
    }
   ],
   "source": [
    "path = depthLimitedSearch(startState, goalState, actionsF_8p, takeActionF_8p, 3)\n",
    "path"
   ]
  },
  {
   "cell_type": "markdown",
   "metadata": {},
   "source": [
    "Notice that `depthLimitedSearch` result is missing the start state.  This is inserted by `iterativeDeepeningSearch`.\n",
    "\n",
    "But, when we try `iterativeDeepeningSearch` to do the same search, it finds a shorter path!"
   ]
  },
  {
   "cell_type": "code",
   "execution_count": 64,
   "metadata": {
    "scrolled": true
   },
   "outputs": [
    {
     "data": {
      "text/plain": [
       "[[1, 0, 3, 4, 2, 5, 6, 7, 8], [1, 2, 3, 4, 0, 5, 6, 7, 8]]"
      ]
     },
     "execution_count": 64,
     "metadata": {},
     "output_type": "execute_result"
    }
   ],
   "source": [
    "path = iterativeDeepeningSearch(startState, goalState, actionsF_8p, takeActionF_8p, 3)\n",
    "path"
   ]
  },
  {
   "cell_type": "markdown",
   "metadata": {},
   "source": [
    "Also notice that the successor states are lists, not tuples.  This is okay, because the search functions for this assignment do not"
   ]
  },
  {
   "cell_type": "code",
   "execution_count": 65,
   "metadata": {},
   "outputs": [
    {
     "data": {
      "text/plain": [
       "'cutoff'"
      ]
     },
     "execution_count": 65,
     "metadata": {},
     "output_type": "execute_result"
    }
   ],
   "source": [
    "startState = [4, 7, 2, 1, 6, 5, 0, 3, 8]\n",
    "path = iterativeDeepeningSearch(startState, goalState, actionsF_8p, takeActionF_8p, 3)\n",
    "path"
   ]
  },
  {
   "cell_type": "code",
   "execution_count": 66,
   "metadata": {},
   "outputs": [
    {
     "data": {
      "text/plain": [
       "'cutoff'"
      ]
     },
     "execution_count": 66,
     "metadata": {},
     "output_type": "execute_result"
    }
   ],
   "source": [
    "startState = [4, 7, 2, 1, 6, 5, 0, 3, 8]\n",
    "path = iterativeDeepeningSearch(startState, goalState, actionsF_8p, takeActionF_8p, 5)\n",
    "path"
   ]
  },
  {
   "cell_type": "markdown",
   "metadata": {},
   "source": [
    "Humm...maybe we can't reach the goal state from this state.  We need a way to randomly generate a valid start state."
   ]
  },
  {
   "cell_type": "code",
   "execution_count": 67,
   "metadata": {},
   "outputs": [],
   "source": [
    "import random"
   ]
  },
  {
   "cell_type": "code",
   "execution_count": 68,
   "metadata": {},
   "outputs": [
    {
     "data": {
      "text/plain": [
       "'right'"
      ]
     },
     "execution_count": 68,
     "metadata": {},
     "output_type": "execute_result"
    }
   ],
   "source": [
    "random.choice(['left', 'right'])"
   ]
  },
  {
   "cell_type": "code",
   "execution_count": 69,
   "metadata": {},
   "outputs": [],
   "source": [
    "def randomStartState(goalState, actionsF, takeActionF, nSteps):\n",
    "    state = goalState\n",
    "    for i in range(nSteps):\n",
    "        state = takeActionF(state, random.choice(actionsF(state)))\n",
    "    return state"
   ]
  },
  {
   "cell_type": "code",
   "execution_count": 70,
   "metadata": {},
   "outputs": [
    {
     "data": {
      "text/plain": [
       "[0, 2, 3, 1, 4, 5, 6, 7, 8]"
      ]
     },
     "execution_count": 70,
     "metadata": {},
     "output_type": "execute_result"
    }
   ],
   "source": [
    "goalState = [1, 2, 3, 4, 0, 5, 6, 7, 8]\n",
    "randomStartState(goalState, actionsF_8p, takeActionF_8p, 10)"
   ]
  },
  {
   "cell_type": "code",
   "execution_count": 71,
   "metadata": {},
   "outputs": [
    {
     "data": {
      "text/plain": [
       "[2, 5, 3, 1, 4, 8, 7, 6, 0]"
      ]
     },
     "execution_count": 71,
     "metadata": {},
     "output_type": "execute_result"
    }
   ],
   "source": [
    "startState = randomStartState(goalState, actionsF_8p, takeActionF_8p, 50)\n",
    "startState"
   ]
  },
  {
   "cell_type": "code",
   "execution_count": 72,
   "metadata": {},
   "outputs": [
    {
     "data": {
      "text/plain": [
       "[[2, 5, 3, 1, 4, 8, 7, 6, 0],\n",
       " [2, 5, 3, 1, 4, 8, 7, 0, 6],\n",
       " [2, 5, 3, 1, 0, 8, 7, 4, 6],\n",
       " [2, 0, 3, 1, 5, 8, 7, 4, 6],\n",
       " [0, 2, 3, 1, 5, 8, 7, 4, 6],\n",
       " [1, 2, 3, 0, 5, 8, 7, 4, 6],\n",
       " [1, 2, 3, 7, 5, 8, 0, 4, 6],\n",
       " [1, 2, 3, 7, 5, 8, 4, 0, 6],\n",
       " [1, 2, 3, 7, 5, 8, 4, 6, 0],\n",
       " [1, 2, 3, 7, 5, 0, 4, 6, 8],\n",
       " [1, 2, 3, 7, 0, 5, 4, 6, 8],\n",
       " [1, 2, 3, 0, 7, 5, 4, 6, 8],\n",
       " [1, 2, 3, 4, 7, 5, 0, 6, 8],\n",
       " [1, 2, 3, 4, 7, 5, 6, 0, 8],\n",
       " [1, 2, 3, 4, 0, 5, 6, 7, 8]]"
      ]
     },
     "execution_count": 72,
     "metadata": {},
     "output_type": "execute_result"
    }
   ],
   "source": [
    "path = iterativeDeepeningSearch(startState, goalState, actionsF_8p, takeActionF_8p, 20)\n",
    "path"
   ]
  },
  {
   "cell_type": "markdown",
   "metadata": {},
   "source": [
    "Let's print out the state sequence in a readable form."
   ]
  },
  {
   "cell_type": "code",
   "execution_count": 73,
   "metadata": {},
   "outputs": [
    {
     "name": "stdout",
     "output_type": "stream",
     "text": [
      " 2 5 3 \n",
      " 1 4 8 \n",
      " 7 6 -\n",
      "\n",
      " 2 5 3 \n",
      " 1 4 8 \n",
      " 7 - 6\n",
      "\n",
      " 2 5 3 \n",
      " 1 - 8 \n",
      " 7 4 6\n",
      "\n",
      " 2 - 3 \n",
      " 1 5 8 \n",
      " 7 4 6\n",
      "\n",
      " - 2 3 \n",
      " 1 5 8 \n",
      " 7 4 6\n",
      "\n",
      " 1 2 3 \n",
      " - 5 8 \n",
      " 7 4 6\n",
      "\n",
      " 1 2 3 \n",
      " 7 5 8 \n",
      " - 4 6\n",
      "\n",
      " 1 2 3 \n",
      " 7 5 8 \n",
      " 4 - 6\n",
      "\n",
      " 1 2 3 \n",
      " 7 5 8 \n",
      " 4 6 -\n",
      "\n",
      " 1 2 3 \n",
      " 7 5 - \n",
      " 4 6 8\n",
      "\n",
      " 1 2 3 \n",
      " 7 - 5 \n",
      " 4 6 8\n",
      "\n",
      " 1 2 3 \n",
      " - 7 5 \n",
      " 4 6 8\n",
      "\n",
      " 1 2 3 \n",
      " 4 7 5 \n",
      " - 6 8\n",
      "\n",
      " 1 2 3 \n",
      " 4 7 5 \n",
      " 6 - 8\n",
      "\n",
      " 1 2 3 \n",
      " 4 - 5 \n",
      " 6 7 8\n",
      "\n"
     ]
    }
   ],
   "source": [
    "for p in path:\n",
    "    printState_8p(p)\n",
    "    print()"
   ]
  },
  {
   "cell_type": "markdown",
   "metadata": {},
   "source": [
    "Here is one way to format the search problem and solution in a readable form."
   ]
  },
  {
   "cell_type": "code",
   "execution_count": 76,
   "metadata": {},
   "outputs": [
    {
     "name": "stdout",
     "output_type": "stream",
     "text": [
      "Path From \n",
      " 2 5 3 \n",
      " 1 4 8 \n",
      " 7 6 -\n",
      " to \n",
      " 1 2 3 \n",
      " 4 - 5 \n",
      " 6 7 8\n",
      "is  15  nodes long\n",
      " 2 5 3 \n",
      " 1 4 8 \n",
      " 7 6 -\n",
      "\n",
      " 2 5 3 \n",
      " 1 4 8 \n",
      " 7 - 6\n",
      "\n",
      " 2 5 3 \n",
      " 1 - 8 \n",
      " 7 4 6\n",
      "\n",
      " 2 - 3 \n",
      " 1 5 8 \n",
      " 7 4 6\n",
      "\n",
      " - 2 3 \n",
      " 1 5 8 \n",
      " 7 4 6\n",
      "\n",
      " 1 2 3 \n",
      " - 5 8 \n",
      " 7 4 6\n",
      "\n",
      " 1 2 3 \n",
      " 7 5 8 \n",
      " - 4 6\n",
      "\n",
      " 1 2 3 \n",
      " 7 5 8 \n",
      " 4 - 6\n",
      "\n",
      " 1 2 3 \n",
      " 7 5 8 \n",
      " 4 6 -\n",
      "\n",
      " 1 2 3 \n",
      " 7 5 - \n",
      " 4 6 8\n",
      "\n",
      " 1 2 3 \n",
      " 7 - 5 \n",
      " 4 6 8\n",
      "\n",
      " 1 2 3 \n",
      " - 7 5 \n",
      " 4 6 8\n",
      "\n",
      " 1 2 3 \n",
      " 4 7 5 \n",
      " - 6 8\n",
      "\n",
      " 1 2 3 \n",
      " 4 7 5 \n",
      " 6 - 8\n",
      "\n",
      " 1 2 3 \n",
      " 4 - 5 \n",
      " 6 7 8\n",
      "\n"
     ]
    }
   ],
   "source": [
    "printPath_8p(startState, goalState, path)"
   ]
  },
  {
   "cell_type": "markdown",
   "metadata": {},
   "source": [
    "## EXAMPLE 1:"
   ]
  },
  {
   "cell_type": "markdown",
   "metadata": {},
   "source": [
    "Here, a 15-puzzle is implemented. The code is similar to the 8-puzzle except I have sliced the startState list into sublists of 4 elements."
   ]
  },
  {
   "cell_type": "code",
   "execution_count": 79,
   "metadata": {},
   "outputs": [],
   "source": [
    "def printState_15p(startState):\n",
    "    copyState=startState[:]\n",
    "    for i in range(len(copyState)):\n",
    "        if copyState[i]==0:\n",
    "            copyState[i]=\"-\"\n",
    "    state1=copyState[:4]\n",
    "    state2=copyState[4:8]\n",
    "    state3=copyState[8:12]\n",
    "    state4=copyState[12:16]\n",
    "    print(\"\",*state1,\"\\n\",*state2,\"\\n\",*state3,\"\\n\",*state4)\n",
    "\n",
    "def findBlank_15p(startState):\n",
    "    nest1=startState[:4]\n",
    "    nest2=startState[4:8]\n",
    "    nest3=startState[8:12]\n",
    "    nest4=startState[12:16]\n",
    "    nestList=[nest1,nest2,nest3,nest4]\n",
    "    for i in nestList:\n",
    "        if 0 in i:\n",
    "            return (nestList.index(i),i.index(0))\n",
    "\n",
    "def actionsF_15p(startState):\n",
    "    blankIndex=findBlank_15p(startState)\n",
    "    validActions=[]\n",
    "    if blankIndex[1] in (1,2,3):\n",
    "        validActions.append(\"left\")\n",
    "    if blankIndex[1] in (0,1,2):\n",
    "        validActions.append(\"right\")\n",
    "    if blankIndex[0] in (1,2,3):\n",
    "        validActions.append(\"up\")\n",
    "    if blankIndex[0] in (0,1,3):\n",
    "        validActions.append(\"down\")\n",
    "    return validActions\n",
    "\n",
    "def takeActionF_15p(startState, action):\n",
    "    nst1=startState[:4]\n",
    "    nst2=startState[4:8]\n",
    "    nst3=startState[8:12]\n",
    "    nst4=startState[12:16]\n",
    "    nstList=[nst1,nst2,nst3,nst4]\n",
    "    blankInd=findBlank_15p(startState)\n",
    "    if action=='left':\n",
    "        newIndex=(blankInd[0],blankInd[1]-1)\n",
    "        nstList[newIndex[0]][newIndex[1]],nstList[blankInd[0]][blankInd[1]]=nstList[blankInd[0]][blankInd[1]],nstList[newIndex[0]][newIndex[1]]\n",
    "        result=[y for sublist in nstList for y in sublist]\n",
    "        return result\n",
    "    if action=='right':\n",
    "        newIndex=(blankInd[0],blankInd[1]+1)\n",
    "        nstList[newIndex[0]][newIndex[1]],nstList[blankInd[0]][blankInd[1]]=nstList[blankInd[0]][blankInd[1]],nstList[newIndex[0]][newIndex[1]]\n",
    "        result=[y for sublist in nstList for y in sublist]\n",
    "        return result\n",
    "    if action=='up':\n",
    "        newIndex=(blankInd[0]-1,blankInd[1])\n",
    "        nstList[newIndex[0]][newIndex[1]],nstList[blankInd[0]][blankInd[1]]=nstList[blankInd[0]][blankInd[1]],nstList[newIndex[0]][newIndex[1]]\n",
    "        result=[y for sublist in nstList for y in sublist]\n",
    "        return result\n",
    "    if action=='down':\n",
    "        newIndex=(blankInd[0]+1,blankInd[1])\n",
    "        nstList[newIndex[0]][newIndex[1]],nstList[blankInd[0]][blankInd[1]]=nstList[blankInd[0]][blankInd[1]],nstList[newIndex[0]][newIndex[1]]\n",
    "        result=[y for sublist in nstList for y in sublist]\n",
    "        return result\n",
    "\n",
    "def printPath_15p(startState, goalState, path):\n",
    "    print(\"Path From \")\n",
    "    printState_15p(startState)\n",
    "    print(\" to \")\n",
    "    printState_15p(goalState)\n",
    "    print(\"is \",len(path),\" nodes long\")\n",
    "    for p in path:\n",
    "        printState_15p(p)\n",
    "        print()"
   ]
  },
  {
   "cell_type": "code",
   "execution_count": 80,
   "metadata": {},
   "outputs": [],
   "source": [
    "startState = [1, 2, 3, 4, 5, 6, 0, 8, 9, 10, 7, 11, 12, 13, 14, 15]"
   ]
  },
  {
   "cell_type": "code",
   "execution_count": 81,
   "metadata": {},
   "outputs": [
    {
     "name": "stdout",
     "output_type": "stream",
     "text": [
      " 1 2 3 4 \n",
      " 5 6 - 8 \n",
      " 9 10 7 11 \n",
      " 12 13 14 15\n"
     ]
    }
   ],
   "source": [
    "printState_15p(startState)"
   ]
  },
  {
   "cell_type": "code",
   "execution_count": 82,
   "metadata": {},
   "outputs": [
    {
     "data": {
      "text/plain": [
       "(1, 2)"
      ]
     },
     "execution_count": 82,
     "metadata": {},
     "output_type": "execute_result"
    }
   ],
   "source": [
    "findBlank_15p(startState)"
   ]
  },
  {
   "cell_type": "code",
   "execution_count": 83,
   "metadata": {},
   "outputs": [
    {
     "data": {
      "text/plain": [
       "['left', 'right', 'up', 'down']"
      ]
     },
     "execution_count": 83,
     "metadata": {},
     "output_type": "execute_result"
    }
   ],
   "source": [
    "actionsF_15p(startState)"
   ]
  },
  {
   "cell_type": "code",
   "execution_count": 84,
   "metadata": {},
   "outputs": [
    {
     "data": {
      "text/plain": [
       "[1, 2, 3, 4, 5, 6, 7, 8, 9, 10, 0, 11, 12, 13, 14, 15]"
      ]
     },
     "execution_count": 84,
     "metadata": {},
     "output_type": "execute_result"
    }
   ],
   "source": [
    "takeActionF_15p(startState, 'down')"
   ]
  },
  {
   "cell_type": "code",
   "execution_count": 85,
   "metadata": {},
   "outputs": [
    {
     "name": "stdout",
     "output_type": "stream",
     "text": [
      " 1 2 3 4 \n",
      " 5 6 7 8 \n",
      " 9 10 - 11 \n",
      " 12 13 14 15\n"
     ]
    }
   ],
   "source": [
    "printState_15p(takeActionF_15p(startState, 'down'))"
   ]
  },
  {
   "cell_type": "code",
   "execution_count": 86,
   "metadata": {},
   "outputs": [],
   "source": [
    "goalState = takeActionF_15p(startState, 'down')"
   ]
  },
  {
   "cell_type": "code",
   "execution_count": 87,
   "metadata": {},
   "outputs": [],
   "source": [
    "newState = takeActionF_15p(startState, 'down')"
   ]
  },
  {
   "cell_type": "code",
   "execution_count": 88,
   "metadata": {},
   "outputs": [
    {
     "data": {
      "text/plain": [
       "True"
      ]
     },
     "execution_count": 88,
     "metadata": {},
     "output_type": "execute_result"
    }
   ],
   "source": [
    "newState == goalState"
   ]
  },
  {
   "cell_type": "code",
   "execution_count": 89,
   "metadata": {},
   "outputs": [
    {
     "data": {
      "text/plain": [
       "[1, 2, 3, 4, 5, 6, 0, 8, 9, 10, 7, 11, 12, 13, 14, 15]"
      ]
     },
     "execution_count": 89,
     "metadata": {},
     "output_type": "execute_result"
    }
   ],
   "source": [
    "startState"
   ]
  },
  {
   "cell_type": "code",
   "execution_count": 90,
   "metadata": {},
   "outputs": [
    {
     "data": {
      "text/plain": [
       "[[1, 2, 3, 4, 5, 0, 6, 8, 9, 10, 7, 11, 12, 13, 14, 15],\n",
       " [1, 2, 3, 4, 5, 6, 0, 8, 9, 10, 7, 11, 12, 13, 14, 15],\n",
       " [1, 2, 3, 4, 5, 6, 7, 8, 9, 10, 0, 11, 12, 13, 14, 15]]"
      ]
     },
     "execution_count": 90,
     "metadata": {},
     "output_type": "execute_result"
    }
   ],
   "source": [
    "path = depthLimitedSearch(startState, goalState, actionsF_15p, takeActionF_15p, 3)\n",
    "path"
   ]
  },
  {
   "cell_type": "code",
   "execution_count": 91,
   "metadata": {},
   "outputs": [
    {
     "data": {
      "text/plain": [
       "[[1, 2, 3, 4, 5, 6, 0, 8, 9, 10, 7, 11, 12, 13, 14, 15],\n",
       " [1, 2, 3, 4, 5, 6, 7, 8, 9, 10, 0, 11, 12, 13, 14, 15]]"
      ]
     },
     "execution_count": 91,
     "metadata": {},
     "output_type": "execute_result"
    }
   ],
   "source": [
    "path = iterativeDeepeningSearch(startState, goalState, actionsF_15p, takeActionF_15p, 3)\n",
    "path"
   ]
  },
  {
   "cell_type": "code",
   "execution_count": 92,
   "metadata": {},
   "outputs": [],
   "source": [
    "import random\n",
    "random.choice(['left', 'right'])\n",
    "def randomStartState(goalState, actionsF, takeActionF, nSteps):\n",
    "    state = goalState\n",
    "    for i in range(nSteps):\n",
    "        state = takeActionF(state, random.choice(actionsF(state)))\n",
    "    return state"
   ]
  },
  {
   "cell_type": "code",
   "execution_count": 93,
   "metadata": {},
   "outputs": [
    {
     "data": {
      "text/plain": [
       "[1, 2, 0, 4, 5, 6, 3, 7, 9, 10, 11, 8, 12, 13, 14, 15]"
      ]
     },
     "execution_count": 93,
     "metadata": {},
     "output_type": "execute_result"
    }
   ],
   "source": [
    "goalState = [1, 2, 3, 4, 5, 6, 7, 8, 9, 10, 0, 11, 12, 13, 14, 15]\n",
    "randomStartState(goalState, actionsF_15p, takeActionF_15p, 10)"
   ]
  },
  {
   "cell_type": "code",
   "execution_count": 94,
   "metadata": {},
   "outputs": [
    {
     "data": {
      "text/plain": [
       "[6, 5, 2, 4, 1, 3, 11, 7, 9, 10, 0, 8, 12, 13, 14, 15]"
      ]
     },
     "execution_count": 94,
     "metadata": {},
     "output_type": "execute_result"
    }
   ],
   "source": [
    "startState = randomStartState(goalState, actionsF_15p, takeActionF_15p, 50)\n",
    "startState"
   ]
  },
  {
   "cell_type": "code",
   "execution_count": 95,
   "metadata": {},
   "outputs": [
    {
     "data": {
      "text/plain": [
       "[[6, 5, 2, 4, 1, 3, 11, 7, 9, 10, 0, 8, 12, 13, 14, 15],\n",
       " [6, 5, 2, 4, 1, 3, 0, 7, 9, 10, 11, 8, 12, 13, 14, 15],\n",
       " [6, 5, 2, 4, 1, 0, 3, 7, 9, 10, 11, 8, 12, 13, 14, 15],\n",
       " [6, 0, 2, 4, 1, 5, 3, 7, 9, 10, 11, 8, 12, 13, 14, 15],\n",
       " [0, 6, 2, 4, 1, 5, 3, 7, 9, 10, 11, 8, 12, 13, 14, 15],\n",
       " [1, 6, 2, 4, 0, 5, 3, 7, 9, 10, 11, 8, 12, 13, 14, 15],\n",
       " [1, 6, 2, 4, 5, 0, 3, 7, 9, 10, 11, 8, 12, 13, 14, 15],\n",
       " [1, 0, 2, 4, 5, 6, 3, 7, 9, 10, 11, 8, 12, 13, 14, 15],\n",
       " [1, 2, 0, 4, 5, 6, 3, 7, 9, 10, 11, 8, 12, 13, 14, 15],\n",
       " [1, 2, 3, 4, 5, 6, 0, 7, 9, 10, 11, 8, 12, 13, 14, 15],\n",
       " [1, 2, 3, 4, 5, 6, 7, 0, 9, 10, 11, 8, 12, 13, 14, 15],\n",
       " [1, 2, 3, 4, 5, 6, 7, 8, 9, 10, 11, 0, 12, 13, 14, 15],\n",
       " [1, 2, 3, 4, 5, 6, 7, 8, 9, 10, 0, 11, 12, 13, 14, 15]]"
      ]
     },
     "execution_count": 95,
     "metadata": {},
     "output_type": "execute_result"
    }
   ],
   "source": [
    "path = iterativeDeepeningSearch(startState, goalState, actionsF_15p, takeActionF_15p, 20)\n",
    "path"
   ]
  },
  {
   "cell_type": "code",
   "execution_count": 96,
   "metadata": {},
   "outputs": [
    {
     "name": "stdout",
     "output_type": "stream",
     "text": [
      "Path From \n",
      " 6 5 2 4 \n",
      " 1 3 11 7 \n",
      " 9 10 - 8 \n",
      " 12 13 14 15\n",
      " to \n",
      " 1 2 3 4 \n",
      " 5 6 7 8 \n",
      " 9 10 - 11 \n",
      " 12 13 14 15\n",
      "is  13  nodes long\n",
      " 6 5 2 4 \n",
      " 1 3 11 7 \n",
      " 9 10 - 8 \n",
      " 12 13 14 15\n",
      "\n",
      " 6 5 2 4 \n",
      " 1 3 - 7 \n",
      " 9 10 11 8 \n",
      " 12 13 14 15\n",
      "\n",
      " 6 5 2 4 \n",
      " 1 - 3 7 \n",
      " 9 10 11 8 \n",
      " 12 13 14 15\n",
      "\n",
      " 6 - 2 4 \n",
      " 1 5 3 7 \n",
      " 9 10 11 8 \n",
      " 12 13 14 15\n",
      "\n",
      " - 6 2 4 \n",
      " 1 5 3 7 \n",
      " 9 10 11 8 \n",
      " 12 13 14 15\n",
      "\n",
      " 1 6 2 4 \n",
      " - 5 3 7 \n",
      " 9 10 11 8 \n",
      " 12 13 14 15\n",
      "\n",
      " 1 6 2 4 \n",
      " 5 - 3 7 \n",
      " 9 10 11 8 \n",
      " 12 13 14 15\n",
      "\n",
      " 1 - 2 4 \n",
      " 5 6 3 7 \n",
      " 9 10 11 8 \n",
      " 12 13 14 15\n",
      "\n",
      " 1 2 - 4 \n",
      " 5 6 3 7 \n",
      " 9 10 11 8 \n",
      " 12 13 14 15\n",
      "\n",
      " 1 2 3 4 \n",
      " 5 6 - 7 \n",
      " 9 10 11 8 \n",
      " 12 13 14 15\n",
      "\n",
      " 1 2 3 4 \n",
      " 5 6 7 - \n",
      " 9 10 11 8 \n",
      " 12 13 14 15\n",
      "\n",
      " 1 2 3 4 \n",
      " 5 6 7 8 \n",
      " 9 10 11 - \n",
      " 12 13 14 15\n",
      "\n",
      " 1 2 3 4 \n",
      " 5 6 7 8 \n",
      " 9 10 - 11 \n",
      " 12 13 14 15\n",
      "\n"
     ]
    }
   ],
   "source": [
    "printPath_15p(startState, goalState, path)"
   ]
  },
  {
   "cell_type": "markdown",
   "metadata": {},
   "source": [
    "## EXAMPLE 2:"
   ]
  },
  {
   "cell_type": "markdown",
   "metadata": {},
   "source": [
    "Applying Iterative Deepening Search on a Graph "
   ]
  },
  {
   "cell_type": "code",
   "execution_count": 119,
   "metadata": {},
   "outputs": [],
   "source": [
    "import copy\n",
    "\n",
    "def successorsf(state):\n",
    "    return copy.copy(successors.get(state, []))\n",
    "\n",
    "def takeActionS(state, action):\n",
    "    return action"
   ]
  },
  {
   "cell_type": "code",
   "execution_count": 120,
   "metadata": {},
   "outputs": [
    {
     "data": {
      "text/plain": [
       "{'a': ['b', 'c', 'g'],\n",
       " 'b': ['d', 'e'],\n",
       " 'c': ['d'],\n",
       " 'd': ['e', 'f'],\n",
       " 'f': ['g'],\n",
       " 'g': ['c']}"
      ]
     },
     "execution_count": 120,
     "metadata": {},
     "output_type": "execute_result"
    }
   ],
   "source": [
    "successors = {'a':  ['b', 'c', 'g'],\n",
    "              'b':  ['d', 'e'],\n",
    "              'c':  ['d'],\n",
    "              'd':  ['e', 'f'],\n",
    "              'f':  ['g'],\n",
    "              'g':  ['c']}\n",
    "successors"
   ]
  },
  {
   "cell_type": "code",
   "execution_count": 121,
   "metadata": {},
   "outputs": [
    {
     "data": {
      "text/plain": [
       "['a', 'b', 'd', 'f']"
      ]
     },
     "execution_count": 121,
     "metadata": {},
     "output_type": "execute_result"
    }
   ],
   "source": [
    "path = iterativeDeepeningSearch('a', 'f', successorsf, takeActionS, 9)\n",
    "path"
   ]
  },
  {
   "cell_type": "markdown",
   "metadata": {},
   "source": [
    "## CONCLUSION"
   ]
  },
  {
   "cell_type": "markdown",
   "metadata": {},
   "source": [
    "We have demonstrated an iterative deepening search to solve an 8-puzzle problem. Additionally, examples of a 15-puzzle problem and a search of goal in a graph has been provided. Iterative deepening visits states multiple times which might seem wasteful, but it is not so costly, since in a tree most of the nodes are in the bottom level, so it does not matter much if the upper levels are visited multiple times."
   ]
  },
  {
   "cell_type": "markdown",
   "metadata": {},
   "source": [
    "## Extra Credit\n",
    "\n",
    "For extra credit, apply your solution to the grid example in Assignment 1 with the addition of a horizontal and vertical barrier at least three positions long.  Demonstrate the solutions found in four different pairs of start and goal states."
   ]
  },
  {
   "cell_type": "markdown",
   "metadata": {},
   "source": [
    "Added horizontal and vertical barrier at least three positions long by limiting the state input to less than 3"
   ]
  },
  {
   "cell_type": "code",
   "execution_count": 122,
   "metadata": {},
   "outputs": [],
   "source": [
    "def gridSuccessors(state):\n",
    "    row, col = state\n",
    "    # succs will be list of tuples () rather than list of lists [] because state must\n",
    "    # be an immutable type to serve as a key in dictionary of expanded nodes\n",
    "    succs = []\n",
    "    if row > 1 or col > 1:\n",
    "        return 'Row and col values should be less than 1'\n",
    "    for r in [-1, 0, 1]:   #check each row\n",
    "        for c in [-1, 0, 1]:  # check in each col\n",
    "            newr = row + r\n",
    "            newc = col + c\n",
    "            if 0 <= newr <= 9 and 0 <= newc <= 9:  \n",
    "                succs.append( (newr, newc) )\n",
    "    return succs\n",
    "\n",
    "def takeActionG(state, action):\n",
    "    return action"
   ]
  },
  {
   "cell_type": "code",
   "execution_count": 123,
   "metadata": {},
   "outputs": [
    {
     "data": {
      "text/plain": [
       "'Row and col values should be less than 1'"
      ]
     },
     "execution_count": 123,
     "metadata": {},
     "output_type": "execute_result"
    }
   ],
   "source": [
    "gridSuccessors([3,4])"
   ]
  },
  {
   "cell_type": "code",
   "execution_count": 124,
   "metadata": {},
   "outputs": [
    {
     "data": {
      "text/plain": [
       "'Row and col values should be less than 1'"
      ]
     },
     "execution_count": 124,
     "metadata": {},
     "output_type": "execute_result"
    }
   ],
   "source": [
    "gridSuccessors([2,2])"
   ]
  },
  {
   "cell_type": "code",
   "execution_count": 125,
   "metadata": {},
   "outputs": [
    {
     "data": {
      "text/plain": [
       "'Row and col values should be less than 1'"
      ]
     },
     "execution_count": 125,
     "metadata": {},
     "output_type": "execute_result"
    }
   ],
   "source": [
    "gridSuccessors([1,2])"
   ]
  },
  {
   "cell_type": "code",
   "execution_count": 126,
   "metadata": {},
   "outputs": [
    {
     "data": {
      "text/plain": [
       "[(0, 0), (0, 1), (0, 2), (1, 0), (1, 1), (1, 2), (2, 0), (2, 1), (2, 2)]"
      ]
     },
     "execution_count": 126,
     "metadata": {},
     "output_type": "execute_result"
    }
   ],
   "source": [
    "gridSuccessors([1,1])"
   ]
  },
  {
   "cell_type": "code",
   "execution_count": 127,
   "metadata": {},
   "outputs": [
    {
     "data": {
      "text/plain": [
       "[(0, 0), (1, 1), (2, 2)]"
      ]
     },
     "execution_count": 127,
     "metadata": {},
     "output_type": "execute_result"
    }
   ],
   "source": [
    "path = iterativeDeepeningSearch((0,0), (2,2), gridSuccessors, takeActionG, 9)\n",
    "path"
   ]
  },
  {
   "cell_type": "code",
   "execution_count": 128,
   "metadata": {},
   "outputs": [
    {
     "data": {
      "text/plain": [
       "[(0, 0), (0, 1), (1, 2)]"
      ]
     },
     "execution_count": 128,
     "metadata": {},
     "output_type": "execute_result"
    }
   ],
   "source": [
    "path = iterativeDeepeningSearch((0,0), (1,2), gridSuccessors, takeActionG, 9)\n",
    "path"
   ]
  },
  {
   "cell_type": "code",
   "execution_count": 129,
   "metadata": {},
   "outputs": [
    {
     "data": {
      "text/plain": [
       "[(1, 0), (1, 1), (2, 2)]"
      ]
     },
     "execution_count": 129,
     "metadata": {},
     "output_type": "execute_result"
    }
   ],
   "source": [
    "path = iterativeDeepeningSearch((1,0), (2,2), gridSuccessors, takeActionG, 9)\n",
    "path"
   ]
  },
  {
   "cell_type": "code",
   "execution_count": 130,
   "metadata": {},
   "outputs": [
    {
     "data": {
      "text/plain": [
       "[(0, 0), (1, 0), (2, 1)]"
      ]
     },
     "execution_count": 130,
     "metadata": {},
     "output_type": "execute_result"
    }
   ],
   "source": [
    "path = iterativeDeepeningSearch((0,0), (2,1), gridSuccessors, takeActionG, 9)\n",
    "path"
   ]
  }
 ],
 "metadata": {
  "anaconda-cloud": {},
  "kernelspec": {
   "display_name": "Python 3",
   "language": "python",
   "name": "python3"
  },
  "language_info": {
   "codemirror_mode": {
    "name": "ipython",
    "version": 3
   },
   "file_extension": ".py",
   "mimetype": "text/x-python",
   "name": "python",
   "nbconvert_exporter": "python",
   "pygments_lexer": "ipython3",
   "version": "3.6.5"
  }
 },
 "nbformat": 4,
 "nbformat_minor": 1
}
